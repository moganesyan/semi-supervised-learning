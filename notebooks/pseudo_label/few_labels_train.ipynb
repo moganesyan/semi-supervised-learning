{
 "cells": [
  {
   "cell_type": "code",
   "execution_count": 1,
   "source": [
    "import sys\n",
    "from pathlib import Path"
   ],
   "outputs": [],
   "metadata": {}
  },
  {
   "cell_type": "code",
   "execution_count": 2,
   "source": [
    "import numpy as np\n",
    "import tensorflow as tf\n",
    "\n",
    "from sklearn.model_selection import train_test_split"
   ],
   "outputs": [
    {
     "output_type": "stream",
     "name": "stderr",
     "text": [
      "2022-11-14 11:51:56.284136: I tensorflow/core/platform/cpu_feature_guard.cc:193] This TensorFlow binary is optimized with oneAPI Deep Neural Network Library (oneDNN) to use the following CPU instructions in performance-critical operations:  AVX2 FMA\n",
      "To enable them in other operations, rebuild TensorFlow with the appropriate compiler flags.\n",
      "2022-11-14 11:51:56.430694: E tensorflow/stream_executor/cuda/cuda_blas.cc:2981] Unable to register cuBLAS factory: Attempting to register factory for plugin cuBLAS when one has already been registered\n",
      "2022-11-14 11:51:56.937406: W tensorflow/stream_executor/platform/default/dso_loader.cc:64] Could not load dynamic library 'libnvinfer.so.7'; dlerror: libnvinfer.so.7: cannot open shared object file: No such file or directory; LD_LIBRARY_PATH: /usr/local/cuda-11.4/lib64\n",
      "2022-11-14 11:51:56.937483: W tensorflow/stream_executor/platform/default/dso_loader.cc:64] Could not load dynamic library 'libnvinfer_plugin.so.7'; dlerror: libnvinfer_plugin.so.7: cannot open shared object file: No such file or directory; LD_LIBRARY_PATH: /usr/local/cuda-11.4/lib64\n",
      "2022-11-14 11:51:56.937489: W tensorflow/compiler/tf2tensorrt/utils/py_utils.cc:38] TF-TRT Warning: Cannot dlopen some TensorRT libraries. If you would like to use Nvidia GPU with TensorRT, please make sure the missing libraries mentioned above are installed properly.\n"
     ]
    }
   ],
   "metadata": {}
  },
  {
   "cell_type": "code",
   "execution_count": 3,
   "source": [
    "sys.path.append(str(Path(\"../../ssl\").resolve()))"
   ],
   "outputs": [],
   "metadata": {}
  },
  {
   "cell_type": "code",
   "execution_count": 4,
   "source": [
    "from src.models.pi_model.pi_model import PiModel\n",
    "from src.models.pi_model.pi_model_config import PiModelConfig\n",
    "from src.trainers.basic.categorical_ce import CategoricalCETrainer\n",
    "from src.trainers.basic.categorical_ce_config import CategoricalCETrainerConfig\n",
    "from src.data_loaders.basic.categorical_ce_config import CategoricalCEDataLoaderConfig\n",
    "from src.data_loaders.basic.categorical_ce import CategoricalCEDataLoader"
   ],
   "outputs": [],
   "metadata": {}
  },
  {
   "cell_type": "markdown",
   "source": [
    "# Description\n",
    "\n",
    "In this notebook, a model will be trained on the CIFAR-10 dataset using only 20% of the labelled dataset."
   ],
   "metadata": {}
  },
  {
   "cell_type": "markdown",
   "source": [
    "## Set up Experiment"
   ],
   "metadata": {}
  },
  {
   "cell_type": "code",
   "execution_count": 5,
   "source": [
    "class TrainerConfig(CategoricalCETrainerConfig):\n",
    "    num_epochs = 200\n",
    "\n",
    "train_config = TrainerConfig()"
   ],
   "outputs": [],
   "metadata": {}
  },
  {
   "cell_type": "code",
   "execution_count": 6,
   "source": [
    "class ModelConfig(PiModelConfig):\n",
    "    input_shape = (32, 32, 3)\n",
    "    output_shape = 10\n",
    "\n",
    "model_config = ModelConfig()"
   ],
   "outputs": [],
   "metadata": {}
  },
  {
   "cell_type": "code",
   "execution_count": 7,
   "source": [
    "class DataLoaderConfig(CategoricalCEDataLoaderConfig):\n",
    "    batch_size = 64\n",
    "    num_classes = 10\n",
    "    shuffle_buffer_size = 5000 # dataset size    \n",
    "    \n",
    "    # switch augmenters off\n",
    "    blur_params = None\n",
    "    crop_params = None\n",
    "    jitter_params = None\n",
    "\n",
    "data_loader_config = DataLoaderConfig()"
   ],
   "outputs": [],
   "metadata": {}
  },
  {
   "cell_type": "markdown",
   "source": [
    "## Get Datasets"
   ],
   "metadata": {}
  },
  {
   "cell_type": "code",
   "execution_count": 8,
   "source": [
    "(x_train_full, y_train_full), (x_test_full, y_test_full) = tf.keras.datasets.cifar10.load_data()"
   ],
   "outputs": [],
   "metadata": {}
  },
  {
   "cell_type": "code",
   "execution_count": 9,
   "source": [
    "# get train dataset by subsampling 20% of the full training dataset (stratified by labels)\n",
    "# add the rest as unlabelled samples\n",
    "x_train_unlabelled, x_train_labelled, y_train_unlabelled_, y_train_labelled = train_test_split(\n",
    "    x_train_full, y_train_full,\n",
    "    stratify = y_train_full,\n",
    "    test_size = 0.20, random_state = 42\n",
    ")\n",
    "\n",
    "# cast types\n",
    "y_train_unlabelled = (-1 * np.ones_like(y_train_unlabelled_)).astype(np.int64)\n",
    "y_train_labelled = y_train_labelled.astype(np.int64)\n",
    "y_test_full = y_test_full.astype(np.int64)"
   ],
   "outputs": [],
   "metadata": {}
  },
  {
   "cell_type": "code",
   "execution_count": 10,
   "source": [
    "train_data = tf.data.Dataset.from_tensor_slices((x_train_labelled, y_train_labelled))\n",
    "val_data = tf.data.Dataset.from_tensor_slices((x_test_full, y_test_full))"
   ],
   "outputs": [
    {
     "output_type": "stream",
     "name": "stderr",
     "text": [
      "2022-11-14 11:51:58.704646: I tensorflow/stream_executor/cuda/cuda_gpu_executor.cc:980] successful NUMA node read from SysFS had negative value (-1), but there must be at least one NUMA node, so returning NUMA node zero\n",
      "2022-11-14 11:51:58.710626: I tensorflow/stream_executor/cuda/cuda_gpu_executor.cc:980] successful NUMA node read from SysFS had negative value (-1), but there must be at least one NUMA node, so returning NUMA node zero\n",
      "2022-11-14 11:51:58.711087: I tensorflow/stream_executor/cuda/cuda_gpu_executor.cc:980] successful NUMA node read from SysFS had negative value (-1), but there must be at least one NUMA node, so returning NUMA node zero\n",
      "2022-11-14 11:51:58.711969: I tensorflow/core/platform/cpu_feature_guard.cc:193] This TensorFlow binary is optimized with oneAPI Deep Neural Network Library (oneDNN) to use the following CPU instructions in performance-critical operations:  AVX2 FMA\n",
      "To enable them in other operations, rebuild TensorFlow with the appropriate compiler flags.\n",
      "2022-11-14 11:51:58.712443: I tensorflow/stream_executor/cuda/cuda_gpu_executor.cc:980] successful NUMA node read from SysFS had negative value (-1), but there must be at least one NUMA node, so returning NUMA node zero\n",
      "2022-11-14 11:51:58.712904: I tensorflow/stream_executor/cuda/cuda_gpu_executor.cc:980] successful NUMA node read from SysFS had negative value (-1), but there must be at least one NUMA node, so returning NUMA node zero\n",
      "2022-11-14 11:51:58.713376: I tensorflow/stream_executor/cuda/cuda_gpu_executor.cc:980] successful NUMA node read from SysFS had negative value (-1), but there must be at least one NUMA node, so returning NUMA node zero\n",
      "2022-11-14 11:51:59.137603: I tensorflow/stream_executor/cuda/cuda_gpu_executor.cc:980] successful NUMA node read from SysFS had negative value (-1), but there must be at least one NUMA node, so returning NUMA node zero\n",
      "2022-11-14 11:51:59.138105: I tensorflow/stream_executor/cuda/cuda_gpu_executor.cc:980] successful NUMA node read from SysFS had negative value (-1), but there must be at least one NUMA node, so returning NUMA node zero\n",
      "2022-11-14 11:51:59.138522: I tensorflow/stream_executor/cuda/cuda_gpu_executor.cc:980] successful NUMA node read from SysFS had negative value (-1), but there must be at least one NUMA node, so returning NUMA node zero\n",
      "2022-11-14 11:51:59.138918: I tensorflow/core/common_runtime/gpu/gpu_device.cc:1616] Created device /job:localhost/replica:0/task:0/device:GPU:0 with 6979 MB memory:  -> device: 0, name: NVIDIA GeForce GTX 1070 with Max-Q Design, pci bus id: 0000:01:00.0, compute capability: 6.1\n"
     ]
    }
   ],
   "metadata": {}
  },
  {
   "cell_type": "code",
   "execution_count": 11,
   "source": [
    "# create train dataset\n",
    "train_data = CategoricalCEDataLoader(train_data, data_loader_config)(training = True)"
   ],
   "outputs": [],
   "metadata": {}
  },
  {
   "cell_type": "code",
   "execution_count": 12,
   "source": [
    "# create test dataset\n",
    "val_data = CategoricalCEDataLoader(val_data, data_loader_config)(training = False)"
   ],
   "outputs": [],
   "metadata": {}
  },
  {
   "cell_type": "code",
   "execution_count": 13,
   "source": [
    "print(f\"Train dataset size: {train_data.cardinality()}\")\n",
    "print(f\"Validation dataset size: {val_data.cardinality()}\")"
   ],
   "outputs": [
    {
     "output_type": "stream",
     "name": "stdout",
     "text": [
      "Train dataset size: 157\n",
      "Validation dataset size: 157\n"
     ]
    }
   ],
   "metadata": {}
  },
  {
   "cell_type": "markdown",
   "source": [
    "# Train Model"
   ],
   "metadata": {}
  },
  {
   "cell_type": "code",
   "execution_count": 14,
   "source": [
    "model = PiModel(model_config)()"
   ],
   "outputs": [],
   "metadata": {}
  },
  {
   "cell_type": "code",
   "execution_count": 15,
   "source": [
    "trainer = CategoricalCETrainer(\n",
    "    model, train_data, train_config,\n",
    "    val_dataset = val_data)"
   ],
   "outputs": [],
   "metadata": {}
  },
  {
   "cell_type": "code",
   "execution_count": 16,
   "source": [
    "trainer.train()"
   ],
   "outputs": [
    {
     "output_type": "stream",
     "name": "stderr",
     "text": [
      "2022-11-14 11:52:00.160309: I tensorflow/stream_executor/cuda/cuda_dnn.cc:384] Loaded cuDNN version 8204\n"
     ]
    },
    {
     "output_type": "stream",
     "name": "stdout",
     "text": [
      "Training loss at epoch 0 is : 2.16. Validation loss is : 1.97. Validation acc. is : 22.98.\n",
      "Training loss at epoch 1 is : 1.89. Validation loss is : 1.80. Validation acc. is : 30.97.\n",
      "Training loss at epoch 2 is : 1.76. Validation loss is : 1.70. Validation acc. is : 36.65.\n",
      "Training loss at epoch 3 is : 1.69. Validation loss is : 1.70. Validation acc. is : 37.92.\n",
      "Training loss at epoch 4 is : 1.62. Validation loss is : 1.58. Validation acc. is : 41.47.\n",
      "Training loss at epoch 5 is : 1.57. Validation loss is : 1.54. Validation acc. is : 42.93.\n",
      "Training loss at epoch 6 is : 1.53. Validation loss is : 1.50. Validation acc. is : 44.70.\n",
      "Training loss at epoch 7 is : 1.49. Validation loss is : 1.52. Validation acc. is : 43.32.\n",
      "Training loss at epoch 8 is : 1.44. Validation loss is : 1.49. Validation acc. is : 46.65.\n",
      "Training loss at epoch 9 is : 1.40. Validation loss is : 1.47. Validation acc. is : 46.87.\n",
      "Training loss at epoch 10 is : 1.38. Validation loss is : 1.38. Validation acc. is : 50.14.\n",
      "Training loss at epoch 11 is : 1.33. Validation loss is : 1.33. Validation acc. is : 52.93.\n",
      "Training loss at epoch 12 is : 1.29. Validation loss is : 1.42. Validation acc. is : 49.56.\n",
      "Training loss at epoch 13 is : 1.28. Validation loss is : 1.33. Validation acc. is : 52.65.\n",
      "Training loss at epoch 14 is : 1.24. Validation loss is : 1.29. Validation acc. is : 53.93.\n",
      "Training loss at epoch 15 is : 1.21. Validation loss is : 1.25. Validation acc. is : 55.83.\n",
      "Training loss at epoch 16 is : 1.18. Validation loss is : 1.24. Validation acc. is : 55.63.\n",
      "Training loss at epoch 17 is : 1.16. Validation loss is : 1.21. Validation acc. is : 56.82.\n",
      "Training loss at epoch 18 is : 1.12. Validation loss is : 1.22. Validation acc. is : 56.57.\n",
      "Training loss at epoch 19 is : 1.10. Validation loss is : 1.19. Validation acc. is : 57.14.\n",
      "Training loss at epoch 20 is : 1.06. Validation loss is : 1.23. Validation acc. is : 55.27.\n",
      "Training loss at epoch 21 is : 1.06. Validation loss is : 1.20. Validation acc. is : 56.06.\n",
      "Training loss at epoch 22 is : 1.03. Validation loss is : 1.14. Validation acc. is : 59.12.\n",
      "Training loss at epoch 23 is : 1.02. Validation loss is : 1.11. Validation acc. is : 60.70.\n",
      "Training loss at epoch 24 is : 0.99. Validation loss is : 1.11. Validation acc. is : 60.83.\n",
      "Training loss at epoch 25 is : 0.97. Validation loss is : 1.12. Validation acc. is : 60.21.\n",
      "Training loss at epoch 26 is : 0.95. Validation loss is : 1.13. Validation acc. is : 59.78.\n",
      "Training loss at epoch 27 is : 0.93. Validation loss is : 1.12. Validation acc. is : 60.72.\n",
      "Training loss at epoch 28 is : 0.92. Validation loss is : 1.16. Validation acc. is : 60.31.\n",
      "Training loss at epoch 29 is : 0.88. Validation loss is : 1.10. Validation acc. is : 61.48.\n",
      "Training loss at epoch 30 is : 0.89. Validation loss is : 1.18. Validation acc. is : 58.28.\n",
      "Training loss at epoch 31 is : 0.85. Validation loss is : 1.03. Validation acc. is : 63.48.\n",
      "Training loss at epoch 32 is : 0.84. Validation loss is : 1.08. Validation acc. is : 61.75.\n",
      "Training loss at epoch 33 is : 0.82. Validation loss is : 1.09. Validation acc. is : 61.95.\n",
      "Training loss at epoch 34 is : 0.82. Validation loss is : 1.04. Validation acc. is : 63.41.\n",
      "Training loss at epoch 35 is : 0.80. Validation loss is : 1.03. Validation acc. is : 64.03.\n",
      "Training loss at epoch 36 is : 0.78. Validation loss is : 1.02. Validation acc. is : 63.86.\n",
      "Training loss at epoch 37 is : 0.76. Validation loss is : 1.08. Validation acc. is : 63.01.\n",
      "Training loss at epoch 38 is : 0.76. Validation loss is : 1.00. Validation acc. is : 65.10.\n",
      "Training loss at epoch 39 is : 0.72. Validation loss is : 1.02. Validation acc. is : 65.42.\n",
      "Training loss at epoch 40 is : 0.69. Validation loss is : 1.01. Validation acc. is : 65.46.\n",
      "Training loss at epoch 41 is : 0.69. Validation loss is : 1.14. Validation acc. is : 62.10.\n",
      "Training loss at epoch 42 is : 0.68. Validation loss is : 1.03. Validation acc. is : 65.19.\n",
      "Training loss at epoch 43 is : 0.65. Validation loss is : 1.02. Validation acc. is : 65.40.\n",
      "Training loss at epoch 44 is : 0.63. Validation loss is : 1.00. Validation acc. is : 66.38.\n",
      "Training loss at epoch 45 is : 0.62. Validation loss is : 1.06. Validation acc. is : 64.45.\n",
      "Training loss at epoch 46 is : 0.60. Validation loss is : 1.04. Validation acc. is : 65.74.\n",
      "Training loss at epoch 47 is : 0.59. Validation loss is : 1.04. Validation acc. is : 65.68.\n",
      "Training loss at epoch 48 is : 0.56. Validation loss is : 1.05. Validation acc. is : 65.59.\n",
      "Training loss at epoch 49 is : 0.56. Validation loss is : 1.03. Validation acc. is : 65.65.\n",
      "Training loss at epoch 50 is : 0.54. Validation loss is : 1.06. Validation acc. is : 65.72.\n",
      "Training loss at epoch 51 is : 0.52. Validation loss is : 1.08. Validation acc. is : 66.06.\n",
      "Training loss at epoch 52 is : 0.51. Validation loss is : 1.13. Validation acc. is : 65.09.\n",
      "Training loss at epoch 53 is : 0.49. Validation loss is : 1.06. Validation acc. is : 66.19.\n",
      "Training loss at epoch 54 is : 0.47. Validation loss is : 1.04. Validation acc. is : 67.34.\n",
      "Training loss at epoch 55 is : 0.45. Validation loss is : 1.16. Validation acc. is : 65.33.\n",
      "Training loss at epoch 56 is : 0.45. Validation loss is : 1.09. Validation acc. is : 67.02.\n",
      "Training loss at epoch 57 is : 0.41. Validation loss is : 1.13. Validation acc. is : 66.56.\n",
      "Training loss at epoch 58 is : 0.39. Validation loss is : 1.17. Validation acc. is : 66.14.\n",
      "Training loss at epoch 59 is : 0.38. Validation loss is : 1.21. Validation acc. is : 65.69.\n",
      "Training loss at epoch 60 is : 0.38. Validation loss is : 1.17. Validation acc. is : 65.75.\n",
      "Training loss at epoch 61 is : 0.33. Validation loss is : 1.24. Validation acc. is : 66.13.\n",
      "Training loss at epoch 62 is : 0.33. Validation loss is : 1.19. Validation acc. is : 67.05.\n",
      "Training loss at epoch 63 is : 0.34. Validation loss is : 1.20. Validation acc. is : 66.88.\n",
      "Training loss at epoch 64 is : 0.30. Validation loss is : 1.25. Validation acc. is : 65.66.\n",
      "Training loss at epoch 65 is : 0.28. Validation loss is : 1.31. Validation acc. is : 66.45.\n",
      "Training loss at epoch 66 is : 0.28. Validation loss is : 1.22. Validation acc. is : 67.07.\n",
      "Training loss at epoch 67 is : 0.24. Validation loss is : 1.44. Validation acc. is : 65.38.\n",
      "Training loss at epoch 68 is : 0.25. Validation loss is : 1.38. Validation acc. is : 65.22.\n",
      "Training loss at epoch 69 is : 0.23. Validation loss is : 1.41. Validation acc. is : 65.09.\n",
      "Training loss at epoch 70 is : 0.22. Validation loss is : 1.35. Validation acc. is : 67.05.\n",
      "Training loss at epoch 71 is : 0.17. Validation loss is : 1.60. Validation acc. is : 65.47.\n",
      "Training loss at epoch 72 is : 0.18. Validation loss is : 1.60. Validation acc. is : 65.26.\n",
      "Training loss at epoch 73 is : 0.20. Validation loss is : 1.51. Validation acc. is : 66.29.\n",
      "Training loss at epoch 74 is : 0.13. Validation loss is : 1.53. Validation acc. is : 66.83.\n",
      "Training loss at epoch 75 is : 0.13. Validation loss is : 1.76. Validation acc. is : 64.68.\n",
      "Training loss at epoch 76 is : 0.19. Validation loss is : 1.52. Validation acc. is : 66.49.\n",
      "Training loss at epoch 77 is : 0.14. Validation loss is : 1.60. Validation acc. is : 66.02.\n",
      "Training loss at epoch 78 is : 0.15. Validation loss is : 1.71. Validation acc. is : 66.08.\n",
      "Training loss at epoch 79 is : 0.13. Validation loss is : 1.69. Validation acc. is : 66.43.\n",
      "Training loss at epoch 80 is : 0.10. Validation loss is : 1.85. Validation acc. is : 65.69.\n",
      "Training loss at epoch 81 is : 0.09. Validation loss is : 2.00. Validation acc. is : 63.97.\n",
      "Training loss at epoch 82 is : 0.12. Validation loss is : 1.82. Validation acc. is : 65.97.\n",
      "Training loss at epoch 83 is : 0.10. Validation loss is : 1.82. Validation acc. is : 67.61.\n",
      "Training loss at epoch 84 is : 0.05. Validation loss is : 1.99. Validation acc. is : 66.52.\n",
      "Training loss at epoch 85 is : 0.13. Validation loss is : 1.75. Validation acc. is : 67.01.\n",
      "Training loss at epoch 86 is : 0.05. Validation loss is : 2.02. Validation acc. is : 65.93.\n",
      "Training loss at epoch 87 is : 0.07. Validation loss is : 1.99. Validation acc. is : 67.47.\n",
      "Training loss at epoch 88 is : 0.03. Validation loss is : 2.18. Validation acc. is : 66.08.\n",
      "Training loss at epoch 89 is : 0.07. Validation loss is : 2.42. Validation acc. is : 62.38.\n",
      "Training loss at epoch 90 is : 0.15. Validation loss is : 1.86. Validation acc. is : 66.83.\n",
      "Training loss at epoch 91 is : 0.04. Validation loss is : 2.10. Validation acc. is : 66.72.\n",
      "Training loss at epoch 92 is : 0.03. Validation loss is : 2.16. Validation acc. is : 66.51.\n",
      "Training loss at epoch 93 is : 0.11. Validation loss is : 1.85. Validation acc. is : 65.78.\n",
      "Training loss at epoch 94 is : 0.03. Validation loss is : 2.08. Validation acc. is : 67.62.\n",
      "Training loss at epoch 95 is : 0.01. Validation loss is : 2.24. Validation acc. is : 67.77.\n",
      "Training loss at epoch 96 is : 0.00. Validation loss is : 2.36. Validation acc. is : 67.76.\n",
      "Training loss at epoch 97 is : 0.00. Validation loss is : 2.46. Validation acc. is : 67.65.\n",
      "Training loss at epoch 98 is : 0.00. Validation loss is : 2.57. Validation acc. is : 67.79.\n",
      "Training loss at epoch 99 is : 0.05. Validation loss is : 2.56. Validation acc. is : 61.79.\n",
      "Training loss at epoch 100 is : 0.18. Validation loss is : 1.79. Validation acc. is : 65.67.\n",
      "Training loss at epoch 101 is : 0.10. Validation loss is : 1.99. Validation acc. is : 66.39.\n",
      "Training loss at epoch 102 is : 0.02. Validation loss is : 2.26. Validation acc. is : 65.85.\n",
      "Training loss at epoch 103 is : 0.03. Validation loss is : 2.32. Validation acc. is : 65.49.\n",
      "Training loss at epoch 104 is : 0.14. Validation loss is : 2.12. Validation acc. is : 63.92.\n",
      "Training loss at epoch 105 is : 0.07. Validation loss is : 1.98. Validation acc. is : 67.25.\n",
      "Training loss at epoch 106 is : 0.01. Validation loss is : 2.14. Validation acc. is : 67.69.\n",
      "Training loss at epoch 107 is : 0.00. Validation loss is : 2.28. Validation acc. is : 67.96.\n",
      "Training loss at epoch 108 is : 0.00. Validation loss is : 2.38. Validation acc. is : 67.82.\n",
      "Training loss at epoch 109 is : 0.00. Validation loss is : 2.46. Validation acc. is : 67.67.\n",
      "Training loss at epoch 110 is : 0.00. Validation loss is : 2.56. Validation acc. is : 67.95.\n",
      "Training loss at epoch 111 is : 0.00. Validation loss is : 2.59. Validation acc. is : 67.53.\n",
      "Training loss at epoch 112 is : 0.00. Validation loss is : 2.66. Validation acc. is : 67.75.\n",
      "Training loss at epoch 113 is : 0.00. Validation loss is : 2.72. Validation acc. is : 67.71.\n",
      "Training loss at epoch 114 is : 0.00. Validation loss is : 2.78. Validation acc. is : 67.77.\n",
      "Training loss at epoch 115 is : 0.00. Validation loss is : 2.84. Validation acc. is : 67.68.\n",
      "Training loss at epoch 116 is : 0.00. Validation loss is : 2.88. Validation acc. is : 67.67.\n",
      "Training loss at epoch 117 is : 0.00. Validation loss is : 2.93. Validation acc. is : 67.71.\n",
      "Training loss at epoch 118 is : 0.00. Validation loss is : 2.98. Validation acc. is : 67.58.\n",
      "Training loss at epoch 119 is : 0.00. Validation loss is : 3.02. Validation acc. is : 67.64.\n",
      "Training loss at epoch 120 is : 0.00. Validation loss is : 3.07. Validation acc. is : 67.55.\n",
      "Training loss at epoch 121 is : 0.00. Validation loss is : 3.11. Validation acc. is : 67.54.\n",
      "Training loss at epoch 122 is : 0.00. Validation loss is : 3.15. Validation acc. is : 67.45.\n",
      "Training loss at epoch 123 is : 0.00. Validation loss is : 3.19. Validation acc. is : 67.56.\n",
      "Training loss at epoch 124 is : 0.00. Validation loss is : 3.23. Validation acc. is : 67.57.\n",
      "Training loss at epoch 125 is : 0.00. Validation loss is : 3.27. Validation acc. is : 67.63.\n",
      "Training loss at epoch 126 is : 0.00. Validation loss is : 3.31. Validation acc. is : 67.63.\n",
      "Training loss at epoch 127 is : 0.00. Validation loss is : 3.34. Validation acc. is : 67.62.\n",
      "Training loss at epoch 128 is : 0.00. Validation loss is : 3.37. Validation acc. is : 67.49.\n",
      "Training loss at epoch 129 is : 0.00. Validation loss is : 3.41. Validation acc. is : 67.50.\n",
      "Training loss at epoch 130 is : 0.00. Validation loss is : 3.44. Validation acc. is : 67.51.\n",
      "Training loss at epoch 131 is : 0.00. Validation loss is : 3.49. Validation acc. is : 67.46.\n",
      "Training loss at epoch 132 is : 0.00. Validation loss is : 3.52. Validation acc. is : 67.45.\n",
      "Training loss at epoch 133 is : 0.00. Validation loss is : 3.56. Validation acc. is : 67.33.\n",
      "Training loss at epoch 134 is : 0.00. Validation loss is : 3.59. Validation acc. is : 67.43.\n",
      "Training loss at epoch 135 is : 0.00. Validation loss is : 3.62. Validation acc. is : 67.36.\n",
      "Training loss at epoch 136 is : 0.00. Validation loss is : 3.66. Validation acc. is : 67.48.\n",
      "Training loss at epoch 137 is : 0.00. Validation loss is : 3.69. Validation acc. is : 67.49.\n",
      "Training loss at epoch 138 is : 0.00. Validation loss is : 3.72. Validation acc. is : 67.49.\n",
      "Training loss at epoch 139 is : 0.00. Validation loss is : 3.76. Validation acc. is : 67.45.\n",
      "Training loss at epoch 140 is : 0.00. Validation loss is : 3.79. Validation acc. is : 67.41.\n",
      "Training loss at epoch 141 is : 0.00. Validation loss is : 3.82. Validation acc. is : 67.32.\n",
      "Training loss at epoch 142 is : 0.00. Validation loss is : 3.86. Validation acc. is : 67.33.\n",
      "Training loss at epoch 143 is : 0.00. Validation loss is : 3.89. Validation acc. is : 67.29.\n",
      "Training loss at epoch 144 is : 0.00. Validation loss is : 3.92. Validation acc. is : 67.40.\n",
      "Training loss at epoch 145 is : 0.00. Validation loss is : 3.95. Validation acc. is : 67.39.\n",
      "Training loss at epoch 146 is : 0.00. Validation loss is : 3.99. Validation acc. is : 67.43.\n",
      "Training loss at epoch 147 is : 0.00. Validation loss is : 4.02. Validation acc. is : 67.47.\n",
      "Training loss at epoch 148 is : 0.00. Validation loss is : 4.06. Validation acc. is : 67.31.\n",
      "Training loss at epoch 149 is : 0.00. Validation loss is : 4.07. Validation acc. is : 67.44.\n",
      "Training loss at epoch 150 is : 0.00. Validation loss is : 4.11. Validation acc. is : 67.41.\n",
      "Training loss at epoch 151 is : 0.00. Validation loss is : 4.14. Validation acc. is : 67.30.\n",
      "Training loss at epoch 152 is : 0.00. Validation loss is : 4.19. Validation acc. is : 67.38.\n",
      "Training loss at epoch 153 is : 0.00. Validation loss is : 4.20. Validation acc. is : 67.43.\n",
      "Training loss at epoch 154 is : 0.00. Validation loss is : 4.24. Validation acc. is : 67.35.\n",
      "Training loss at epoch 155 is : 0.00. Validation loss is : 4.27. Validation acc. is : 67.38.\n",
      "Training loss at epoch 156 is : 0.00. Validation loss is : 4.30. Validation acc. is : 67.34.\n",
      "Training loss at epoch 157 is : 0.00. Validation loss is : 4.33. Validation acc. is : 67.26.\n",
      "Training loss at epoch 158 is : 0.00. Validation loss is : 4.36. Validation acc. is : 67.28.\n",
      "Training loss at epoch 159 is : 0.00. Validation loss is : 4.39. Validation acc. is : 67.39.\n",
      "Training loss at epoch 160 is : 0.00. Validation loss is : 4.41. Validation acc. is : 67.33.\n",
      "Training loss at epoch 161 is : 0.00. Validation loss is : 4.45. Validation acc. is : 67.25.\n",
      "Training loss at epoch 162 is : 0.00. Validation loss is : 4.47. Validation acc. is : 67.33.\n",
      "Training loss at epoch 163 is : 0.00. Validation loss is : 4.50. Validation acc. is : 67.40.\n",
      "Training loss at epoch 164 is : 0.00. Validation loss is : 4.54. Validation acc. is : 67.32.\n",
      "Training loss at epoch 165 is : 0.00. Validation loss is : 4.57. Validation acc. is : 67.30.\n",
      "Training loss at epoch 166 is : 0.00. Validation loss is : 4.60. Validation acc. is : 67.28.\n",
      "Training loss at epoch 167 is : 0.00. Validation loss is : 4.63. Validation acc. is : 67.28.\n",
      "Training loss at epoch 168 is : 0.00. Validation loss is : 4.65. Validation acc. is : 67.20.\n",
      "Training loss at epoch 169 is : 0.00. Validation loss is : 4.68. Validation acc. is : 67.26.\n",
      "Training loss at epoch 170 is : 0.00. Validation loss is : 4.71. Validation acc. is : 67.31.\n",
      "Training loss at epoch 171 is : 0.00. Validation loss is : 4.74. Validation acc. is : 67.33.\n",
      "Training loss at epoch 172 is : 0.00. Validation loss is : 4.77. Validation acc. is : 67.32.\n",
      "Training loss at epoch 173 is : 0.00. Validation loss is : 4.79. Validation acc. is : 67.30.\n",
      "Training loss at epoch 174 is : 0.00. Validation loss is : 4.81. Validation acc. is : 67.29.\n",
      "Training loss at epoch 175 is : 0.00. Validation loss is : 4.85. Validation acc. is : 67.19.\n",
      "Training loss at epoch 176 is : 0.00. Validation loss is : 4.87. Validation acc. is : 67.24.\n",
      "Training loss at epoch 177 is : 0.00. Validation loss is : 4.89. Validation acc. is : 67.30.\n",
      "Training loss at epoch 178 is : 0.00. Validation loss is : 4.93. Validation acc. is : 67.25.\n",
      "Training loss at epoch 179 is : 0.00. Validation loss is : 4.96. Validation acc. is : 67.22.\n",
      "Training loss at epoch 180 is : 1.38. Validation loss is : 1.17. Validation acc. is : 59.49.\n",
      "Training loss at epoch 181 is : 0.52. Validation loss is : 1.19. Validation acc. is : 66.70.\n",
      "Training loss at epoch 182 is : 0.16. Validation loss is : 1.61. Validation acc. is : 66.30.\n",
      "Training loss at epoch 183 is : 0.05. Validation loss is : 1.88. Validation acc. is : 66.78.\n",
      "Training loss at epoch 184 is : 0.02. Validation loss is : 2.11. Validation acc. is : 67.43.\n",
      "Training loss at epoch 185 is : 0.01. Validation loss is : 2.26. Validation acc. is : 67.53.\n",
      "Training loss at epoch 186 is : 0.00. Validation loss is : 2.34. Validation acc. is : 67.67.\n",
      "Training loss at epoch 187 is : 0.00. Validation loss is : 2.48. Validation acc. is : 67.90.\n",
      "Training loss at epoch 188 is : 0.00. Validation loss is : 2.57. Validation acc. is : 67.66.\n",
      "Training loss at epoch 189 is : 0.00. Validation loss is : 2.64. Validation acc. is : 67.72.\n",
      "Training loss at epoch 190 is : 0.00. Validation loss is : 2.71. Validation acc. is : 67.81.\n",
      "Training loss at epoch 191 is : 0.00. Validation loss is : 2.76. Validation acc. is : 67.85.\n",
      "Training loss at epoch 192 is : 0.00. Validation loss is : 2.82. Validation acc. is : 67.68.\n",
      "Training loss at epoch 193 is : 0.00. Validation loss is : 2.87. Validation acc. is : 67.84.\n",
      "Training loss at epoch 194 is : 0.00. Validation loss is : 2.92. Validation acc. is : 67.80.\n",
      "Training loss at epoch 195 is : 0.00. Validation loss is : 2.97. Validation acc. is : 67.88.\n",
      "Training loss at epoch 196 is : 0.00. Validation loss is : 3.01. Validation acc. is : 67.88.\n",
      "Training loss at epoch 197 is : 0.00. Validation loss is : 3.06. Validation acc. is : 67.83.\n",
      "Training loss at epoch 198 is : 0.00. Validation loss is : 3.10. Validation acc. is : 67.78.\n",
      "Training loss at epoch 199 is : 0.00. Validation loss is : 3.14. Validation acc. is : 67.77.\n"
     ]
    }
   ],
   "metadata": {}
  },
  {
   "cell_type": "code",
   "execution_count": null,
   "source": [],
   "outputs": [],
   "metadata": {}
  }
 ],
 "metadata": {
  "interpreter": {
   "hash": "0dadcd243d7a81fb679ed94fa0b3507371cb4f0217aac2cbcd3d9c4ad08fe2a2"
  },
  "kernelspec": {
   "display_name": "Python 3 (ipykernel)",
   "language": "python",
   "name": "python3"
  },
  "language_info": {
   "codemirror_mode": {
    "name": "ipython",
    "version": 3
   },
   "file_extension": ".py",
   "mimetype": "text/x-python",
   "name": "python",
   "nbconvert_exporter": "python",
   "pygments_lexer": "ipython3",
   "version": "3.9.13"
  }
 },
 "nbformat": 4,
 "nbformat_minor": 4
}