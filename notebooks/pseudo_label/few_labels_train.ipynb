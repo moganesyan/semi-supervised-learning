{
 "cells": [
  {
   "cell_type": "code",
   "execution_count": 1,
   "metadata": {},
   "outputs": [],
   "source": [
    "import sys\n",
    "from pathlib import Path"
   ]
  },
  {
   "cell_type": "code",
   "execution_count": 2,
   "metadata": {},
   "outputs": [
    {
     "name": "stderr",
     "output_type": "stream",
     "text": [
      "2022-11-13 11:58:49.615092: I tensorflow/core/platform/cpu_feature_guard.cc:193] This TensorFlow binary is optimized with oneAPI Deep Neural Network Library (oneDNN) to use the following CPU instructions in performance-critical operations:  AVX2 FMA\n",
      "To enable them in other operations, rebuild TensorFlow with the appropriate compiler flags.\n",
      "2022-11-13 11:58:49.786512: E tensorflow/stream_executor/cuda/cuda_blas.cc:2981] Unable to register cuBLAS factory: Attempting to register factory for plugin cuBLAS when one has already been registered\n",
      "2022-11-13 11:58:50.277148: W tensorflow/stream_executor/platform/default/dso_loader.cc:64] Could not load dynamic library 'libnvinfer.so.7'; dlerror: libnvinfer.so.7: cannot open shared object file: No such file or directory; LD_LIBRARY_PATH: /usr/local/cuda-11.4/lib64\n",
      "2022-11-13 11:58:50.277210: W tensorflow/stream_executor/platform/default/dso_loader.cc:64] Could not load dynamic library 'libnvinfer_plugin.so.7'; dlerror: libnvinfer_plugin.so.7: cannot open shared object file: No such file or directory; LD_LIBRARY_PATH: /usr/local/cuda-11.4/lib64\n",
      "2022-11-13 11:58:50.277217: W tensorflow/compiler/tf2tensorrt/utils/py_utils.cc:38] TF-TRT Warning: Cannot dlopen some TensorRT libraries. If you would like to use Nvidia GPU with TensorRT, please make sure the missing libraries mentioned above are installed properly.\n"
     ]
    }
   ],
   "source": [
    "import numpy as np\n",
    "import tensorflow as tf\n",
    "\n",
    "from sklearn.model_selection import train_test_split"
   ]
  },
  {
   "cell_type": "code",
   "execution_count": 3,
   "metadata": {},
   "outputs": [],
   "source": [
    "sys.path.append(str(Path(\"../../ssl\").resolve()))"
   ]
  },
  {
   "cell_type": "code",
   "execution_count": 4,
   "metadata": {},
   "outputs": [],
   "source": [
    "from src.models.pi_model.pi_model import PiModel\n",
    "from src.models.pi_model.pi_model_config import PiModelConfig\n",
    "from src.trainers.basic.categorical_ce import CategoricalCETrainer\n",
    "from src.trainers.basic.categorical_ce_config import CategoricalCETrainerConfig\n",
    "from src.data_loaders.basic.categorical_ce_config import CategoricalCEDataLoaderConfig\n",
    "from src.data_loaders.basic.categorical_ce import CategoricalCEDataLoader"
   ]
  },
  {
   "cell_type": "markdown",
   "metadata": {},
   "source": [
    "# Description\n",
    "\n",
    "In this notebook, the AlexNet model will be trained on the CIFAR-10 dataset using only 25% of the labelled dataset."
   ]
  },
  {
   "cell_type": "markdown",
   "metadata": {},
   "source": [
    "## Set up Experiment"
   ]
  },
  {
   "cell_type": "code",
   "execution_count": 5,
   "metadata": {},
   "outputs": [],
   "source": [
    "class TrainerConfig(CategoricalCETrainerConfig):\n",
    "    num_epochs = 200\n",
    "\n",
    "train_config = TrainerConfig()"
   ]
  },
  {
   "cell_type": "code",
   "execution_count": 6,
   "metadata": {},
   "outputs": [],
   "source": [
    "class ModelConfig(PiModelConfig):\n",
    "    input_shape = (32, 32, 3)\n",
    "    output_shape = 10\n",
    "\n",
    "model_config = ModelConfig()"
   ]
  },
  {
   "cell_type": "code",
   "execution_count": 7,
   "metadata": {},
   "outputs": [],
   "source": [
    "class DataLoaderConfig(CategoricalCEDataLoaderConfig):\n",
    "    batch_size = 64\n",
    "    num_classes = 10\n",
    "    shuffle_buffer_size = 5000 # dataset size    \n",
    "    \n",
    "    # switch augmenters off\n",
    "    blur_params = None\n",
    "    crop_params = None\n",
    "    jitter_params = None\n",
    "\n",
    "data_loader_config = DataLoaderConfig()"
   ]
  },
  {
   "cell_type": "markdown",
   "metadata": {},
   "source": [
    "## Get Datasets"
   ]
  },
  {
   "cell_type": "code",
   "execution_count": 8,
   "metadata": {},
   "outputs": [],
   "source": [
    "(x_train_full, y_train_full), (x_test_full, y_test_full) = tf.keras.datasets.cifar10.load_data()"
   ]
  },
  {
   "cell_type": "code",
   "execution_count": 9,
   "metadata": {},
   "outputs": [],
   "source": [
    "# get train dataset by subsampling 10% of the full training dataset (stratified by labels)\n",
    "# add the rest as unlabelled samples\n",
    "x_train_unlabelled, x_train_labelled, y_train_unlabelled_, y_train_labelled = train_test_split(\n",
    "    x_train_full, y_train_full,\n",
    "    stratify = y_train_full,\n",
    "    test_size = 0.10, random_state = 42\n",
    ")\n",
    "\n",
    "# cast types\n",
    "y_train_unlabelled = (-1 * np.ones_like(y_train_unlabelled_)).astype(np.int64)\n",
    "y_train_labelled = y_train_labelled.astype(np.int64)\n",
    "y_test_full = y_test_full.astype(np.int64)"
   ]
  },
  {
   "cell_type": "code",
   "execution_count": 10,
   "metadata": {},
   "outputs": [
    {
     "name": "stderr",
     "output_type": "stream",
     "text": [
      "2022-11-13 11:58:52.157490: I tensorflow/stream_executor/cuda/cuda_gpu_executor.cc:980] successful NUMA node read from SysFS had negative value (-1), but there must be at least one NUMA node, so returning NUMA node zero\n",
      "2022-11-13 11:58:52.163400: I tensorflow/stream_executor/cuda/cuda_gpu_executor.cc:980] successful NUMA node read from SysFS had negative value (-1), but there must be at least one NUMA node, so returning NUMA node zero\n",
      "2022-11-13 11:58:52.163887: I tensorflow/stream_executor/cuda/cuda_gpu_executor.cc:980] successful NUMA node read from SysFS had negative value (-1), but there must be at least one NUMA node, so returning NUMA node zero\n",
      "2022-11-13 11:58:52.164777: I tensorflow/core/platform/cpu_feature_guard.cc:193] This TensorFlow binary is optimized with oneAPI Deep Neural Network Library (oneDNN) to use the following CPU instructions in performance-critical operations:  AVX2 FMA\n",
      "To enable them in other operations, rebuild TensorFlow with the appropriate compiler flags.\n",
      "2022-11-13 11:58:52.165234: I tensorflow/stream_executor/cuda/cuda_gpu_executor.cc:980] successful NUMA node read from SysFS had negative value (-1), but there must be at least one NUMA node, so returning NUMA node zero\n",
      "2022-11-13 11:58:52.165720: I tensorflow/stream_executor/cuda/cuda_gpu_executor.cc:980] successful NUMA node read from SysFS had negative value (-1), but there must be at least one NUMA node, so returning NUMA node zero\n",
      "2022-11-13 11:58:52.166142: I tensorflow/stream_executor/cuda/cuda_gpu_executor.cc:980] successful NUMA node read from SysFS had negative value (-1), but there must be at least one NUMA node, so returning NUMA node zero\n",
      "2022-11-13 11:58:52.642423: I tensorflow/stream_executor/cuda/cuda_gpu_executor.cc:980] successful NUMA node read from SysFS had negative value (-1), but there must be at least one NUMA node, so returning NUMA node zero\n",
      "2022-11-13 11:58:52.642928: I tensorflow/stream_executor/cuda/cuda_gpu_executor.cc:980] successful NUMA node read from SysFS had negative value (-1), but there must be at least one NUMA node, so returning NUMA node zero\n",
      "2022-11-13 11:58:52.643386: I tensorflow/stream_executor/cuda/cuda_gpu_executor.cc:980] successful NUMA node read from SysFS had negative value (-1), but there must be at least one NUMA node, so returning NUMA node zero\n",
      "2022-11-13 11:58:52.643792: I tensorflow/core/common_runtime/gpu/gpu_device.cc:1616] Created device /job:localhost/replica:0/task:0/device:GPU:0 with 7018 MB memory:  -> device: 0, name: NVIDIA GeForce GTX 1070 with Max-Q Design, pci bus id: 0000:01:00.0, compute capability: 6.1\n"
     ]
    }
   ],
   "source": [
    "train_data = tf.data.Dataset.from_tensor_slices((x_train_labelled, y_train_labelled))\n",
    "val_data = tf.data.Dataset.from_tensor_slices((x_test_full, y_test_full))"
   ]
  },
  {
   "cell_type": "code",
   "execution_count": 11,
   "metadata": {},
   "outputs": [],
   "source": [
    "# create train dataset\n",
    "train_data = CategoricalCEDataLoader(train_data, data_loader_config)(training = True)"
   ]
  },
  {
   "cell_type": "code",
   "execution_count": 12,
   "metadata": {},
   "outputs": [],
   "source": [
    "# create test dataset\n",
    "val_data = CategoricalCEDataLoader(val_data, data_loader_config)(training = False)"
   ]
  },
  {
   "cell_type": "code",
   "execution_count": 13,
   "metadata": {},
   "outputs": [
    {
     "name": "stdout",
     "output_type": "stream",
     "text": [
      "Train dataset size: 79\n",
      "Validation dataset size: 157\n"
     ]
    }
   ],
   "source": [
    "print(f\"Train dataset size: {train_data.cardinality()}\")\n",
    "print(f\"Validation dataset size: {val_data.cardinality()}\")"
   ]
  },
  {
   "cell_type": "markdown",
   "metadata": {},
   "source": [
    "# Train Model"
   ]
  },
  {
   "cell_type": "code",
   "execution_count": 14,
   "metadata": {},
   "outputs": [],
   "source": [
    "model = PiModel(model_config)()"
   ]
  },
  {
   "cell_type": "code",
   "execution_count": 15,
   "metadata": {},
   "outputs": [],
   "source": [
    "trainer = CategoricalCETrainer(\n",
    "    model, train_data, train_config,\n",
    "    val_dataset = val_data)"
   ]
  },
  {
   "cell_type": "code",
   "execution_count": 16,
   "metadata": {},
   "outputs": [
    {
     "name": "stderr",
     "output_type": "stream",
     "text": [
      "2022-11-13 11:58:53.598286: I tensorflow/stream_executor/cuda/cuda_dnn.cc:384] Loaded cuDNN version 8204\n"
     ]
    },
    {
     "name": "stdout",
     "output_type": "stream",
     "text": [
      "Training loss at epoch 0 is : 2.27. Validation loss is : 2.14. Validation acc. is : 18.05.\n",
      "Training loss at epoch 1 is : 2.08. Validation loss is : 1.98. Validation acc. is : 25.71.\n",
      "Training loss at epoch 2 is : 1.93. Validation loss is : 1.89. Validation acc. is : 26.80.\n",
      "Training loss at epoch 3 is : 1.83. Validation loss is : 1.75. Validation acc. is : 33.30.\n",
      "Training loss at epoch 4 is : 1.79. Validation loss is : 1.72. Validation acc. is : 35.58.\n",
      "Training loss at epoch 5 is : 1.75. Validation loss is : 1.71. Validation acc. is : 35.68.\n",
      "Training loss at epoch 6 is : 1.70. Validation loss is : 1.67. Validation acc. is : 37.21.\n",
      "Training loss at epoch 7 is : 1.69. Validation loss is : 1.63. Validation acc. is : 38.90.\n",
      "Training loss at epoch 8 is : 1.63. Validation loss is : 1.62. Validation acc. is : 39.51.\n",
      "Training loss at epoch 9 is : 1.60. Validation loss is : 1.61. Validation acc. is : 40.36.\n",
      "Training loss at epoch 10 is : 1.58. Validation loss is : 1.64. Validation acc. is : 39.47.\n",
      "Training loss at epoch 11 is : 1.55. Validation loss is : 1.67. Validation acc. is : 39.51.\n",
      "Training loss at epoch 12 is : 1.51. Validation loss is : 1.51. Validation acc. is : 44.23.\n",
      "Training loss at epoch 13 is : 1.51. Validation loss is : 1.59. Validation acc. is : 42.07.\n",
      "Training loss at epoch 14 is : 1.48. Validation loss is : 1.50. Validation acc. is : 44.18.\n",
      "Training loss at epoch 15 is : 1.44. Validation loss is : 1.55. Validation acc. is : 41.94.\n",
      "Training loss at epoch 16 is : 1.42. Validation loss is : 1.47. Validation acc. is : 46.71.\n",
      "Training loss at epoch 17 is : 1.40. Validation loss is : 1.50. Validation acc. is : 45.73.\n",
      "Training loss at epoch 18 is : 1.40. Validation loss is : 1.58. Validation acc. is : 43.87.\n",
      "Training loss at epoch 19 is : 1.38. Validation loss is : 1.49. Validation acc. is : 46.33.\n",
      "Training loss at epoch 20 is : 1.34. Validation loss is : 1.40. Validation acc. is : 49.00.\n",
      "Training loss at epoch 21 is : 1.33. Validation loss is : 1.41. Validation acc. is : 49.22.\n",
      "Training loss at epoch 22 is : 1.32. Validation loss is : 1.41. Validation acc. is : 49.13.\n",
      "Training loss at epoch 23 is : 1.28. Validation loss is : 1.47. Validation acc. is : 46.15.\n",
      "Training loss at epoch 24 is : 1.30. Validation loss is : 1.51. Validation acc. is : 46.74.\n",
      "Training loss at epoch 25 is : 1.28. Validation loss is : 1.34. Validation acc. is : 52.12.\n",
      "Training loss at epoch 26 is : 1.22. Validation loss is : 1.38. Validation acc. is : 50.16.\n",
      "Training loss at epoch 27 is : 1.21. Validation loss is : 1.31. Validation acc. is : 52.69.\n",
      "Training loss at epoch 28 is : 1.21. Validation loss is : 1.34. Validation acc. is : 52.07.\n",
      "Training loss at epoch 29 is : 1.19. Validation loss is : 1.30. Validation acc. is : 53.47.\n",
      "Training loss at epoch 30 is : 1.15. Validation loss is : 1.37. Validation acc. is : 51.62.\n",
      "Training loss at epoch 31 is : 1.14. Validation loss is : 1.41. Validation acc. is : 50.00.\n",
      "Training loss at epoch 32 is : 1.14. Validation loss is : 1.27. Validation acc. is : 55.42.\n",
      "Training loss at epoch 33 is : 1.10. Validation loss is : 1.28. Validation acc. is : 54.91.\n",
      "Training loss at epoch 34 is : 1.07. Validation loss is : 1.29. Validation acc. is : 54.25.\n",
      "Training loss at epoch 35 is : 1.08. Validation loss is : 1.26. Validation acc. is : 55.47.\n",
      "Training loss at epoch 36 is : 1.06. Validation loss is : 1.34. Validation acc. is : 52.84.\n",
      "Training loss at epoch 37 is : 1.06. Validation loss is : 1.26. Validation acc. is : 55.19.\n",
      "Training loss at epoch 38 is : 1.03. Validation loss is : 1.26. Validation acc. is : 55.52.\n",
      "Training loss at epoch 39 is : 1.00. Validation loss is : 1.25. Validation acc. is : 56.39.\n",
      "Training loss at epoch 40 is : 1.00. Validation loss is : 1.26. Validation acc. is : 55.13.\n",
      "Training loss at epoch 41 is : 0.98. Validation loss is : 1.25. Validation acc. is : 55.99.\n",
      "Training loss at epoch 42 is : 0.97. Validation loss is : 1.26. Validation acc. is : 55.93.\n",
      "Training loss at epoch 43 is : 0.94. Validation loss is : 1.22. Validation acc. is : 57.40.\n",
      "Training loss at epoch 44 is : 0.93. Validation loss is : 1.24. Validation acc. is : 57.02.\n",
      "Training loss at epoch 45 is : 0.93. Validation loss is : 1.24. Validation acc. is : 57.94.\n",
      "Training loss at epoch 46 is : 0.91. Validation loss is : 1.30. Validation acc. is : 56.60.\n",
      "Training loss at epoch 47 is : 0.88. Validation loss is : 1.24. Validation acc. is : 56.39.\n",
      "Training loss at epoch 48 is : 0.88. Validation loss is : 1.24. Validation acc. is : 57.27.\n",
      "Training loss at epoch 49 is : 0.88. Validation loss is : 1.25. Validation acc. is : 57.01.\n",
      "Training loss at epoch 50 is : 0.88. Validation loss is : 1.19. Validation acc. is : 58.31.\n",
      "Training loss at epoch 51 is : 0.85. Validation loss is : 1.24. Validation acc. is : 57.06.\n",
      "Training loss at epoch 52 is : 0.84. Validation loss is : 1.20. Validation acc. is : 58.79.\n",
      "Training loss at epoch 53 is : 0.82. Validation loss is : 1.26. Validation acc. is : 57.78.\n",
      "Training loss at epoch 54 is : 0.79. Validation loss is : 1.23. Validation acc. is : 58.37.\n",
      "Training loss at epoch 55 is : 0.81. Validation loss is : 1.23. Validation acc. is : 57.79.\n",
      "Training loss at epoch 56 is : 0.78. Validation loss is : 1.19. Validation acc. is : 58.96.\n",
      "Training loss at epoch 57 is : 0.78. Validation loss is : 1.24. Validation acc. is : 58.46.\n",
      "Training loss at epoch 58 is : 0.78. Validation loss is : 1.32. Validation acc. is : 57.13.\n",
      "Training loss at epoch 59 is : 0.74. Validation loss is : 1.23. Validation acc. is : 58.74.\n",
      "Training loss at epoch 60 is : 0.72. Validation loss is : 1.35. Validation acc. is : 57.01.\n",
      "Training loss at epoch 61 is : 0.74. Validation loss is : 1.29. Validation acc. is : 58.71.\n",
      "Training loss at epoch 62 is : 0.68. Validation loss is : 1.28. Validation acc. is : 59.88.\n",
      "Training loss at epoch 63 is : 0.70. Validation loss is : 1.23. Validation acc. is : 58.71.\n",
      "Training loss at epoch 64 is : 0.67. Validation loss is : 1.26. Validation acc. is : 58.78.\n",
      "Training loss at epoch 65 is : 0.65. Validation loss is : 1.33. Validation acc. is : 58.71.\n",
      "Training loss at epoch 66 is : 0.66. Validation loss is : 1.23. Validation acc. is : 60.27.\n",
      "Training loss at epoch 67 is : 0.63. Validation loss is : 1.25. Validation acc. is : 60.84.\n",
      "Training loss at epoch 68 is : 0.62. Validation loss is : 1.28. Validation acc. is : 60.11.\n",
      "Training loss at epoch 69 is : 0.63. Validation loss is : 1.39. Validation acc. is : 57.52.\n",
      "Training loss at epoch 70 is : 0.60. Validation loss is : 1.43. Validation acc. is : 58.10.\n",
      "Training loss at epoch 71 is : 0.62. Validation loss is : 1.30. Validation acc. is : 59.68.\n",
      "Training loss at epoch 72 is : 0.56. Validation loss is : 1.30. Validation acc. is : 61.01.\n",
      "Training loss at epoch 73 is : 0.57. Validation loss is : 1.44. Validation acc. is : 58.45.\n",
      "Training loss at epoch 74 is : 0.57. Validation loss is : 1.32. Validation acc. is : 59.50.\n",
      "Training loss at epoch 75 is : 0.52. Validation loss is : 1.44. Validation acc. is : 58.27.\n",
      "Training loss at epoch 76 is : 0.55. Validation loss is : 1.37. Validation acc. is : 59.46.\n",
      "Training loss at epoch 77 is : 0.49. Validation loss is : 1.51. Validation acc. is : 58.39.\n",
      "Training loss at epoch 78 is : 0.48. Validation loss is : 1.38. Validation acc. is : 60.00.\n",
      "Training loss at epoch 79 is : 0.48. Validation loss is : 1.48. Validation acc. is : 59.24.\n",
      "Training loss at epoch 80 is : 0.46. Validation loss is : 1.35. Validation acc. is : 60.50.\n",
      "Training loss at epoch 81 is : 0.44. Validation loss is : 1.42. Validation acc. is : 61.02.\n",
      "Training loss at epoch 82 is : 0.45. Validation loss is : 1.44. Validation acc. is : 58.83.\n",
      "Training loss at epoch 83 is : 0.42. Validation loss is : 1.42. Validation acc. is : 61.00.\n",
      "Training loss at epoch 84 is : 0.40. Validation loss is : 1.61. Validation acc. is : 58.96.\n",
      "Training loss at epoch 85 is : 0.40. Validation loss is : 1.54. Validation acc. is : 60.29.\n",
      "Training loss at epoch 86 is : 0.42. Validation loss is : 1.57. Validation acc. is : 59.13.\n",
      "Training loss at epoch 87 is : 0.41. Validation loss is : 1.46. Validation acc. is : 61.26.\n",
      "Training loss at epoch 88 is : 0.36. Validation loss is : 1.69. Validation acc. is : 58.42.\n",
      "Training loss at epoch 89 is : 0.39. Validation loss is : 1.57. Validation acc. is : 60.46.\n",
      "Training loss at epoch 90 is : 0.35. Validation loss is : 1.67. Validation acc. is : 59.56.\n",
      "Training loss at epoch 91 is : 0.37. Validation loss is : 1.56. Validation acc. is : 59.91.\n",
      "Training loss at epoch 92 is : 0.32. Validation loss is : 1.70. Validation acc. is : 60.28.\n",
      "Training loss at epoch 93 is : 0.31. Validation loss is : 1.61. Validation acc. is : 59.10.\n",
      "Training loss at epoch 94 is : 0.33. Validation loss is : 1.61. Validation acc. is : 60.37.\n",
      "Training loss at epoch 95 is : 0.32. Validation loss is : 1.65. Validation acc. is : 60.68.\n",
      "Training loss at epoch 96 is : 0.26. Validation loss is : 1.70. Validation acc. is : 60.28.\n",
      "Training loss at epoch 97 is : 0.26. Validation loss is : 1.78. Validation acc. is : 59.51.\n",
      "Training loss at epoch 98 is : 0.28. Validation loss is : 1.70. Validation acc. is : 59.94.\n",
      "Training loss at epoch 99 is : 0.27. Validation loss is : 1.73. Validation acc. is : 60.30.\n",
      "Training loss at epoch 100 is : 0.27. Validation loss is : 1.72. Validation acc. is : 60.21.\n",
      "Training loss at epoch 101 is : 0.25. Validation loss is : 1.84. Validation acc. is : 60.35.\n",
      "Training loss at epoch 102 is : 0.20. Validation loss is : 1.86. Validation acc. is : 60.02.\n",
      "Training loss at epoch 103 is : 0.20. Validation loss is : 1.87. Validation acc. is : 60.36.\n",
      "Training loss at epoch 104 is : 0.27. Validation loss is : 1.82. Validation acc. is : 59.60.\n",
      "Training loss at epoch 105 is : 0.21. Validation loss is : 2.05. Validation acc. is : 59.31.\n",
      "Training loss at epoch 106 is : 0.22. Validation loss is : 1.95. Validation acc. is : 59.36.\n",
      "Training loss at epoch 107 is : 0.22. Validation loss is : 1.95. Validation acc. is : 60.50.\n",
      "Training loss at epoch 108 is : 0.15. Validation loss is : 2.07. Validation acc. is : 59.15.\n",
      "Training loss at epoch 109 is : 0.19. Validation loss is : 1.99. Validation acc. is : 60.39.\n",
      "Training loss at epoch 110 is : 0.15. Validation loss is : 2.06. Validation acc. is : 59.67.\n",
      "Training loss at epoch 111 is : 0.22. Validation loss is : 2.02. Validation acc. is : 60.39.\n",
      "Training loss at epoch 112 is : 0.11. Validation loss is : 2.19. Validation acc. is : 59.76.\n",
      "Training loss at epoch 113 is : 0.11. Validation loss is : 2.29. Validation acc. is : 59.63.\n",
      "Training loss at epoch 114 is : 0.10. Validation loss is : 2.31. Validation acc. is : 60.28.\n",
      "Training loss at epoch 115 is : 0.10. Validation loss is : 2.79. Validation acc. is : 55.84.\n",
      "Training loss at epoch 116 is : 0.26. Validation loss is : 2.20. Validation acc. is : 58.90.\n",
      "Training loss at epoch 117 is : 0.13. Validation loss is : 2.24. Validation acc. is : 60.41.\n",
      "Training loss at epoch 118 is : 0.09. Validation loss is : 2.33. Validation acc. is : 60.10.\n",
      "Training loss at epoch 119 is : 0.06. Validation loss is : 2.53. Validation acc. is : 60.25.\n",
      "Training loss at epoch 120 is : 0.20. Validation loss is : 2.17. Validation acc. is : 58.86.\n",
      "Training loss at epoch 121 is : 0.10. Validation loss is : 2.28. Validation acc. is : 61.02.\n",
      "Training loss at epoch 122 is : 0.07. Validation loss is : 2.52. Validation acc. is : 61.22.\n",
      "Training loss at epoch 123 is : 0.08. Validation loss is : 2.72. Validation acc. is : 59.14.\n",
      "Training loss at epoch 124 is : 0.28. Validation loss is : 2.09. Validation acc. is : 59.57.\n",
      "Training loss at epoch 125 is : 0.07. Validation loss is : 2.35. Validation acc. is : 61.03.\n",
      "Training loss at epoch 126 is : 0.05. Validation loss is : 2.51. Validation acc. is : 60.36.\n",
      "Training loss at epoch 127 is : 0.06. Validation loss is : 2.57. Validation acc. is : 60.91.\n",
      "Training loss at epoch 128 is : 0.08. Validation loss is : 3.33. Validation acc. is : 54.14.\n",
      "Training loss at epoch 129 is : 0.10. Validation loss is : 2.70. Validation acc. is : 58.18.\n",
      "Training loss at epoch 130 is : 0.20. Validation loss is : 2.28. Validation acc. is : 60.55.\n",
      "Training loss at epoch 131 is : 0.09. Validation loss is : 2.38. Validation acc. is : 60.99.\n",
      "Training loss at epoch 132 is : 0.03. Validation loss is : 2.65. Validation acc. is : 61.48.\n",
      "Training loss at epoch 133 is : 0.02. Validation loss is : 2.81. Validation acc. is : 61.18.\n",
      "Training loss at epoch 134 is : 0.01. Validation loss is : 2.92. Validation acc. is : 61.44.\n",
      "Training loss at epoch 135 is : 0.01. Validation loss is : 3.03. Validation acc. is : 61.39.\n",
      "Training loss at epoch 136 is : 0.01. Validation loss is : 3.12. Validation acc. is : 61.46.\n",
      "Training loss at epoch 137 is : 0.00. Validation loss is : 3.22. Validation acc. is : 61.39.\n",
      "Training loss at epoch 138 is : 0.00. Validation loss is : 3.32. Validation acc. is : 61.45.\n",
      "Training loss at epoch 139 is : 0.00. Validation loss is : 3.41. Validation acc. is : 61.14.\n",
      "Training loss at epoch 140 is : 0.00. Validation loss is : 3.52. Validation acc. is : 61.20.\n",
      "Training loss at epoch 141 is : 0.00. Validation loss is : 3.66. Validation acc. is : 60.11.\n",
      "Training loss at epoch 142 is : 0.48. Validation loss is : 1.68. Validation acc. is : 60.42.\n",
      "Training loss at epoch 143 is : 0.11. Validation loss is : 2.15. Validation acc. is : 60.60.\n",
      "Training loss at epoch 144 is : 0.03. Validation loss is : 2.44. Validation acc. is : 61.33.\n",
      "Training loss at epoch 145 is : 0.02. Validation loss is : 2.63. Validation acc. is : 60.78.\n",
      "Training loss at epoch 146 is : 0.02. Validation loss is : 2.78. Validation acc. is : 61.21.\n",
      "Training loss at epoch 147 is : 0.01. Validation loss is : 2.95. Validation acc. is : 61.80.\n",
      "Training loss at epoch 148 is : 0.00. Validation loss is : 3.07. Validation acc. is : 61.50.\n",
      "Training loss at epoch 149 is : 0.00. Validation loss is : 3.17. Validation acc. is : 61.67.\n",
      "Training loss at epoch 150 is : 0.00. Validation loss is : 3.27. Validation acc. is : 61.47.\n",
      "Training loss at epoch 151 is : 0.00. Validation loss is : 3.34. Validation acc. is : 61.69.\n",
      "Training loss at epoch 152 is : 0.00. Validation loss is : 3.42. Validation acc. is : 61.72.\n",
      "Training loss at epoch 153 is : 0.00. Validation loss is : 3.48. Validation acc. is : 61.58.\n",
      "Training loss at epoch 154 is : 0.00. Validation loss is : 3.55. Validation acc. is : 61.73.\n",
      "Training loss at epoch 155 is : 0.00. Validation loss is : 3.61. Validation acc. is : 61.46.\n",
      "Training loss at epoch 156 is : 0.00. Validation loss is : 3.66. Validation acc. is : 61.46.\n",
      "Training loss at epoch 157 is : 0.00. Validation loss is : 3.72. Validation acc. is : 61.42.\n",
      "Training loss at epoch 158 is : 0.00. Validation loss is : 3.77. Validation acc. is : 61.59.\n",
      "Training loss at epoch 159 is : 0.00. Validation loss is : 3.81. Validation acc. is : 61.51.\n",
      "Training loss at epoch 160 is : 0.00. Validation loss is : 3.87. Validation acc. is : 61.40.\n",
      "Training loss at epoch 161 is : 0.00. Validation loss is : 3.91. Validation acc. is : 61.52.\n",
      "Training loss at epoch 162 is : 0.00. Validation loss is : 3.95. Validation acc. is : 61.50.\n",
      "Training loss at epoch 163 is : 0.00. Validation loss is : 3.98. Validation acc. is : 61.52.\n",
      "Training loss at epoch 164 is : 0.00. Validation loss is : 4.05. Validation acc. is : 61.41.\n",
      "Training loss at epoch 165 is : 0.00. Validation loss is : 4.09. Validation acc. is : 61.54.\n",
      "Training loss at epoch 166 is : 0.00. Validation loss is : 4.11. Validation acc. is : 61.54.\n",
      "Training loss at epoch 167 is : 0.00. Validation loss is : 4.15. Validation acc. is : 61.39.\n",
      "Training loss at epoch 168 is : 0.00. Validation loss is : 4.18. Validation acc. is : 61.38.\n",
      "Training loss at epoch 169 is : 0.00. Validation loss is : 4.22. Validation acc. is : 61.61.\n",
      "Training loss at epoch 170 is : 0.00. Validation loss is : 4.26. Validation acc. is : 61.47.\n",
      "Training loss at epoch 171 is : 0.00. Validation loss is : 4.29. Validation acc. is : 61.44.\n",
      "Training loss at epoch 172 is : 0.00. Validation loss is : 4.33. Validation acc. is : 61.51.\n",
      "Training loss at epoch 173 is : 0.00. Validation loss is : 4.36. Validation acc. is : 61.32.\n",
      "Training loss at epoch 174 is : 0.00. Validation loss is : 4.40. Validation acc. is : 61.46.\n",
      "Training loss at epoch 175 is : 0.00. Validation loss is : 4.43. Validation acc. is : 61.31.\n",
      "Training loss at epoch 176 is : 0.00. Validation loss is : 4.46. Validation acc. is : 61.44.\n",
      "Training loss at epoch 177 is : 0.00. Validation loss is : 4.49. Validation acc. is : 61.45.\n",
      "Training loss at epoch 178 is : 0.00. Validation loss is : 4.52. Validation acc. is : 61.45.\n",
      "Training loss at epoch 179 is : 0.00. Validation loss is : 4.55. Validation acc. is : 61.41.\n",
      "Training loss at epoch 180 is : 0.00. Validation loss is : 4.59. Validation acc. is : 61.36.\n",
      "Training loss at epoch 181 is : 0.00. Validation loss is : 4.62. Validation acc. is : 61.30.\n",
      "Training loss at epoch 182 is : 0.00. Validation loss is : 4.64. Validation acc. is : 61.35.\n",
      "Training loss at epoch 183 is : 0.00. Validation loss is : 4.68. Validation acc. is : 61.42.\n",
      "Training loss at epoch 184 is : 0.00. Validation loss is : 4.70. Validation acc. is : 61.44.\n",
      "Training loss at epoch 185 is : 0.00. Validation loss is : 4.73. Validation acc. is : 61.23.\n",
      "Training loss at epoch 186 is : 0.00. Validation loss is : 4.75. Validation acc. is : 61.31.\n",
      "Training loss at epoch 187 is : 0.00. Validation loss is : 4.80. Validation acc. is : 61.43.\n",
      "Training loss at epoch 188 is : 0.00. Validation loss is : 4.82. Validation acc. is : 61.40.\n",
      "Training loss at epoch 189 is : 0.00. Validation loss is : 4.85. Validation acc. is : 61.29.\n",
      "Training loss at epoch 190 is : 0.00. Validation loss is : 4.89. Validation acc. is : 61.23.\n",
      "Training loss at epoch 191 is : 0.00. Validation loss is : 4.90. Validation acc. is : 61.35.\n",
      "Training loss at epoch 192 is : 0.00. Validation loss is : 4.93. Validation acc. is : 61.21.\n",
      "Training loss at epoch 193 is : 0.00. Validation loss is : 4.96. Validation acc. is : 61.37.\n",
      "Training loss at epoch 194 is : 0.00. Validation loss is : 4.98. Validation acc. is : 61.14.\n",
      "Training loss at epoch 195 is : 0.00. Validation loss is : 5.00. Validation acc. is : 61.43.\n",
      "Training loss at epoch 196 is : 0.00. Validation loss is : 5.04. Validation acc. is : 61.27.\n",
      "Training loss at epoch 197 is : 0.00. Validation loss is : 5.06. Validation acc. is : 61.30.\n",
      "Training loss at epoch 198 is : 0.00. Validation loss is : 5.08. Validation acc. is : 61.39.\n",
      "Training loss at epoch 199 is : 0.00. Validation loss is : 5.12. Validation acc. is : 61.26.\n"
     ]
    }
   ],
   "source": [
    "trainer.train()"
   ]
  },
  {
   "cell_type": "code",
   "execution_count": null,
   "metadata": {},
   "outputs": [],
   "source": []
  }
 ],
 "metadata": {
  "interpreter": {
   "hash": "0dadcd243d7a81fb679ed94fa0b3507371cb4f0217aac2cbcd3d9c4ad08fe2a2"
  },
  "kernelspec": {
   "display_name": "Python 3 (ipykernel)",
   "language": "python",
   "name": "python3"
  },
  "language_info": {
   "codemirror_mode": {
    "name": "ipython",
    "version": 3
   },
   "file_extension": ".py",
   "mimetype": "text/x-python",
   "name": "python",
   "nbconvert_exporter": "python",
   "pygments_lexer": "ipython3",
   "version": "3.9.13"
  }
 },
 "nbformat": 4,
 "nbformat_minor": 4
}
