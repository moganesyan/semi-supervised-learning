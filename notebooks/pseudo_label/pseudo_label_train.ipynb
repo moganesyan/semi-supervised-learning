{
 "cells": [
  {
   "cell_type": "code",
   "execution_count": 1,
   "metadata": {},
   "outputs": [],
   "source": [
    "import sys\n",
    "from pathlib import Path"
   ]
  },
  {
   "cell_type": "code",
   "execution_count": 2,
   "metadata": {},
   "outputs": [
    {
     "name": "stderr",
     "output_type": "stream",
     "text": [
      "2022-11-13 12:25:44.008715: I tensorflow/core/platform/cpu_feature_guard.cc:193] This TensorFlow binary is optimized with oneAPI Deep Neural Network Library (oneDNN) to use the following CPU instructions in performance-critical operations:  AVX2 FMA\n",
      "To enable them in other operations, rebuild TensorFlow with the appropriate compiler flags.\n",
      "2022-11-13 12:25:44.136326: E tensorflow/stream_executor/cuda/cuda_blas.cc:2981] Unable to register cuBLAS factory: Attempting to register factory for plugin cuBLAS when one has already been registered\n",
      "2022-11-13 12:25:44.570166: W tensorflow/stream_executor/platform/default/dso_loader.cc:64] Could not load dynamic library 'libnvinfer.so.7'; dlerror: libnvinfer.so.7: cannot open shared object file: No such file or directory; LD_LIBRARY_PATH: /usr/local/cuda-11.4/lib64\n",
      "2022-11-13 12:25:44.570241: W tensorflow/stream_executor/platform/default/dso_loader.cc:64] Could not load dynamic library 'libnvinfer_plugin.so.7'; dlerror: libnvinfer_plugin.so.7: cannot open shared object file: No such file or directory; LD_LIBRARY_PATH: /usr/local/cuda-11.4/lib64\n",
      "2022-11-13 12:25:44.570248: W tensorflow/compiler/tf2tensorrt/utils/py_utils.cc:38] TF-TRT Warning: Cannot dlopen some TensorRT libraries. If you would like to use Nvidia GPU with TensorRT, please make sure the missing libraries mentioned above are installed properly.\n"
     ]
    }
   ],
   "source": [
    "import numpy as np\n",
    "import tensorflow as tf\n",
    "\n",
    "from sklearn.model_selection import train_test_split\n",
    "from sklearn.utils import shuffle"
   ]
  },
  {
   "cell_type": "code",
   "execution_count": 3,
   "metadata": {},
   "outputs": [],
   "source": [
    "sys.path.append(str(Path(\"../../ssl\").resolve()))"
   ]
  },
  {
   "cell_type": "code",
   "execution_count": 4,
   "metadata": {},
   "outputs": [],
   "source": [
    "from src.models.pi_model.pi_model import PiModel\n",
    "from src.models.pi_model.pi_model_config import PiModelConfig\n",
    "from src.trainers.pseudo_label.pseudo_label import PseudoLabelTrainer\n",
    "from src.trainers.pseudo_label.pseudo_label_config import PseudoLabelTrainerConfig\n",
    "from src.data_loaders.pseudo_label.pseudo_label import PseudoLabelDataLoader\n",
    "from src.data_loaders.pseudo_label.pseudo_label import PseudoLabelDataLoaderConfig"
   ]
  },
  {
   "cell_type": "markdown",
   "metadata": {},
   "source": [
    "# Description\n",
    "\n",
    "In this notebook, the AlexNet model will be trained on the CIFAR-10 dataset using only 25% of the labelled dataset."
   ]
  },
  {
   "cell_type": "markdown",
   "metadata": {},
   "source": [
    "## Set up Experiment"
   ]
  },
  {
   "cell_type": "code",
   "execution_count": 5,
   "metadata": {},
   "outputs": [],
   "source": [
    "class TrainerConfig(PseudoLabelTrainerConfig):\n",
    "    num_epochs = 200\n",
    "    t1 = 100\n",
    "    t2 = 150\n",
    "    alpha = 3.0\n",
    "\n",
    "train_config = TrainerConfig()"
   ]
  },
  {
   "cell_type": "code",
   "execution_count": 6,
   "metadata": {},
   "outputs": [],
   "source": [
    "class ModelConfig(PiModelConfig):\n",
    "    input_shape = (32, 32, 3)\n",
    "    output_shape = 10\n",
    "\n",
    "model_config = ModelConfig()"
   ]
  },
  {
   "cell_type": "code",
   "execution_count": 7,
   "metadata": {},
   "outputs": [],
   "source": [
    "class DataLoaderConfig(PseudoLabelDataLoaderConfig):\n",
    "    batch_size = 64\n",
    "    num_classes = 10\n",
    "    shuffle_buffer_size = 50000 # dataset size    \n",
    "\n",
    "data_loader_config = DataLoaderConfig()"
   ]
  },
  {
   "cell_type": "markdown",
   "metadata": {},
   "source": [
    "## Get Datasets"
   ]
  },
  {
   "cell_type": "code",
   "execution_count": 8,
   "metadata": {},
   "outputs": [],
   "source": [
    "(x_train_full, y_train_full), (x_test_full, y_test_full) = tf.keras.datasets.cifar10.load_data()"
   ]
  },
  {
   "cell_type": "code",
   "execution_count": 9,
   "metadata": {},
   "outputs": [],
   "source": [
    "# get train dataset by subsampling 10% of the full training dataset (stratified by labels)\n",
    "# add the rest as unlabelled samples\n",
    "x_train_unlabelled, x_train_labelled, y_train_unlabelled_, y_train_labelled = train_test_split(\n",
    "    x_train_full, y_train_full,\n",
    "    stratify = y_train_full,\n",
    "    test_size = 0.10, random_state = 42\n",
    ")\n",
    "\n",
    "# cast types\n",
    "y_train_unlabelled = (-1 * np.ones_like(y_train_unlabelled_)).astype(np.int64)\n",
    "y_train_labelled = y_train_labelled.astype(np.int64)\n",
    "y_test_full = y_test_full.astype(np.int64)"
   ]
  },
  {
   "cell_type": "code",
   "execution_count": 10,
   "metadata": {},
   "outputs": [],
   "source": [
    "x_train = np.concatenate((x_train_unlabelled, x_train_labelled), axis = 0)\n",
    "y_train = np.concatenate((y_train_unlabelled, y_train_labelled), axis = 0)"
   ]
  },
  {
   "cell_type": "code",
   "execution_count": 11,
   "metadata": {},
   "outputs": [
    {
     "name": "stderr",
     "output_type": "stream",
     "text": [
      "2022-11-13 12:25:46.502519: I tensorflow/stream_executor/cuda/cuda_gpu_executor.cc:980] successful NUMA node read from SysFS had negative value (-1), but there must be at least one NUMA node, so returning NUMA node zero\n",
      "2022-11-13 12:25:46.510369: I tensorflow/stream_executor/cuda/cuda_gpu_executor.cc:980] successful NUMA node read from SysFS had negative value (-1), but there must be at least one NUMA node, so returning NUMA node zero\n",
      "2022-11-13 12:25:46.511020: I tensorflow/stream_executor/cuda/cuda_gpu_executor.cc:980] successful NUMA node read from SysFS had negative value (-1), but there must be at least one NUMA node, so returning NUMA node zero\n",
      "2022-11-13 12:25:46.512084: I tensorflow/core/platform/cpu_feature_guard.cc:193] This TensorFlow binary is optimized with oneAPI Deep Neural Network Library (oneDNN) to use the following CPU instructions in performance-critical operations:  AVX2 FMA\n",
      "To enable them in other operations, rebuild TensorFlow with the appropriate compiler flags.\n",
      "2022-11-13 12:25:46.512566: I tensorflow/stream_executor/cuda/cuda_gpu_executor.cc:980] successful NUMA node read from SysFS had negative value (-1), but there must be at least one NUMA node, so returning NUMA node zero\n",
      "2022-11-13 12:25:46.513206: I tensorflow/stream_executor/cuda/cuda_gpu_executor.cc:980] successful NUMA node read from SysFS had negative value (-1), but there must be at least one NUMA node, so returning NUMA node zero\n",
      "2022-11-13 12:25:46.513793: I tensorflow/stream_executor/cuda/cuda_gpu_executor.cc:980] successful NUMA node read from SysFS had negative value (-1), but there must be at least one NUMA node, so returning NUMA node zero\n",
      "2022-11-13 12:25:46.994370: I tensorflow/stream_executor/cuda/cuda_gpu_executor.cc:980] successful NUMA node read from SysFS had negative value (-1), but there must be at least one NUMA node, so returning NUMA node zero\n",
      "2022-11-13 12:25:46.994916: I tensorflow/stream_executor/cuda/cuda_gpu_executor.cc:980] successful NUMA node read from SysFS had negative value (-1), but there must be at least one NUMA node, so returning NUMA node zero\n",
      "2022-11-13 12:25:46.995407: I tensorflow/stream_executor/cuda/cuda_gpu_executor.cc:980] successful NUMA node read from SysFS had negative value (-1), but there must be at least one NUMA node, so returning NUMA node zero\n",
      "2022-11-13 12:25:46.995853: I tensorflow/core/common_runtime/gpu/gpu_device.cc:1616] Created device /job:localhost/replica:0/task:0/device:GPU:0 with 6995 MB memory:  -> device: 0, name: NVIDIA GeForce GTX 1070 with Max-Q Design, pci bus id: 0000:01:00.0, compute capability: 6.1\n"
     ]
    }
   ],
   "source": [
    "train_data = tf.data.Dataset.from_tensor_slices((x_train, y_train))\n",
    "val_data = tf.data.Dataset.from_tensor_slices((x_test_full, y_test_full))"
   ]
  },
  {
   "cell_type": "code",
   "execution_count": 12,
   "metadata": {},
   "outputs": [],
   "source": [
    "# create train dataset\n",
    "train_data = PseudoLabelDataLoader(train_data, data_loader_config)(training = True)"
   ]
  },
  {
   "cell_type": "code",
   "execution_count": 13,
   "metadata": {},
   "outputs": [],
   "source": [
    "# create test dataset\n",
    "val_data = PseudoLabelDataLoader(val_data, data_loader_config)(training = False)"
   ]
  },
  {
   "cell_type": "code",
   "execution_count": 14,
   "metadata": {},
   "outputs": [
    {
     "name": "stdout",
     "output_type": "stream",
     "text": [
      "Train dataset size: 782\n",
      "Validation dataset size: 157\n"
     ]
    }
   ],
   "source": [
    "print(f\"Train dataset size: {train_data.cardinality()}\")\n",
    "print(f\"Validation dataset size: {val_data.cardinality()}\")"
   ]
  },
  {
   "cell_type": "markdown",
   "metadata": {},
   "source": [
    "# Train Model"
   ]
  },
  {
   "cell_type": "code",
   "execution_count": 15,
   "metadata": {},
   "outputs": [],
   "source": [
    "model = PiModel(model_config)()"
   ]
  },
  {
   "cell_type": "code",
   "execution_count": 16,
   "metadata": {},
   "outputs": [],
   "source": [
    "trainer = PseudoLabelTrainer(\n",
    "    model, train_data, train_config,\n",
    "    val_dataset = val_data)"
   ]
  },
  {
   "cell_type": "code",
   "execution_count": null,
   "metadata": {},
   "outputs": [
    {
     "name": "stderr",
     "output_type": "stream",
     "text": [
      "2022-11-13 12:25:48.763765: I tensorflow/stream_executor/cuda/cuda_dnn.cc:384] Loaded cuDNN version 8204\n"
     ]
    },
    {
     "name": "stdout",
     "output_type": "stream",
     "text": [
      "Training loss at epoch 0 is : 2.21. Validation loss is : 2.04. Validation acc. is : 20.16.\n",
      "Training loss at epoch 1 is : 1.93. Validation loss is : 1.86. Validation acc. is : 28.66.\n",
      "Training loss at epoch 2 is : 1.82. Validation loss is : 1.89. Validation acc. is : 29.91.\n",
      "Training loss at epoch 3 is : 1.72. Validation loss is : 1.70. Validation acc. is : 36.24.\n",
      "Training loss at epoch 4 is : 1.65. Validation loss is : 1.60. Validation acc. is : 40.44.\n",
      "Training loss at epoch 5 is : 1.57. Validation loss is : 1.59. Validation acc. is : 40.76.\n",
      "Training loss at epoch 6 is : 1.52. Validation loss is : 1.53. Validation acc. is : 43.28.\n",
      "Training loss at epoch 7 is : 1.45. Validation loss is : 1.67. Validation acc. is : 41.41.\n",
      "Training loss at epoch 8 is : 1.40. Validation loss is : 1.46. Validation acc. is : 46.35.\n",
      "Training loss at epoch 9 is : 1.38. Validation loss is : 1.38. Validation acc. is : 48.83.\n",
      "Training loss at epoch 10 is : 1.30. Validation loss is : 1.43. Validation acc. is : 48.40.\n",
      "Training loss at epoch 11 is : 1.24. Validation loss is : 1.36. Validation acc. is : 51.59.\n",
      "Training loss at epoch 12 is : 1.20. Validation loss is : 1.38. Validation acc. is : 52.00.\n",
      "Training loss at epoch 13 is : 1.15. Validation loss is : 1.42. Validation acc. is : 50.00.\n",
      "Training loss at epoch 14 is : 1.12. Validation loss is : 1.36. Validation acc. is : 52.84.\n",
      "Training loss at epoch 15 is : 1.07. Validation loss is : 1.26. Validation acc. is : 55.48.\n",
      "Training loss at epoch 16 is : 1.00. Validation loss is : 1.29. Validation acc. is : 53.49.\n",
      "Training loss at epoch 17 is : 0.97. Validation loss is : 1.23. Validation acc. is : 57.07.\n",
      "Training loss at epoch 18 is : 0.92. Validation loss is : 1.28. Validation acc. is : 55.27.\n",
      "Training loss at epoch 19 is : 0.88. Validation loss is : 1.41. Validation acc. is : 54.78.\n",
      "Training loss at epoch 20 is : 0.83. Validation loss is : 1.26. Validation acc. is : 57.08.\n",
      "Training loss at epoch 21 is : 0.79. Validation loss is : 1.40. Validation acc. is : 54.32.\n",
      "Training loss at epoch 22 is : 0.76. Validation loss is : 1.24. Validation acc. is : 59.08.\n",
      "Training loss at epoch 23 is : 0.72. Validation loss is : 1.22. Validation acc. is : 59.72.\n",
      "Training loss at epoch 24 is : 0.66. Validation loss is : 1.29. Validation acc. is : 58.29.\n",
      "Training loss at epoch 25 is : 0.63. Validation loss is : 1.24. Validation acc. is : 60.52.\n",
      "Training loss at epoch 26 is : 0.57. Validation loss is : 1.38. Validation acc. is : 58.97.\n",
      "Training loss at epoch 27 is : 0.54. Validation loss is : 1.37. Validation acc. is : 58.88.\n",
      "Training loss at epoch 28 is : 0.51. Validation loss is : 1.44. Validation acc. is : 59.12.\n",
      "Training loss at epoch 29 is : 0.46. Validation loss is : 1.36. Validation acc. is : 59.93.\n",
      "Training loss at epoch 30 is : 0.45. Validation loss is : 1.45. Validation acc. is : 58.25.\n",
      "Training loss at epoch 31 is : 0.38. Validation loss is : 1.52. Validation acc. is : 56.55.\n",
      "Training loss at epoch 32 is : 0.35. Validation loss is : 1.52. Validation acc. is : 60.79.\n",
      "Training loss at epoch 33 is : 0.32. Validation loss is : 1.51. Validation acc. is : 60.15.\n",
      "Training loss at epoch 34 is : 0.30. Validation loss is : 1.64. Validation acc. is : 59.34.\n",
      "Training loss at epoch 35 is : 0.25. Validation loss is : 1.77. Validation acc. is : 58.54.\n",
      "Training loss at epoch 36 is : 0.27. Validation loss is : 1.64. Validation acc. is : 59.30.\n",
      "Training loss at epoch 37 is : 0.20. Validation loss is : 1.86. Validation acc. is : 61.45.\n",
      "Training loss at epoch 38 is : 0.21. Validation loss is : 1.90. Validation acc. is : 60.28.\n",
      "Training loss at epoch 39 is : 0.21. Validation loss is : 2.19. Validation acc. is : 59.76.\n",
      "Training loss at epoch 40 is : 0.16. Validation loss is : 1.98. Validation acc. is : 60.53.\n",
      "Training loss at epoch 41 is : 0.14. Validation loss is : 2.05. Validation acc. is : 60.16.\n",
      "Training loss at epoch 42 is : 0.13. Validation loss is : 2.45. Validation acc. is : 59.36.\n",
      "Training loss at epoch 43 is : 0.16. Validation loss is : 2.27. Validation acc. is : 58.53.\n",
      "Training loss at epoch 44 is : 0.11. Validation loss is : 2.36. Validation acc. is : 58.75.\n",
      "Training loss at epoch 45 is : 0.12. Validation loss is : 2.32. Validation acc. is : 60.00.\n",
      "Training loss at epoch 46 is : 0.15. Validation loss is : 2.53. Validation acc. is : 54.80.\n",
      "Training loss at epoch 47 is : 0.13. Validation loss is : 1.98. Validation acc. is : 60.19.\n",
      "Training loss at epoch 48 is : 0.04. Validation loss is : 2.69. Validation acc. is : 62.14.\n",
      "Training loss at epoch 49 is : 0.17. Validation loss is : 2.16. Validation acc. is : 60.57.\n",
      "Training loss at epoch 50 is : 0.06. Validation loss is : 2.55. Validation acc. is : 61.95.\n",
      "Training loss at epoch 51 is : 0.10. Validation loss is : 2.33. Validation acc. is : 58.94.\n",
      "Training loss at epoch 52 is : 0.06. Validation loss is : 2.22. Validation acc. is : 61.50.\n",
      "Training loss at epoch 53 is : 0.08. Validation loss is : 2.72. Validation acc. is : 57.15.\n",
      "Training loss at epoch 54 is : 0.12. Validation loss is : 1.95. Validation acc. is : 60.25.\n",
      "Training loss at epoch 55 is : 0.03. Validation loss is : 2.53. Validation acc. is : 61.06.\n",
      "Training loss at epoch 56 is : 0.15. Validation loss is : 2.54. Validation acc. is : 54.94.\n",
      "Training loss at epoch 57 is : 0.05. Validation loss is : 2.48. Validation acc. is : 61.77.\n",
      "Training loss at epoch 58 is : 0.00. Validation loss is : 2.76. Validation acc. is : 62.65.\n",
      "Training loss at epoch 59 is : 0.00. Validation loss is : 3.08. Validation acc. is : 62.57.\n",
      "Training loss at epoch 60 is : 0.00. Validation loss is : 3.35. Validation acc. is : 62.57.\n",
      "Training loss at epoch 61 is : 0.18. Validation loss is : 2.39. Validation acc. is : 59.29.\n",
      "Training loss at epoch 62 is : 0.09. Validation loss is : 2.40. Validation acc. is : 60.69.\n",
      "Training loss at epoch 63 is : 0.07. Validation loss is : 2.33. Validation acc. is : 61.38.\n",
      "Training loss at epoch 64 is : 0.05. Validation loss is : 2.67. Validation acc. is : 58.03.\n",
      "Training loss at epoch 65 is : 0.10. Validation loss is : 2.64. Validation acc. is : 57.12.\n",
      "Training loss at epoch 66 is : 0.04. Validation loss is : 2.55. Validation acc. is : 62.06.\n",
      "Training loss at epoch 67 is : 0.05. Validation loss is : 2.57. Validation acc. is : 61.79.\n",
      "Training loss at epoch 68 is : 0.01. Validation loss is : 2.79. Validation acc. is : 62.39.\n",
      "Training loss at epoch 69 is : 0.00. Validation loss is : 3.05. Validation acc. is : 62.55.\n",
      "Training loss at epoch 70 is : 0.00. Validation loss is : 3.22. Validation acc. is : 62.74.\n",
      "Training loss at epoch 71 is : 0.00. Validation loss is : 3.42. Validation acc. is : 62.62.\n",
      "Training loss at epoch 72 is : 0.14. Validation loss is : 2.33. Validation acc. is : 57.58.\n",
      "Training loss at epoch 73 is : 0.06. Validation loss is : 2.29. Validation acc. is : 60.93.\n",
      "Training loss at epoch 74 is : 0.03. Validation loss is : 2.79. Validation acc. is : 61.12.\n",
      "Training loss at epoch 75 is : 0.00. Validation loss is : 2.90. Validation acc. is : 63.08.\n",
      "Training loss at epoch 76 is : 0.00. Validation loss is : 3.09. Validation acc. is : 63.14.\n",
      "Training loss at epoch 77 is : 0.00. Validation loss is : 3.26. Validation acc. is : 63.12.\n",
      "Training loss at epoch 78 is : 0.00. Validation loss is : 3.43. Validation acc. is : 63.15.\n",
      "Training loss at epoch 79 is : 0.00. Validation loss is : 3.61. Validation acc. is : 63.29.\n",
      "Training loss at epoch 80 is : 0.00. Validation loss is : 3.76. Validation acc. is : 63.35.\n",
      "Training loss at epoch 81 is : 0.00. Validation loss is : 3.91. Validation acc. is : 63.42.\n",
      "Training loss at epoch 82 is : 0.00. Validation loss is : 4.07. Validation acc. is : 63.36.\n",
      "Training loss at epoch 83 is : 0.00. Validation loss is : 4.23. Validation acc. is : 63.45.\n",
      "Training loss at epoch 84 is : 0.00. Validation loss is : 4.39. Validation acc. is : 63.46.\n",
      "Training loss at epoch 85 is : 0.00. Validation loss is : 4.57. Validation acc. is : 63.27.\n",
      "Training loss at epoch 86 is : 0.00. Validation loss is : 4.78. Validation acc. is : 63.37.\n",
      "Training loss at epoch 87 is : 0.00. Validation loss is : 4.97. Validation acc. is : 63.48.\n",
      "Training loss at epoch 88 is : 0.00. Validation loss is : 5.13. Validation acc. is : 63.50.\n",
      "Training loss at epoch 89 is : 0.00. Validation loss is : 5.32. Validation acc. is : 63.42.\n",
      "Training loss at epoch 90 is : 0.00. Validation loss is : 5.50. Validation acc. is : 63.25.\n",
      "Training loss at epoch 91 is : 0.00. Validation loss is : 5.63. Validation acc. is : 63.26.\n",
      "Training loss at epoch 92 is : 0.00. Validation loss is : 5.74. Validation acc. is : 63.27.\n",
      "Training loss at epoch 93 is : 0.00. Validation loss is : 5.84. Validation acc. is : 63.33.\n",
      "Training loss at epoch 94 is : 0.00. Validation loss is : 5.94. Validation acc. is : 63.25.\n",
      "Training loss at epoch 95 is : 0.00. Validation loss is : 6.05. Validation acc. is : 63.38.\n",
      "Training loss at epoch 96 is : 0.00. Validation loss is : 6.15. Validation acc. is : 63.38.\n",
      "Training loss at epoch 97 is : 0.00. Validation loss is : 6.21. Validation acc. is : 63.39.\n",
      "Training loss at epoch 98 is : 0.00. Validation loss is : 6.29. Validation acc. is : 63.45.\n",
      "Training loss at epoch 99 is : 0.00. Validation loss is : 6.35. Validation acc. is : 63.38.\n",
      "Training loss at epoch 100 is : 0.00. Validation loss is : 6.40. Validation acc. is : 63.31.\n",
      "Training loss at epoch 101 is : 0.34. Validation loss is : 2.71. Validation acc. is : 60.25.\n",
      "Training loss at epoch 102 is : 0.07. Validation loss is : 2.61. Validation acc. is : 60.51.\n",
      "Training loss at epoch 103 is : 0.09. Validation loss is : 2.61. Validation acc. is : 59.15.\n",
      "Training loss at epoch 104 is : 0.11. Validation loss is : 2.73. Validation acc. is : 60.13.\n",
      "Training loss at epoch 105 is : 0.10. Validation loss is : 3.21. Validation acc. is : 59.11.\n",
      "Training loss at epoch 106 is : 0.09. Validation loss is : 3.78. Validation acc. is : 60.41.\n",
      "Training loss at epoch 107 is : 0.14. Validation loss is : 2.88. Validation acc. is : 61.50.\n",
      "Training loss at epoch 108 is : 0.11. Validation loss is : 3.43. Validation acc. is : 61.57.\n",
      "Training loss at epoch 109 is : 0.16. Validation loss is : 3.17. Validation acc. is : 62.14.\n",
      "Training loss at epoch 110 is : 0.10. Validation loss is : 4.10. Validation acc. is : 61.65.\n",
      "Training loss at epoch 111 is : 0.15. Validation loss is : 3.91. Validation acc. is : 60.00.\n",
      "Training loss at epoch 112 is : 0.17. Validation loss is : 3.57. Validation acc. is : 61.32.\n",
      "Training loss at epoch 113 is : 0.16. Validation loss is : 3.61. Validation acc. is : 61.57.\n",
      "Training loss at epoch 114 is : 0.13. Validation loss is : 4.19. Validation acc. is : 60.85.\n",
      "Training loss at epoch 115 is : 0.14. Validation loss is : 4.20. Validation acc. is : 60.75.\n",
      "Training loss at epoch 116 is : 0.15. Validation loss is : 4.69. Validation acc. is : 59.27.\n",
      "Training loss at epoch 117 is : 0.17. Validation loss is : 4.50. Validation acc. is : 60.84.\n",
      "Training loss at epoch 118 is : 0.13. Validation loss is : 5.42. Validation acc. is : 58.42.\n",
      "Training loss at epoch 119 is : 0.16. Validation loss is : 4.89. Validation acc. is : 60.63.\n",
      "Training loss at epoch 120 is : 0.18. Validation loss is : 4.45. Validation acc. is : 60.11.\n",
      "Training loss at epoch 121 is : 0.17. Validation loss is : 4.88. Validation acc. is : 61.17.\n",
      "Training loss at epoch 122 is : 0.18. Validation loss is : 4.75. Validation acc. is : 59.76.\n",
      "Training loss at epoch 123 is : 0.13. Validation loss is : 5.42. Validation acc. is : 61.67.\n",
      "Training loss at epoch 124 is : 0.21. Validation loss is : 4.83. Validation acc. is : 58.57.\n",
      "Training loss at epoch 125 is : 0.19. Validation loss is : 4.91. Validation acc. is : 61.47.\n",
      "Training loss at epoch 126 is : 0.19. Validation loss is : 6.01. Validation acc. is : 58.51.\n",
      "Training loss at epoch 127 is : 0.19. Validation loss is : 5.41. Validation acc. is : 58.33.\n",
      "Training loss at epoch 128 is : 0.17. Validation loss is : 5.71. Validation acc. is : 60.62.\n",
      "Training loss at epoch 129 is : 0.23. Validation loss is : 4.79. Validation acc. is : 61.74.\n",
      "Training loss at epoch 130 is : 0.21. Validation loss is : 5.30. Validation acc. is : 59.99.\n",
      "Training loss at epoch 131 is : 0.17. Validation loss is : 5.89. Validation acc. is : 61.24.\n",
      "Training loss at epoch 132 is : 0.19. Validation loss is : 6.10. Validation acc. is : 61.47.\n",
      "Training loss at epoch 133 is : 0.24. Validation loss is : 5.52. Validation acc. is : 60.64.\n",
      "Training loss at epoch 134 is : 0.22. Validation loss is : 5.22. Validation acc. is : 61.56.\n",
      "Training loss at epoch 135 is : 0.20. Validation loss is : 5.93. Validation acc. is : 59.96.\n",
      "Training loss at epoch 136 is : 0.21. Validation loss is : 6.23. Validation acc. is : 60.39.\n",
      "Training loss at epoch 137 is : 0.20. Validation loss is : 5.36. Validation acc. is : 62.04.\n",
      "Training loss at epoch 138 is : 0.24. Validation loss is : 5.21. Validation acc. is : 61.15.\n",
      "Training loss at epoch 139 is : 0.22. Validation loss is : 5.63. Validation acc. is : 61.50.\n",
      "Training loss at epoch 140 is : 0.23. Validation loss is : 5.95. Validation acc. is : 61.35.\n",
      "Training loss at epoch 141 is : 0.25. Validation loss is : 6.19. Validation acc. is : 59.91.\n",
      "Training loss at epoch 142 is : 0.22. Validation loss is : 6.33. Validation acc. is : 59.67.\n",
      "Training loss at epoch 143 is : 0.25. Validation loss is : 6.35. Validation acc. is : 57.99.\n",
      "Training loss at epoch 144 is : 0.23. Validation loss is : 6.02. Validation acc. is : 59.51.\n",
      "Training loss at epoch 145 is : 0.25. Validation loss is : 7.98. Validation acc. is : 57.41.\n",
      "Training loss at epoch 146 is : 0.21. Validation loss is : 6.65. Validation acc. is : 60.10.\n",
      "Training loss at epoch 147 is : 0.24. Validation loss is : 6.60. Validation acc. is : 60.67.\n",
      "Training loss at epoch 148 is : 0.23. Validation loss is : 7.43. Validation acc. is : 57.28.\n",
      "Training loss at epoch 149 is : 0.23. Validation loss is : 7.08. Validation acc. is : 58.66.\n",
      "Training loss at epoch 150 is : 0.22. Validation loss is : 7.45. Validation acc. is : 58.58.\n",
      "Training loss at epoch 151 is : 0.25. Validation loss is : 6.64. Validation acc. is : 61.10.\n",
      "Training loss at epoch 152 is : 0.22. Validation loss is : 6.85. Validation acc. is : 59.65.\n",
      "Training loss at epoch 153 is : 0.27. Validation loss is : 7.61. Validation acc. is : 58.56.\n",
      "Training loss at epoch 154 is : 0.26. Validation loss is : 7.51. Validation acc. is : 58.55.\n",
      "Training loss at epoch 155 is : 0.20. Validation loss is : 7.51. Validation acc. is : 60.50.\n",
      "Training loss at epoch 156 is : 0.22. Validation loss is : 7.08. Validation acc. is : 60.12.\n",
      "Training loss at epoch 157 is : 0.23. Validation loss is : 6.83. Validation acc. is : 61.02.\n",
      "Training loss at epoch 158 is : 0.19. Validation loss is : 7.58. Validation acc. is : 60.79.\n",
      "Training loss at epoch 159 is : 0.21. Validation loss is : 7.84. Validation acc. is : 60.47.\n",
      "Training loss at epoch 160 is : 0.23. Validation loss is : 7.00. Validation acc. is : 62.13.\n",
      "Training loss at epoch 161 is : 0.19. Validation loss is : 7.57. Validation acc. is : 59.93.\n",
      "Training loss at epoch 162 is : 0.21. Validation loss is : 7.72. Validation acc. is : 57.93.\n",
      "Training loss at epoch 163 is : 0.25. Validation loss is : 7.44. Validation acc. is : 59.36.\n",
      "Training loss at epoch 164 is : 0.22. Validation loss is : 6.76. Validation acc. is : 61.02.\n",
      "Training loss at epoch 165 is : 0.24. Validation loss is : 6.66. Validation acc. is : 61.02.\n",
      "Training loss at epoch 166 is : 0.23. Validation loss is : 7.20. Validation acc. is : 60.33.\n",
      "Training loss at epoch 167 is : 0.21. Validation loss is : 7.02. Validation acc. is : 61.10.\n",
      "Training loss at epoch 168 is : 0.23. Validation loss is : 7.58. Validation acc. is : 60.10.\n",
      "Training loss at epoch 169 is : 0.19. Validation loss is : 7.63. Validation acc. is : 60.31.\n",
      "Training loss at epoch 170 is : 0.28. Validation loss is : 7.22. Validation acc. is : 59.79.\n",
      "Training loss at epoch 171 is : 0.23. Validation loss is : 7.95. Validation acc. is : 57.89.\n",
      "Training loss at epoch 172 is : 0.19. Validation loss is : 7.86. Validation acc. is : 60.76.\n",
      "Training loss at epoch 173 is : 0.22. Validation loss is : 7.73. Validation acc. is : 60.78.\n",
      "Training loss at epoch 174 is : 0.19. Validation loss is : 8.35. Validation acc. is : 58.44.\n",
      "Training loss at epoch 175 is : 0.21. Validation loss is : 7.77. Validation acc. is : 60.52.\n",
      "Training loss at epoch 176 is : 0.20. Validation loss is : 8.36. Validation acc. is : 60.60.\n",
      "Training loss at epoch 177 is : 0.22. Validation loss is : 8.19. Validation acc. is : 60.22.\n",
      "Training loss at epoch 178 is : 0.22. Validation loss is : 7.96. Validation acc. is : 60.36.\n",
      "Training loss at epoch 179 is : 0.19. Validation loss is : 9.12. Validation acc. is : 56.89.\n",
      "Training loss at epoch 180 is : 0.26. Validation loss is : 7.14. Validation acc. is : 60.21.\n",
      "Training loss at epoch 181 is : 0.17. Validation loss is : 7.74. Validation acc. is : 60.48.\n",
      "Training loss at epoch 182 is : 0.23. Validation loss is : 7.54. Validation acc. is : 58.21.\n",
      "Training loss at epoch 183 is : 0.21. Validation loss is : 7.34. Validation acc. is : 59.95.\n",
      "Training loss at epoch 184 is : 0.23. Validation loss is : 7.67. Validation acc. is : 60.55.\n",
      "Training loss at epoch 185 is : 0.23. Validation loss is : 6.92. Validation acc. is : 61.74.\n",
      "Training loss at epoch 186 is : 0.18. Validation loss is : 7.25. Validation acc. is : 61.60.\n",
      "Training loss at epoch 187 is : 0.20. Validation loss is : 8.00. Validation acc. is : 61.44.\n",
      "Training loss at epoch 188 is : 0.20. Validation loss is : 8.82. Validation acc. is : 56.88.\n",
      "Training loss at epoch 189 is : 0.22. Validation loss is : 7.79. Validation acc. is : 60.37.\n",
      "Training loss at epoch 190 is : 0.19. Validation loss is : 7.51. Validation acc. is : 61.29.\n",
      "Training loss at epoch 191 is : 0.20. Validation loss is : 7.90. Validation acc. is : 60.67.\n",
      "Training loss at epoch 192 is : 0.19. Validation loss is : 8.70. Validation acc. is : 57.71.\n",
      "Training loss at epoch 193 is : 0.22. Validation loss is : 9.25. Validation acc. is : 57.14.\n",
      "Training loss at epoch 194 is : 0.21. Validation loss is : 8.91. Validation acc. is : 59.05.\n",
      "Training loss at epoch 195 is : 0.18. Validation loss is : 7.61. Validation acc. is : 61.75.\n",
      "Training loss at epoch 196 is : 0.18. Validation loss is : 8.25. Validation acc. is : 60.96.\n",
      "Training loss at epoch 197 is : 0.21. Validation loss is : 8.80. Validation acc. is : 58.94.\n"
     ]
    }
   ],
   "source": [
    "trainer.train()"
   ]
  },
  {
   "cell_type": "code",
   "execution_count": null,
   "metadata": {},
   "outputs": [],
   "source": []
  }
 ],
 "metadata": {
  "interpreter": {
   "hash": "0dadcd243d7a81fb679ed94fa0b3507371cb4f0217aac2cbcd3d9c4ad08fe2a2"
  },
  "kernelspec": {
   "display_name": "Python 3 (ipykernel)",
   "language": "python",
   "name": "python3"
  },
  "language_info": {
   "codemirror_mode": {
    "name": "ipython",
    "version": 3
   },
   "file_extension": ".py",
   "mimetype": "text/x-python",
   "name": "python",
   "nbconvert_exporter": "python",
   "pygments_lexer": "ipython3",
   "version": "3.9.13"
  }
 },
 "nbformat": 4,
 "nbformat_minor": 4
}
