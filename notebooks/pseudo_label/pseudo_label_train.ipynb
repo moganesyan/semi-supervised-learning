{
 "cells": [
  {
   "cell_type": "code",
   "execution_count": 1,
   "source": [
    "import sys\n",
    "from pathlib import Path"
   ],
   "outputs": [],
   "metadata": {}
  },
  {
   "cell_type": "code",
   "execution_count": 2,
   "source": [
    "import numpy as np\n",
    "import tensorflow as tf\n",
    "\n",
    "from sklearn.model_selection import train_test_split\n",
    "from sklearn.utils import shuffle"
   ],
   "outputs": [
    {
     "output_type": "stream",
     "name": "stderr",
     "text": [
      "2022-11-14 12:39:49.615271: I tensorflow/core/platform/cpu_feature_guard.cc:193] This TensorFlow binary is optimized with oneAPI Deep Neural Network Library (oneDNN) to use the following CPU instructions in performance-critical operations:  AVX2 FMA\n",
      "To enable them in other operations, rebuild TensorFlow with the appropriate compiler flags.\n",
      "2022-11-14 12:39:49.771085: E tensorflow/stream_executor/cuda/cuda_blas.cc:2981] Unable to register cuBLAS factory: Attempting to register factory for plugin cuBLAS when one has already been registered\n",
      "2022-11-14 12:39:50.314828: W tensorflow/stream_executor/platform/default/dso_loader.cc:64] Could not load dynamic library 'libnvinfer.so.7'; dlerror: libnvinfer.so.7: cannot open shared object file: No such file or directory; LD_LIBRARY_PATH: /usr/local/cuda-11.4/lib64\n",
      "2022-11-14 12:39:50.314896: W tensorflow/stream_executor/platform/default/dso_loader.cc:64] Could not load dynamic library 'libnvinfer_plugin.so.7'; dlerror: libnvinfer_plugin.so.7: cannot open shared object file: No such file or directory; LD_LIBRARY_PATH: /usr/local/cuda-11.4/lib64\n",
      "2022-11-14 12:39:50.314904: W tensorflow/compiler/tf2tensorrt/utils/py_utils.cc:38] TF-TRT Warning: Cannot dlopen some TensorRT libraries. If you would like to use Nvidia GPU with TensorRT, please make sure the missing libraries mentioned above are installed properly.\n"
     ]
    }
   ],
   "metadata": {}
  },
  {
   "cell_type": "code",
   "execution_count": 3,
   "source": [
    "sys.path.append(str(Path(\"../../ssl\").resolve()))"
   ],
   "outputs": [],
   "metadata": {}
  },
  {
   "cell_type": "code",
   "execution_count": 4,
   "source": [
    "from src.models.pi_model.pi_model import PiModel\n",
    "from src.models.pi_model.pi_model_config import PiModelConfig\n",
    "from src.trainers.pseudo_label.pseudo_label import PseudoLabelTrainer\n",
    "from src.trainers.pseudo_label.pseudo_label_config import PseudoLabelTrainerConfig\n",
    "from src.data_loaders.pseudo_label.pseudo_label import PseudoLabelDataLoader\n",
    "from src.data_loaders.pseudo_label.pseudo_label import PseudoLabelDataLoaderConfig"
   ],
   "outputs": [],
   "metadata": {}
  },
  {
   "cell_type": "markdown",
   "source": [
    "# Description\n",
    "\n",
    "In this notebook, the a model will be trained on the CIFAR-10 dataset using only 20% of the labelled dataset. Unlabelled data will be used in training."
   ],
   "metadata": {}
  },
  {
   "cell_type": "markdown",
   "source": [
    "## Set up Experiment"
   ],
   "metadata": {}
  },
  {
   "cell_type": "code",
   "execution_count": 5,
   "source": [
    "class TrainerConfig(PseudoLabelTrainerConfig):\n",
    "    num_epochs = 200\n",
    "    t1 = 100\n",
    "    t2 = 150\n",
    "    alpha = 3.0\n",
    "\n",
    "train_config = TrainerConfig()"
   ],
   "outputs": [],
   "metadata": {}
  },
  {
   "cell_type": "code",
   "execution_count": 6,
   "source": [
    "class ModelConfig(PiModelConfig):\n",
    "    input_shape = (32, 32, 3)\n",
    "    output_shape = 10\n",
    "\n",
    "model_config = ModelConfig()"
   ],
   "outputs": [],
   "metadata": {}
  },
  {
   "cell_type": "code",
   "execution_count": 7,
   "source": [
    "class DataLoaderConfig(PseudoLabelDataLoaderConfig):\n",
    "    batch_size = 64\n",
    "    num_classes = 10\n",
    "    shuffle_buffer_size = 50000 # dataset size    \n",
    "\n",
    "data_loader_config = DataLoaderConfig()"
   ],
   "outputs": [],
   "metadata": {}
  },
  {
   "cell_type": "markdown",
   "source": [
    "## Get Datasets"
   ],
   "metadata": {}
  },
  {
   "cell_type": "code",
   "execution_count": 8,
   "source": [
    "(x_train_full, y_train_full), (x_test_full, y_test_full) = tf.keras.datasets.cifar10.load_data()"
   ],
   "outputs": [],
   "metadata": {}
  },
  {
   "cell_type": "code",
   "execution_count": 9,
   "source": [
    "# get train dataset by subsampling 20% of the full training dataset (stratified by labels)\n",
    "# add the rest as unlabelled samples\n",
    "x_train_unlabelled, x_train_labelled, y_train_unlabelled_, y_train_labelled = train_test_split(\n",
    "    x_train_full, y_train_full,\n",
    "    stratify = y_train_full,\n",
    "    test_size = 0.20, random_state = 42\n",
    ")\n",
    "\n",
    "# cast types\n",
    "y_train_unlabelled = (-1 * np.ones_like(y_train_unlabelled_)).astype(np.int64)\n",
    "y_train_labelled = y_train_labelled.astype(np.int64)\n",
    "y_test_full = y_test_full.astype(np.int64)"
   ],
   "outputs": [],
   "metadata": {}
  },
  {
   "cell_type": "code",
   "execution_count": 10,
   "source": [
    "x_train = np.concatenate((x_train_unlabelled, x_train_labelled), axis = 0)\n",
    "y_train = np.concatenate((y_train_unlabelled, y_train_labelled), axis = 0)"
   ],
   "outputs": [],
   "metadata": {}
  },
  {
   "cell_type": "code",
   "execution_count": 11,
   "source": [
    "train_data = tf.data.Dataset.from_tensor_slices((x_train, y_train))\n",
    "val_data = tf.data.Dataset.from_tensor_slices((x_test_full, y_test_full))"
   ],
   "outputs": [
    {
     "output_type": "stream",
     "name": "stderr",
     "text": [
      "2022-11-14 12:39:52.248950: I tensorflow/stream_executor/cuda/cuda_gpu_executor.cc:980] successful NUMA node read from SysFS had negative value (-1), but there must be at least one NUMA node, so returning NUMA node zero\n",
      "2022-11-14 12:39:52.254847: I tensorflow/stream_executor/cuda/cuda_gpu_executor.cc:980] successful NUMA node read from SysFS had negative value (-1), but there must be at least one NUMA node, so returning NUMA node zero\n",
      "2022-11-14 12:39:52.255327: I tensorflow/stream_executor/cuda/cuda_gpu_executor.cc:980] successful NUMA node read from SysFS had negative value (-1), but there must be at least one NUMA node, so returning NUMA node zero\n",
      "2022-11-14 12:39:52.256592: I tensorflow/core/platform/cpu_feature_guard.cc:193] This TensorFlow binary is optimized with oneAPI Deep Neural Network Library (oneDNN) to use the following CPU instructions in performance-critical operations:  AVX2 FMA\n",
      "To enable them in other operations, rebuild TensorFlow with the appropriate compiler flags.\n",
      "2022-11-14 12:39:52.256966: I tensorflow/stream_executor/cuda/cuda_gpu_executor.cc:980] successful NUMA node read from SysFS had negative value (-1), but there must be at least one NUMA node, so returning NUMA node zero\n",
      "2022-11-14 12:39:52.257435: I tensorflow/stream_executor/cuda/cuda_gpu_executor.cc:980] successful NUMA node read from SysFS had negative value (-1), but there must be at least one NUMA node, so returning NUMA node zero\n",
      "2022-11-14 12:39:52.257871: I tensorflow/stream_executor/cuda/cuda_gpu_executor.cc:980] successful NUMA node read from SysFS had negative value (-1), but there must be at least one NUMA node, so returning NUMA node zero\n",
      "2022-11-14 12:39:52.704341: I tensorflow/stream_executor/cuda/cuda_gpu_executor.cc:980] successful NUMA node read from SysFS had negative value (-1), but there must be at least one NUMA node, so returning NUMA node zero\n",
      "2022-11-14 12:39:52.704856: I tensorflow/stream_executor/cuda/cuda_gpu_executor.cc:980] successful NUMA node read from SysFS had negative value (-1), but there must be at least one NUMA node, so returning NUMA node zero\n",
      "2022-11-14 12:39:52.705319: I tensorflow/stream_executor/cuda/cuda_gpu_executor.cc:980] successful NUMA node read from SysFS had negative value (-1), but there must be at least one NUMA node, so returning NUMA node zero\n",
      "2022-11-14 12:39:52.705731: I tensorflow/core/common_runtime/gpu/gpu_device.cc:1616] Created device /job:localhost/replica:0/task:0/device:GPU:0 with 7005 MB memory:  -> device: 0, name: NVIDIA GeForce GTX 1070 with Max-Q Design, pci bus id: 0000:01:00.0, compute capability: 6.1\n"
     ]
    }
   ],
   "metadata": {}
  },
  {
   "cell_type": "code",
   "execution_count": 12,
   "source": [
    "# create train dataset\n",
    "train_data = PseudoLabelDataLoader(train_data, data_loader_config)(training = True)"
   ],
   "outputs": [],
   "metadata": {}
  },
  {
   "cell_type": "code",
   "execution_count": 13,
   "source": [
    "# create test dataset\n",
    "val_data = PseudoLabelDataLoader(val_data, data_loader_config)(training = False)"
   ],
   "outputs": [],
   "metadata": {}
  },
  {
   "cell_type": "code",
   "execution_count": 14,
   "source": [
    "print(f\"Train dataset size: {train_data.cardinality()}\")\n",
    "print(f\"Validation dataset size: {val_data.cardinality()}\")"
   ],
   "outputs": [
    {
     "output_type": "stream",
     "name": "stdout",
     "text": [
      "Train dataset size: 782\n",
      "Validation dataset size: 157\n"
     ]
    }
   ],
   "metadata": {}
  },
  {
   "cell_type": "markdown",
   "source": [
    "# Train Model"
   ],
   "metadata": {}
  },
  {
   "cell_type": "code",
   "execution_count": 15,
   "source": [
    "model = PiModel(model_config)()"
   ],
   "outputs": [],
   "metadata": {}
  },
  {
   "cell_type": "code",
   "execution_count": 16,
   "source": [
    "trainer = PseudoLabelTrainer(\n",
    "    model, train_data, train_config,\n",
    "    val_dataset = val_data)"
   ],
   "outputs": [],
   "metadata": {}
  },
  {
   "cell_type": "code",
   "execution_count": 17,
   "source": [
    "trainer.train()"
   ],
   "outputs": [
    {
     "output_type": "stream",
     "name": "stderr",
     "text": [
      "2022-11-14 12:39:54.235053: I tensorflow/stream_executor/cuda/cuda_dnn.cc:384] Loaded cuDNN version 8204\n"
     ]
    },
    {
     "output_type": "stream",
     "name": "stdout",
     "text": [
      "Training loss at epoch 0 is : 2.08. Validation loss is : 1.88. Validation acc. is : 26.87.\n",
      "Training loss at epoch 1 is : 1.78. Validation loss is : 1.80. Validation acc. is : 30.52.\n",
      "Training loss at epoch 2 is : 1.64. Validation loss is : 1.72. Validation acc. is : 36.73.\n",
      "Training loss at epoch 3 is : 1.54. Validation loss is : 1.53. Validation acc. is : 43.41.\n",
      "Training loss at epoch 4 is : 1.46. Validation loss is : 1.41. Validation acc. is : 48.17.\n",
      "Training loss at epoch 5 is : 1.39. Validation loss is : 1.35. Validation acc. is : 49.90.\n",
      "Training loss at epoch 6 is : 1.30. Validation loss is : 1.30. Validation acc. is : 52.92.\n",
      "Training loss at epoch 7 is : 1.23. Validation loss is : 1.27. Validation acc. is : 55.58.\n",
      "Training loss at epoch 8 is : 1.17. Validation loss is : 1.25. Validation acc. is : 55.35.\n",
      "Training loss at epoch 9 is : 1.11. Validation loss is : 1.22. Validation acc. is : 55.94.\n",
      "Training loss at epoch 10 is : 1.08. Validation loss is : 1.16. Validation acc. is : 58.16.\n",
      "Training loss at epoch 11 is : 1.02. Validation loss is : 1.14. Validation acc. is : 60.35.\n",
      "Training loss at epoch 12 is : 0.98. Validation loss is : 1.09. Validation acc. is : 61.55.\n",
      "Training loss at epoch 13 is : 0.93. Validation loss is : 1.07. Validation acc. is : 61.31.\n",
      "Training loss at epoch 14 is : 0.89. Validation loss is : 1.09. Validation acc. is : 61.49.\n",
      "Training loss at epoch 15 is : 0.87. Validation loss is : 1.01. Validation acc. is : 64.06.\n",
      "Training loss at epoch 16 is : 0.82. Validation loss is : 1.05. Validation acc. is : 63.53.\n",
      "Training loss at epoch 17 is : 0.79. Validation loss is : 1.22. Validation acc. is : 61.37.\n",
      "Training loss at epoch 18 is : 0.76. Validation loss is : 1.06. Validation acc. is : 64.01.\n",
      "Training loss at epoch 19 is : 0.73. Validation loss is : 1.01. Validation acc. is : 64.68.\n",
      "Training loss at epoch 20 is : 0.70. Validation loss is : 0.99. Validation acc. is : 65.89.\n",
      "Training loss at epoch 21 is : 0.67. Validation loss is : 0.98. Validation acc. is : 67.29.\n",
      "Training loss at epoch 22 is : 0.63. Validation loss is : 1.11. Validation acc. is : 64.95.\n",
      "Training loss at epoch 23 is : 0.61. Validation loss is : 0.98. Validation acc. is : 67.20.\n",
      "Training loss at epoch 24 is : 0.57. Validation loss is : 1.01. Validation acc. is : 67.11.\n",
      "Training loss at epoch 25 is : 0.52. Validation loss is : 1.03. Validation acc. is : 67.96.\n",
      "Training loss at epoch 26 is : 0.51. Validation loss is : 0.99. Validation acc. is : 68.73.\n",
      "Training loss at epoch 27 is : 0.48. Validation loss is : 1.00. Validation acc. is : 68.15.\n",
      "Training loss at epoch 28 is : 0.45. Validation loss is : 0.99. Validation acc. is : 69.39.\n",
      "Training loss at epoch 29 is : 0.41. Validation loss is : 1.03. Validation acc. is : 68.56.\n",
      "Training loss at epoch 30 is : 0.39. Validation loss is : 1.13. Validation acc. is : 68.03.\n",
      "Training loss at epoch 31 is : 0.36. Validation loss is : 1.06. Validation acc. is : 69.00.\n",
      "Training loss at epoch 32 is : 0.35. Validation loss is : 1.27. Validation acc. is : 64.51.\n",
      "Training loss at epoch 33 is : 0.31. Validation loss is : 1.12. Validation acc. is : 69.26.\n",
      "Training loss at epoch 34 is : 0.30. Validation loss is : 1.19. Validation acc. is : 67.67.\n",
      "Training loss at epoch 35 is : 0.26. Validation loss is : 1.30. Validation acc. is : 67.15.\n",
      "Training loss at epoch 36 is : 0.25. Validation loss is : 1.36. Validation acc. is : 66.93.\n",
      "Training loss at epoch 37 is : 0.23. Validation loss is : 1.21. Validation acc. is : 68.80.\n",
      "Training loss at epoch 38 is : 0.20. Validation loss is : 1.28. Validation acc. is : 68.31.\n",
      "Training loss at epoch 39 is : 0.18. Validation loss is : 1.51. Validation acc. is : 67.78.\n",
      "Training loss at epoch 40 is : 0.20. Validation loss is : 1.37. Validation acc. is : 69.53.\n",
      "Training loss at epoch 41 is : 0.16. Validation loss is : 1.44. Validation acc. is : 70.06.\n",
      "Training loss at epoch 42 is : 0.14. Validation loss is : 1.42. Validation acc. is : 69.22.\n",
      "Training loss at epoch 43 is : 0.13. Validation loss is : 1.56. Validation acc. is : 68.24.\n",
      "Training loss at epoch 44 is : 0.15. Validation loss is : 1.48. Validation acc. is : 68.74.\n",
      "Training loss at epoch 45 is : 0.11. Validation loss is : 1.72. Validation acc. is : 67.14.\n",
      "Training loss at epoch 46 is : 0.11. Validation loss is : 1.54. Validation acc. is : 70.27.\n",
      "Training loss at epoch 47 is : 0.11. Validation loss is : 1.48. Validation acc. is : 69.25.\n",
      "Training loss at epoch 48 is : 0.09. Validation loss is : 1.53. Validation acc. is : 69.83.\n",
      "Training loss at epoch 49 is : 0.10. Validation loss is : 1.55. Validation acc. is : 68.38.\n",
      "Training loss at epoch 50 is : 0.10. Validation loss is : 1.49. Validation acc. is : 68.71.\n",
      "Training loss at epoch 51 is : 0.06. Validation loss is : 1.65. Validation acc. is : 69.95.\n",
      "Training loss at epoch 52 is : 0.11. Validation loss is : 1.56. Validation acc. is : 69.65.\n",
      "Training loss at epoch 53 is : 0.05. Validation loss is : 1.70. Validation acc. is : 67.52.\n",
      "Training loss at epoch 54 is : 0.10. Validation loss is : 1.61. Validation acc. is : 69.42.\n",
      "Training loss at epoch 55 is : 0.04. Validation loss is : 1.81. Validation acc. is : 68.04.\n",
      "Training loss at epoch 56 is : 0.07. Validation loss is : 1.78. Validation acc. is : 71.06.\n",
      "Training loss at epoch 57 is : 0.06. Validation loss is : 1.52. Validation acc. is : 69.01.\n",
      "Training loss at epoch 58 is : 0.07. Validation loss is : 1.68. Validation acc. is : 70.27.\n",
      "Training loss at epoch 59 is : 0.06. Validation loss is : 1.74. Validation acc. is : 71.13.\n",
      "Training loss at epoch 60 is : 0.06. Validation loss is : 1.46. Validation acc. is : 67.55.\n",
      "Training loss at epoch 61 is : 0.06. Validation loss is : 1.84. Validation acc. is : 66.29.\n",
      "Training loss at epoch 62 is : 0.04. Validation loss is : 1.96. Validation acc. is : 71.06.\n",
      "Training loss at epoch 63 is : 0.00. Validation loss is : 2.15. Validation acc. is : 71.64.\n",
      "Training loss at epoch 64 is : 0.00. Validation loss is : 2.37. Validation acc. is : 71.84.\n",
      "Training loss at epoch 65 is : 0.00. Validation loss is : 2.54. Validation acc. is : 71.73.\n",
      "Training loss at epoch 66 is : 0.00. Validation loss is : 2.65. Validation acc. is : 71.97.\n",
      "Training loss at epoch 67 is : 0.00. Validation loss is : 2.78. Validation acc. is : 71.92.\n",
      "Training loss at epoch 68 is : 0.00. Validation loss is : 2.93. Validation acc. is : 71.88.\n",
      "Training loss at epoch 69 is : 0.00. Validation loss is : 3.07. Validation acc. is : 71.71.\n",
      "Training loss at epoch 70 is : 0.00. Validation loss is : 3.18. Validation acc. is : 71.89.\n",
      "Training loss at epoch 71 is : 0.00. Validation loss is : 3.32. Validation acc. is : 71.87.\n",
      "Training loss at epoch 72 is : 0.00. Validation loss is : 3.46. Validation acc. is : 71.86.\n",
      "Training loss at epoch 73 is : 0.00. Validation loss is : 3.56. Validation acc. is : 71.96.\n",
      "Training loss at epoch 74 is : 0.00. Validation loss is : 3.71. Validation acc. is : 71.98.\n",
      "Training loss at epoch 75 is : 0.00. Validation loss is : 3.83. Validation acc. is : 71.92.\n",
      "Training loss at epoch 76 is : 0.08. Validation loss is : 4.88. Validation acc. is : 45.78.\n",
      "Training loss at epoch 77 is : 0.21. Validation loss is : 1.72. Validation acc. is : 70.28.\n",
      "Training loss at epoch 78 is : 0.06. Validation loss is : 1.81. Validation acc. is : 69.48.\n",
      "Training loss at epoch 79 is : 0.05. Validation loss is : 1.84. Validation acc. is : 70.59.\n",
      "Training loss at epoch 80 is : 0.00. Validation loss is : 2.09. Validation acc. is : 71.08.\n",
      "Training loss at epoch 81 is : 0.00. Validation loss is : 2.22. Validation acc. is : 71.95.\n",
      "Training loss at epoch 82 is : 0.00. Validation loss is : 2.35. Validation acc. is : 71.98.\n",
      "Training loss at epoch 83 is : 0.00. Validation loss is : 2.47. Validation acc. is : 71.90.\n",
      "Training loss at epoch 84 is : 0.00. Validation loss is : 2.60. Validation acc. is : 71.81.\n",
      "Training loss at epoch 85 is : 0.00. Validation loss is : 2.73. Validation acc. is : 71.95.\n",
      "Training loss at epoch 86 is : 0.00. Validation loss is : 2.86. Validation acc. is : 71.90.\n",
      "Training loss at epoch 87 is : 0.00. Validation loss is : 2.97. Validation acc. is : 71.81.\n",
      "Training loss at epoch 88 is : 0.00. Validation loss is : 3.09. Validation acc. is : 71.89.\n",
      "Training loss at epoch 89 is : 0.00. Validation loss is : 3.22. Validation acc. is : 72.00.\n",
      "Training loss at epoch 90 is : 0.00. Validation loss is : 3.36. Validation acc. is : 71.80.\n",
      "Training loss at epoch 91 is : 0.00. Validation loss is : 3.45. Validation acc. is : 71.93.\n",
      "Training loss at epoch 92 is : 0.00. Validation loss is : 3.58. Validation acc. is : 71.89.\n",
      "Training loss at epoch 93 is : 0.00. Validation loss is : 3.68. Validation acc. is : 71.94.\n",
      "Training loss at epoch 94 is : 0.00. Validation loss is : 3.79. Validation acc. is : 71.97.\n",
      "Training loss at epoch 95 is : 0.00. Validation loss is : 3.91. Validation acc. is : 71.85.\n",
      "Training loss at epoch 96 is : 0.00. Validation loss is : 4.00. Validation acc. is : 71.94.\n",
      "Training loss at epoch 97 is : 0.00. Validation loss is : 4.11. Validation acc. is : 71.92.\n",
      "Training loss at epoch 98 is : 0.00. Validation loss is : 4.21. Validation acc. is : 71.90.\n",
      "Training loss at epoch 99 is : 0.00. Validation loss is : 4.30. Validation acc. is : 71.75.\n",
      "Training loss at epoch 100 is : 0.15. Validation loss is : 1.30. Validation acc. is : 67.29.\n",
      "Training loss at epoch 101 is : 0.08. Validation loss is : 1.96. Validation acc. is : 70.93.\n",
      "Training loss at epoch 102 is : 0.07. Validation loss is : 1.96. Validation acc. is : 70.12.\n",
      "Training loss at epoch 103 is : 0.07. Validation loss is : 2.35. Validation acc. is : 69.93.\n",
      "Training loss at epoch 104 is : 0.10. Validation loss is : 1.88. Validation acc. is : 69.71.\n",
      "Training loss at epoch 105 is : 0.08. Validation loss is : 2.28. Validation acc. is : 67.49.\n",
      "Training loss at epoch 106 is : 0.10. Validation loss is : 2.24. Validation acc. is : 69.39.\n",
      "Training loss at epoch 107 is : 0.09. Validation loss is : 2.20. Validation acc. is : 70.00.\n",
      "Training loss at epoch 108 is : 0.11. Validation loss is : 2.61. Validation acc. is : 69.34.\n",
      "Training loss at epoch 109 is : 0.10. Validation loss is : 2.59. Validation acc. is : 70.23.\n",
      "Training loss at epoch 110 is : 0.11. Validation loss is : 2.56. Validation acc. is : 68.31.\n",
      "Training loss at epoch 111 is : 0.12. Validation loss is : 2.29. Validation acc. is : 70.23.\n",
      "Training loss at epoch 112 is : 0.11. Validation loss is : 2.83. Validation acc. is : 69.46.\n",
      "Training loss at epoch 113 is : 0.14. Validation loss is : 2.99. Validation acc. is : 68.51.\n",
      "Training loss at epoch 114 is : 0.13. Validation loss is : 3.00. Validation acc. is : 68.89.\n",
      "Training loss at epoch 115 is : 0.14. Validation loss is : 3.00. Validation acc. is : 69.50.\n",
      "Training loss at epoch 116 is : 0.13. Validation loss is : 2.91. Validation acc. is : 68.13.\n",
      "Training loss at epoch 117 is : 0.16. Validation loss is : 2.72. Validation acc. is : 69.63.\n",
      "Training loss at epoch 118 is : 0.15. Validation loss is : 2.63. Validation acc. is : 69.47.\n",
      "Training loss at epoch 119 is : 0.13. Validation loss is : 3.12. Validation acc. is : 70.42.\n",
      "Training loss at epoch 120 is : 0.15. Validation loss is : 2.99. Validation acc. is : 69.98.\n",
      "Training loss at epoch 121 is : 0.16. Validation loss is : 3.17. Validation acc. is : 68.26.\n",
      "Training loss at epoch 122 is : 0.17. Validation loss is : 3.13. Validation acc. is : 68.67.\n",
      "Training loss at epoch 123 is : 0.16. Validation loss is : 3.62. Validation acc. is : 68.42.\n",
      "Training loss at epoch 124 is : 0.15. Validation loss is : 3.29. Validation acc. is : 69.63.\n",
      "Training loss at epoch 125 is : 0.17. Validation loss is : 3.52. Validation acc. is : 70.38.\n",
      "Training loss at epoch 126 is : 0.19. Validation loss is : 3.00. Validation acc. is : 70.40.\n",
      "Training loss at epoch 127 is : 0.16. Validation loss is : 3.92. Validation acc. is : 69.36.\n",
      "Training loss at epoch 128 is : 0.17. Validation loss is : 3.32. Validation acc. is : 69.85.\n",
      "Training loss at epoch 129 is : 0.19. Validation loss is : 3.15. Validation acc. is : 71.03.\n",
      "Training loss at epoch 130 is : 0.16. Validation loss is : 3.58. Validation acc. is : 69.52.\n",
      "Training loss at epoch 131 is : 0.20. Validation loss is : 3.86. Validation acc. is : 67.37.\n",
      "Training loss at epoch 132 is : 0.19. Validation loss is : 4.05. Validation acc. is : 67.71.\n",
      "Training loss at epoch 133 is : 0.19. Validation loss is : 3.84. Validation acc. is : 68.59.\n",
      "Training loss at epoch 134 is : 0.19. Validation loss is : 3.78. Validation acc. is : 70.84.\n",
      "Training loss at epoch 135 is : 0.19. Validation loss is : 3.92. Validation acc. is : 69.65.\n",
      "Training loss at epoch 136 is : 0.18. Validation loss is : 4.17. Validation acc. is : 70.08.\n",
      "Training loss at epoch 137 is : 0.21. Validation loss is : 4.63. Validation acc. is : 67.38.\n",
      "Training loss at epoch 138 is : 0.19. Validation loss is : 4.11. Validation acc. is : 68.32.\n",
      "Training loss at epoch 139 is : 0.20. Validation loss is : 3.79. Validation acc. is : 69.22.\n",
      "Training loss at epoch 140 is : 0.21. Validation loss is : 4.15. Validation acc. is : 68.80.\n",
      "Training loss at epoch 141 is : 0.20. Validation loss is : 3.96. Validation acc. is : 69.94.\n",
      "Training loss at epoch 142 is : 0.23. Validation loss is : 3.77. Validation acc. is : 69.33.\n",
      "Training loss at epoch 143 is : 0.20. Validation loss is : 4.07. Validation acc. is : 69.79.\n",
      "Training loss at epoch 144 is : 0.22. Validation loss is : 4.21. Validation acc. is : 69.62.\n",
      "Training loss at epoch 145 is : 0.21. Validation loss is : 4.37. Validation acc. is : 68.21.\n",
      "Training loss at epoch 146 is : 0.21. Validation loss is : 4.22. Validation acc. is : 69.86.\n",
      "Training loss at epoch 147 is : 0.21. Validation loss is : 4.68. Validation acc. is : 67.77.\n",
      "Training loss at epoch 148 is : 0.23. Validation loss is : 4.63. Validation acc. is : 66.51.\n",
      "Training loss at epoch 149 is : 0.23. Validation loss is : 4.48. Validation acc. is : 69.87.\n",
      "Training loss at epoch 150 is : 0.23. Validation loss is : 4.19. Validation acc. is : 68.85.\n",
      "Training loss at epoch 151 is : 0.22. Validation loss is : 4.45. Validation acc. is : 69.78.\n",
      "Training loss at epoch 152 is : 0.23. Validation loss is : 4.43. Validation acc. is : 70.01.\n",
      "Training loss at epoch 153 is : 0.23. Validation loss is : 5.09. Validation acc. is : 67.51.\n",
      "Training loss at epoch 154 is : 0.24. Validation loss is : 4.51. Validation acc. is : 69.17.\n",
      "Training loss at epoch 155 is : 0.21. Validation loss is : 4.93. Validation acc. is : 68.93.\n",
      "Training loss at epoch 156 is : 0.24. Validation loss is : 4.37. Validation acc. is : 69.12.\n",
      "Training loss at epoch 157 is : 0.22. Validation loss is : 4.63. Validation acc. is : 68.85.\n",
      "Training loss at epoch 158 is : 0.21. Validation loss is : 4.90. Validation acc. is : 68.46.\n",
      "Training loss at epoch 159 is : 0.22. Validation loss is : 4.39. Validation acc. is : 70.11.\n",
      "Training loss at epoch 160 is : 0.21. Validation loss is : 4.92. Validation acc. is : 69.10.\n",
      "Training loss at epoch 161 is : 0.22. Validation loss is : 4.63. Validation acc. is : 68.30.\n",
      "Training loss at epoch 162 is : 0.22. Validation loss is : 4.55. Validation acc. is : 68.50.\n",
      "Training loss at epoch 163 is : 0.21. Validation loss is : 4.96. Validation acc. is : 69.26.\n",
      "Training loss at epoch 164 is : 0.19. Validation loss is : 5.22. Validation acc. is : 66.22.\n",
      "Training loss at epoch 165 is : 0.21. Validation loss is : 4.78. Validation acc. is : 68.89.\n",
      "Training loss at epoch 166 is : 0.19. Validation loss is : 5.10. Validation acc. is : 68.78.\n",
      "Training loss at epoch 167 is : 0.22. Validation loss is : 5.07. Validation acc. is : 68.77.\n",
      "Training loss at epoch 168 is : 0.21. Validation loss is : 4.65. Validation acc. is : 69.58.\n",
      "Training loss at epoch 169 is : 0.21. Validation loss is : 4.71. Validation acc. is : 69.11.\n",
      "Training loss at epoch 170 is : 0.19. Validation loss is : 5.14. Validation acc. is : 68.19.\n",
      "Training loss at epoch 171 is : 0.19. Validation loss is : 4.52. Validation acc. is : 69.80.\n",
      "Training loss at epoch 172 is : 0.19. Validation loss is : 5.14. Validation acc. is : 67.75.\n",
      "Training loss at epoch 173 is : 0.19. Validation loss is : 5.03. Validation acc. is : 68.21.\n",
      "Training loss at epoch 174 is : 0.21. Validation loss is : 4.91. Validation acc. is : 69.38.\n",
      "Training loss at epoch 175 is : 0.20. Validation loss is : 4.51. Validation acc. is : 69.78.\n",
      "Training loss at epoch 176 is : 0.21. Validation loss is : 5.19. Validation acc. is : 66.96.\n",
      "Training loss at epoch 177 is : 0.19. Validation loss is : 5.03. Validation acc. is : 68.95.\n",
      "Training loss at epoch 178 is : 0.20. Validation loss is : 5.23. Validation acc. is : 69.08.\n",
      "Training loss at epoch 179 is : 0.18. Validation loss is : 4.89. Validation acc. is : 69.67.\n",
      "Training loss at epoch 180 is : 0.17. Validation loss is : 4.95. Validation acc. is : 70.27.\n",
      "Training loss at epoch 181 is : 0.20. Validation loss is : 5.59. Validation acc. is : 68.01.\n",
      "Training loss at epoch 182 is : 0.19. Validation loss is : 4.90. Validation acc. is : 69.37.\n",
      "Training loss at epoch 183 is : 0.19. Validation loss is : 4.51. Validation acc. is : 70.15.\n",
      "Training loss at epoch 184 is : 0.19. Validation loss is : 5.37. Validation acc. is : 68.72.\n",
      "Training loss at epoch 185 is : 0.20. Validation loss is : 4.92. Validation acc. is : 69.67.\n",
      "Training loss at epoch 186 is : 0.19. Validation loss is : 5.30. Validation acc. is : 68.86.\n",
      "Training loss at epoch 187 is : 0.18. Validation loss is : 4.99. Validation acc. is : 69.36.\n",
      "Training loss at epoch 188 is : 0.19. Validation loss is : 5.58. Validation acc. is : 68.38.\n",
      "Training loss at epoch 189 is : 0.18. Validation loss is : 5.10. Validation acc. is : 69.49.\n",
      "Training loss at epoch 190 is : 0.18. Validation loss is : 5.13. Validation acc. is : 68.97.\n",
      "Training loss at epoch 191 is : 0.19. Validation loss is : 5.65. Validation acc. is : 67.17.\n",
      "Training loss at epoch 192 is : 0.16. Validation loss is : 5.03. Validation acc. is : 69.85.\n",
      "Training loss at epoch 193 is : 0.18. Validation loss is : 5.28. Validation acc. is : 69.35.\n",
      "Training loss at epoch 194 is : 0.16. Validation loss is : 5.12. Validation acc. is : 68.12.\n",
      "Training loss at epoch 195 is : 0.19. Validation loss is : 5.71. Validation acc. is : 68.54.\n",
      "Training loss at epoch 196 is : 0.20. Validation loss is : 4.87. Validation acc. is : 69.77.\n",
      "Training loss at epoch 197 is : 0.20. Validation loss is : 5.17. Validation acc. is : 68.51.\n",
      "Training loss at epoch 198 is : 0.18. Validation loss is : 4.93. Validation acc. is : 68.81.\n",
      "Training loss at epoch 199 is : 0.16. Validation loss is : 5.62. Validation acc. is : 67.52.\n"
     ]
    }
   ],
   "metadata": {}
  },
  {
   "cell_type": "code",
   "execution_count": null,
   "source": [],
   "outputs": [],
   "metadata": {}
  }
 ],
 "metadata": {
  "interpreter": {
   "hash": "0dadcd243d7a81fb679ed94fa0b3507371cb4f0217aac2cbcd3d9c4ad08fe2a2"
  },
  "kernelspec": {
   "display_name": "Python 3 (ipykernel)",
   "language": "python",
   "name": "python3"
  },
  "language_info": {
   "codemirror_mode": {
    "name": "ipython",
    "version": 3
   },
   "file_extension": ".py",
   "mimetype": "text/x-python",
   "name": "python",
   "nbconvert_exporter": "python",
   "pygments_lexer": "ipython3",
   "version": "3.9.13"
  }
 },
 "nbformat": 4,
 "nbformat_minor": 4
}