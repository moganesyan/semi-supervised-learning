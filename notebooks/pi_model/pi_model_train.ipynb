{
 "cells": [
  {
   "cell_type": "code",
   "execution_count": 1,
   "metadata": {},
   "outputs": [],
   "source": [
    "import sys\n",
    "from pathlib import Path"
   ]
  },
  {
   "cell_type": "code",
   "execution_count": 2,
   "metadata": {},
   "outputs": [
    {
     "name": "stderr",
     "output_type": "stream",
     "text": [
      "2022-11-02 16:23:21.160860: I tensorflow/core/platform/cpu_feature_guard.cc:193] This TensorFlow binary is optimized with oneAPI Deep Neural Network Library (oneDNN) to use the following CPU instructions in performance-critical operations:  AVX2 FMA\n",
      "To enable them in other operations, rebuild TensorFlow with the appropriate compiler flags.\n",
      "2022-11-02 16:23:21.295104: E tensorflow/stream_executor/cuda/cuda_blas.cc:2981] Unable to register cuBLAS factory: Attempting to register factory for plugin cuBLAS when one has already been registered\n",
      "2022-11-02 16:23:21.793238: W tensorflow/stream_executor/platform/default/dso_loader.cc:64] Could not load dynamic library 'libnvinfer.so.7'; dlerror: libnvinfer.so.7: cannot open shared object file: No such file or directory; LD_LIBRARY_PATH: /usr/local/cuda-11.4/lib64\n",
      "2022-11-02 16:23:21.793310: W tensorflow/stream_executor/platform/default/dso_loader.cc:64] Could not load dynamic library 'libnvinfer_plugin.so.7'; dlerror: libnvinfer_plugin.so.7: cannot open shared object file: No such file or directory; LD_LIBRARY_PATH: /usr/local/cuda-11.4/lib64\n",
      "2022-11-02 16:23:21.793318: W tensorflow/compiler/tf2tensorrt/utils/py_utils.cc:38] TF-TRT Warning: Cannot dlopen some TensorRT libraries. If you would like to use Nvidia GPU with TensorRT, please make sure the missing libraries mentioned above are installed properly.\n"
     ]
    }
   ],
   "source": [
    "import numpy as np\n",
    "import tensorflow as tf\n",
    "\n",
    "from sklearn.model_selection import train_test_split\n",
    "from sklearn.utils import shuffle"
   ]
  },
  {
   "cell_type": "code",
   "execution_count": 3,
   "metadata": {},
   "outputs": [],
   "source": [
    "sys.path.append(str(Path(\"../../ssl\").resolve()))"
   ]
  },
  {
   "cell_type": "code",
   "execution_count": 4,
   "metadata": {},
   "outputs": [],
   "source": [
    "from src.models.pi_model.pi_model import PiModel\n",
    "from src.models.pi_model.pi_model_config import PiModelConfig\n",
    "from src.trainers.pi_model.pi_model import PiModelTrainer\n",
    "from src.trainers.pi_model.pi_model_config import PiModelTrainerConfig\n",
    "from src.data_loaders.pi_model.pi_model_config import PiModelDataLoaderConfig\n",
    "from src.data_loaders.pi_model.pi_model import PiModelDataLoader"
   ]
  },
  {
   "cell_type": "markdown",
   "metadata": {},
   "source": [
    "# Description\n",
    "\n",
    "In this notebook, the AlexNet model will be trained on the CIFAR-10 dataset using only 25% of the labelled dataset."
   ]
  },
  {
   "cell_type": "markdown",
   "metadata": {},
   "source": [
    "## Set up Experiment"
   ]
  },
  {
   "cell_type": "code",
   "execution_count": 5,
   "metadata": {},
   "outputs": [],
   "source": [
    "class TrainerConfig(PiModelTrainerConfig):\n",
    "    num_epochs = 150\n",
    "    loss_ramp_up_epochs = 100\n",
    "    unsup_loss_weight = 5.0\n",
    "\n",
    "train_config = TrainerConfig()"
   ]
  },
  {
   "cell_type": "code",
   "execution_count": 6,
   "metadata": {},
   "outputs": [],
   "source": [
    "class ModelConfig(PiModelConfig):\n",
    "    input_shape = (32, 32, 3)\n",
    "    output_shape = 10\n",
    "\n",
    "model_config = ModelConfig()"
   ]
  },
  {
   "cell_type": "code",
   "execution_count": 7,
   "metadata": {},
   "outputs": [],
   "source": [
    "class DataLoaderConfig(PiModelDataLoaderConfig):\n",
    "    batch_size = 64\n",
    "    num_classes = 10\n",
    "\n",
    "    blur_params = {\n",
    "        'chance': 0.10,\n",
    "        'kernel_ratio': 0.10,\n",
    "        'blur_strength': (0.1, 2.0)\n",
    "    }\n",
    "\n",
    "    crop_params = {\n",
    "        'chance': 0.50,\n",
    "        'crop_size': (0.08, 1.0),\n",
    "        'aspect_range': (0.75, 1.33),\n",
    "        'num_tries': 100\n",
    "    }\n",
    "\n",
    "    jitter_params = {\n",
    "        'chance': 0.50,\n",
    "        'distort_strength': 0.20,\n",
    "        'drop_chance': 0.05\n",
    "    }\n",
    "\n",
    "data_loader_config = DataLoaderConfig()"
   ]
  },
  {
   "cell_type": "markdown",
   "metadata": {},
   "source": [
    "## Get Datasets"
   ]
  },
  {
   "cell_type": "code",
   "execution_count": 8,
   "metadata": {},
   "outputs": [],
   "source": [
    "(x_train_full, y_train_full), (x_test_full, y_test_full) = tf.keras.datasets.cifar10.load_data()"
   ]
  },
  {
   "cell_type": "code",
   "execution_count": 9,
   "metadata": {},
   "outputs": [],
   "source": [
    "# get train dataset by subsampling 10% of the full training dataset (stratified by labels)\n",
    "# add the rest as unlabelled samples\n",
    "x_train_unlabelled, x_train_labelled, y_train_unlabelled_, y_train_labelled = train_test_split(\n",
    "    x_train_full, y_train_full,\n",
    "    stratify = y_train_full,\n",
    "    test_size = 0.20, random_state = 42\n",
    ")\n",
    "y_train_unlabelled = (-1 * np.ones_like(y_train_unlabelled_)).astype(np.uint8)"
   ]
  },
  {
   "cell_type": "code",
   "execution_count": 10,
   "metadata": {},
   "outputs": [],
   "source": [
    "x_train = np.concatenate((x_train_unlabelled, x_train_labelled), axis = 0)\n",
    "y_train = np.concatenate((y_train_unlabelled, y_train_labelled), axis = 0)"
   ]
  },
  {
   "cell_type": "code",
   "execution_count": 11,
   "metadata": {},
   "outputs": [],
   "source": [
    "x_train, y_train = shuffle(x_train, y_train, random_state = 42)"
   ]
  },
  {
   "cell_type": "code",
   "execution_count": 12,
   "metadata": {},
   "outputs": [
    {
     "name": "stderr",
     "output_type": "stream",
     "text": [
      "2022-11-02 16:23:23.990233: I tensorflow/stream_executor/cuda/cuda_gpu_executor.cc:980] successful NUMA node read from SysFS had negative value (-1), but there must be at least one NUMA node, so returning NUMA node zero\n",
      "2022-11-02 16:23:23.996984: I tensorflow/stream_executor/cuda/cuda_gpu_executor.cc:980] successful NUMA node read from SysFS had negative value (-1), but there must be at least one NUMA node, so returning NUMA node zero\n",
      "2022-11-02 16:23:23.997538: I tensorflow/stream_executor/cuda/cuda_gpu_executor.cc:980] successful NUMA node read from SysFS had negative value (-1), but there must be at least one NUMA node, so returning NUMA node zero\n",
      "2022-11-02 16:23:23.998356: I tensorflow/core/platform/cpu_feature_guard.cc:193] This TensorFlow binary is optimized with oneAPI Deep Neural Network Library (oneDNN) to use the following CPU instructions in performance-critical operations:  AVX2 FMA\n",
      "To enable them in other operations, rebuild TensorFlow with the appropriate compiler flags.\n",
      "2022-11-02 16:23:23.998938: I tensorflow/stream_executor/cuda/cuda_gpu_executor.cc:980] successful NUMA node read from SysFS had negative value (-1), but there must be at least one NUMA node, so returning NUMA node zero\n",
      "2022-11-02 16:23:23.999461: I tensorflow/stream_executor/cuda/cuda_gpu_executor.cc:980] successful NUMA node read from SysFS had negative value (-1), but there must be at least one NUMA node, so returning NUMA node zero\n",
      "2022-11-02 16:23:23.999960: I tensorflow/stream_executor/cuda/cuda_gpu_executor.cc:980] successful NUMA node read from SysFS had negative value (-1), but there must be at least one NUMA node, so returning NUMA node zero\n",
      "2022-11-02 16:23:24.460992: I tensorflow/stream_executor/cuda/cuda_gpu_executor.cc:980] successful NUMA node read from SysFS had negative value (-1), but there must be at least one NUMA node, so returning NUMA node zero\n",
      "2022-11-02 16:23:24.461525: I tensorflow/stream_executor/cuda/cuda_gpu_executor.cc:980] successful NUMA node read from SysFS had negative value (-1), but there must be at least one NUMA node, so returning NUMA node zero\n",
      "2022-11-02 16:23:24.461999: I tensorflow/stream_executor/cuda/cuda_gpu_executor.cc:980] successful NUMA node read from SysFS had negative value (-1), but there must be at least one NUMA node, so returning NUMA node zero\n",
      "2022-11-02 16:23:24.462429: I tensorflow/core/common_runtime/gpu/gpu_device.cc:1616] Created device /job:localhost/replica:0/task:0/device:GPU:0 with 7010 MB memory:  -> device: 0, name: NVIDIA GeForce GTX 1070 with Max-Q Design, pci bus id: 0000:01:00.0, compute capability: 6.1\n"
     ]
    }
   ],
   "source": [
    "# train_data_unlabelled = tf.data.Dataset.from_tensor_slices((x_train_unlabelled, y_train_unlabelled))\n",
    "# train_data_labelled = tf.data.Dataset.from_tensor_slices((x_train_labelled, y_train_labelled))\n",
    "\n",
    "train_data = tf.data.Dataset.from_tensor_slices((x_train, y_train))\n",
    "val_data = tf.data.Dataset.from_tensor_slices((x_test_full, y_test_full))"
   ]
  },
  {
   "cell_type": "code",
   "execution_count": 13,
   "metadata": {},
   "outputs": [],
   "source": [
    "# create train dataset\n",
    "train_data = PiModelDataLoader(train_data, data_loader_config)(training = True)"
   ]
  },
  {
   "cell_type": "code",
   "execution_count": 14,
   "metadata": {},
   "outputs": [],
   "source": [
    "# create test dataset\n",
    "val_data = PiModelDataLoader(val_data, data_loader_config)(training = False)"
   ]
  },
  {
   "cell_type": "code",
   "execution_count": 15,
   "metadata": {},
   "outputs": [
    {
     "name": "stdout",
     "output_type": "stream",
     "text": [
      "Train dataset size: 782\n",
      "Validation dataset size: 157\n"
     ]
    }
   ],
   "source": [
    "print(f\"Train dataset size: {train_data.cardinality()}\")\n",
    "print(f\"Validation dataset size: {val_data.cardinality()}\")"
   ]
  },
  {
   "cell_type": "code",
   "execution_count": 16,
   "metadata": {},
   "outputs": [],
   "source": [
    "# for (x1,x2,x3,x4,y) in train_data.take(1):\n",
    "#     print(x1, x2, x3, x4, y)"
   ]
  },
  {
   "cell_type": "markdown",
   "metadata": {},
   "source": [
    "# Train Model"
   ]
  },
  {
   "cell_type": "code",
   "execution_count": 17,
   "metadata": {},
   "outputs": [],
   "source": [
    "model = PiModel(model_config)()"
   ]
  },
  {
   "cell_type": "code",
   "execution_count": 18,
   "metadata": {},
   "outputs": [],
   "source": [
    "trainer = PiModelTrainer(\n",
    "    model, train_data, train_config,\n",
    "    val_dataset = val_data)"
   ]
  },
  {
   "cell_type": "code",
   "execution_count": 19,
   "metadata": {},
   "outputs": [
    {
     "name": "stderr",
     "output_type": "stream",
     "text": [
      "2022-11-02 16:23:27.066445: I tensorflow/stream_executor/cuda/cuda_dnn.cc:384] Loaded cuDNN version 8204\n"
     ]
    },
    {
     "name": "stdout",
     "output_type": "stream",
     "text": [
      "Training loss at epoch 0 is : 2.08. Validation loss is : 1.87. Validation acc. is : 27.50.\n",
      "Training loss at epoch 1 is : 1.92. Validation loss is : 1.71. Validation acc. is : 35.14.\n",
      "Training loss at epoch 2 is : 1.82. Validation loss is : 1.67. Validation acc. is : 37.69.\n",
      "Training loss at epoch 3 is : 1.76. Validation loss is : 1.64. Validation acc. is : 39.90.\n",
      "Training loss at epoch 4 is : 1.70. Validation loss is : 1.55. Validation acc. is : 43.81.\n",
      "Training loss at epoch 5 is : 1.66. Validation loss is : 1.47. Validation acc. is : 46.31.\n",
      "Training loss at epoch 6 is : 1.61. Validation loss is : 1.41. Validation acc. is : 48.90.\n",
      "Training loss at epoch 7 is : 1.57. Validation loss is : 1.37. Validation acc. is : 49.28.\n",
      "Training loss at epoch 8 is : 1.54. Validation loss is : 1.36. Validation acc. is : 49.95.\n",
      "Training loss at epoch 9 is : 1.50. Validation loss is : 1.31. Validation acc. is : 53.29.\n",
      "Training loss at epoch 10 is : 1.46. Validation loss is : 1.28. Validation acc. is : 53.74.\n",
      "Training loss at epoch 11 is : 1.42. Validation loss is : 1.28. Validation acc. is : 54.01.\n",
      "Training loss at epoch 12 is : 1.40. Validation loss is : 1.25. Validation acc. is : 54.72.\n",
      "Training loss at epoch 13 is : 1.38. Validation loss is : 1.18. Validation acc. is : 56.42.\n",
      "Training loss at epoch 14 is : 1.34. Validation loss is : 1.15. Validation acc. is : 58.31.\n",
      "Training loss at epoch 15 is : 1.32. Validation loss is : 1.15. Validation acc. is : 58.69.\n",
      "Training loss at epoch 16 is : 1.31. Validation loss is : 1.13. Validation acc. is : 59.45.\n",
      "Training loss at epoch 17 is : 1.28. Validation loss is : 1.14. Validation acc. is : 58.02.\n",
      "Training loss at epoch 18 is : 1.26. Validation loss is : 1.07. Validation acc. is : 62.11.\n",
      "Training loss at epoch 19 is : 1.24. Validation loss is : 1.12. Validation acc. is : 59.21.\n",
      "Training loss at epoch 20 is : 1.23. Validation loss is : 1.05. Validation acc. is : 63.18.\n",
      "Training loss at epoch 21 is : 1.21. Validation loss is : 1.10. Validation acc. is : 61.83.\n",
      "Training loss at epoch 22 is : 1.20. Validation loss is : 1.11. Validation acc. is : 59.85.\n",
      "Training loss at epoch 23 is : 1.18. Validation loss is : 1.02. Validation acc. is : 63.49.\n",
      "Training loss at epoch 24 is : 1.17. Validation loss is : 0.98. Validation acc. is : 65.01.\n",
      "Training loss at epoch 25 is : 1.13. Validation loss is : 0.99. Validation acc. is : 64.77.\n",
      "Training loss at epoch 26 is : 1.14. Validation loss is : 0.99. Validation acc. is : 64.28.\n",
      "Training loss at epoch 27 is : 1.13. Validation loss is : 0.95. Validation acc. is : 65.90.\n",
      "Training loss at epoch 28 is : 1.12. Validation loss is : 0.93. Validation acc. is : 67.72.\n",
      "Training loss at epoch 29 is : 1.11. Validation loss is : 0.93. Validation acc. is : 66.67.\n",
      "Training loss at epoch 30 is : 1.10. Validation loss is : 0.91. Validation acc. is : 67.56.\n",
      "Training loss at epoch 31 is : 1.07. Validation loss is : 0.87. Validation acc. is : 69.23.\n",
      "Training loss at epoch 32 is : 1.09. Validation loss is : 0.91. Validation acc. is : 68.40.\n",
      "Training loss at epoch 33 is : 1.08. Validation loss is : 0.96. Validation acc. is : 66.34.\n",
      "Training loss at epoch 34 is : 1.07. Validation loss is : 0.90. Validation acc. is : 68.22.\n",
      "Training loss at epoch 35 is : 1.05. Validation loss is : 0.89. Validation acc. is : 68.24.\n",
      "Training loss at epoch 36 is : 1.07. Validation loss is : 0.96. Validation acc. is : 66.05.\n",
      "Training loss at epoch 37 is : 1.06. Validation loss is : 0.87. Validation acc. is : 69.32.\n",
      "Training loss at epoch 38 is : 1.06. Validation loss is : 0.91. Validation acc. is : 67.62.\n",
      "Training loss at epoch 39 is : 1.06. Validation loss is : 0.85. Validation acc. is : 69.84.\n",
      "Training loss at epoch 40 is : 1.05. Validation loss is : 0.83. Validation acc. is : 70.38.\n",
      "Training loss at epoch 41 is : 1.06. Validation loss is : 0.91. Validation acc. is : 67.77.\n",
      "Training loss at epoch 42 is : 1.06. Validation loss is : 0.84. Validation acc. is : 70.87.\n",
      "Training loss at epoch 43 is : 1.08. Validation loss is : 0.80. Validation acc. is : 71.73.\n",
      "Training loss at epoch 44 is : 1.07. Validation loss is : 0.83. Validation acc. is : 71.94.\n",
      "Training loss at epoch 45 is : 1.06. Validation loss is : 0.83. Validation acc. is : 71.35.\n",
      "Training loss at epoch 46 is : 1.07. Validation loss is : 0.83. Validation acc. is : 72.34.\n",
      "Training loss at epoch 47 is : 1.08. Validation loss is : 0.81. Validation acc. is : 71.87.\n",
      "Training loss at epoch 48 is : 1.07. Validation loss is : 0.83. Validation acc. is : 71.59.\n",
      "Training loss at epoch 49 is : 1.08. Validation loss is : 0.82. Validation acc. is : 72.50.\n",
      "Training loss at epoch 50 is : 1.08. Validation loss is : 0.83. Validation acc. is : 71.67.\n",
      "Training loss at epoch 51 is : 1.09. Validation loss is : 0.82. Validation acc. is : 72.90.\n",
      "Training loss at epoch 52 is : 1.09. Validation loss is : 0.82. Validation acc. is : 71.85.\n",
      "Training loss at epoch 53 is : 1.11. Validation loss is : 0.88. Validation acc. is : 69.86.\n",
      "Training loss at epoch 54 is : 1.12. Validation loss is : 0.84. Validation acc. is : 73.08.\n",
      "Training loss at epoch 55 is : 1.11. Validation loss is : 0.84. Validation acc. is : 72.14.\n",
      "Training loss at epoch 56 is : 1.13. Validation loss is : 0.90. Validation acc. is : 70.75.\n",
      "Training loss at epoch 57 is : 1.14. Validation loss is : 0.81. Validation acc. is : 73.45.\n",
      "Training loss at epoch 58 is : 1.13. Validation loss is : 0.85. Validation acc. is : 72.23.\n",
      "Training loss at epoch 59 is : 1.13. Validation loss is : 0.86. Validation acc. is : 72.10.\n",
      "Training loss at epoch 60 is : 1.15. Validation loss is : 0.92. Validation acc. is : 72.12.\n",
      "Training loss at epoch 61 is : 1.16. Validation loss is : 0.86. Validation acc. is : 73.61.\n",
      "Training loss at epoch 62 is : 1.16. Validation loss is : 0.93. Validation acc. is : 70.50.\n",
      "Training loss at epoch 63 is : 1.17. Validation loss is : 0.88. Validation acc. is : 73.49.\n",
      "Training loss at epoch 64 is : 1.17. Validation loss is : 0.92. Validation acc. is : 72.91.\n",
      "Training loss at epoch 65 is : 1.18. Validation loss is : 0.91. Validation acc. is : 73.16.\n",
      "Training loss at epoch 66 is : 1.19. Validation loss is : 0.88. Validation acc. is : 73.87.\n",
      "Training loss at epoch 67 is : 1.19. Validation loss is : 0.92. Validation acc. is : 73.38.\n",
      "Training loss at epoch 68 is : 1.18. Validation loss is : 0.91. Validation acc. is : 72.66.\n",
      "Training loss at epoch 69 is : 1.20. Validation loss is : 0.91. Validation acc. is : 73.60.\n",
      "Training loss at epoch 70 is : 1.20. Validation loss is : 0.94. Validation acc. is : 71.38.\n",
      "Training loss at epoch 71 is : 1.21. Validation loss is : 0.96. Validation acc. is : 72.84.\n",
      "Training loss at epoch 72 is : 1.22. Validation loss is : 0.94. Validation acc. is : 72.32.\n",
      "Training loss at epoch 73 is : 1.22. Validation loss is : 0.92. Validation acc. is : 73.57.\n",
      "Training loss at epoch 74 is : 1.22. Validation loss is : 0.95. Validation acc. is : 72.73.\n",
      "Training loss at epoch 75 is : 1.22. Validation loss is : 0.96. Validation acc. is : 75.13.\n",
      "Training loss at epoch 76 is : 1.23. Validation loss is : 0.94. Validation acc. is : 74.81.\n",
      "Training loss at epoch 77 is : 1.23. Validation loss is : 0.99. Validation acc. is : 72.95.\n",
      "Training loss at epoch 78 is : 1.23. Validation loss is : 0.97. Validation acc. is : 73.45.\n",
      "Training loss at epoch 79 is : 1.24. Validation loss is : 0.96. Validation acc. is : 72.46.\n",
      "Training loss at epoch 80 is : 1.24. Validation loss is : 0.99. Validation acc. is : 72.36.\n",
      "Training loss at epoch 81 is : 1.24. Validation loss is : 0.96. Validation acc. is : 74.52.\n",
      "Training loss at epoch 82 is : 1.25. Validation loss is : 1.03. Validation acc. is : 70.28.\n",
      "Training loss at epoch 83 is : 1.25. Validation loss is : 0.98. Validation acc. is : 73.98.\n",
      "Training loss at epoch 84 is : 1.25. Validation loss is : 1.07. Validation acc. is : 71.48.\n",
      "Training loss at epoch 85 is : 1.25. Validation loss is : 1.04. Validation acc. is : 72.53.\n",
      "Training loss at epoch 86 is : 1.24. Validation loss is : 1.02. Validation acc. is : 75.28.\n",
      "Training loss at epoch 87 is : 1.24. Validation loss is : 0.99. Validation acc. is : 75.32.\n",
      "Training loss at epoch 88 is : 1.25. Validation loss is : 1.03. Validation acc. is : 73.12.\n",
      "Training loss at epoch 89 is : 1.25. Validation loss is : 1.00. Validation acc. is : 72.39.\n",
      "Training loss at epoch 90 is : 1.24. Validation loss is : 1.00. Validation acc. is : 73.43.\n",
      "Training loss at epoch 91 is : 1.25. Validation loss is : 1.03. Validation acc. is : 74.74.\n",
      "Training loss at epoch 92 is : 1.25. Validation loss is : 1.00. Validation acc. is : 75.15.\n",
      "Training loss at epoch 93 is : 1.25. Validation loss is : 1.06. Validation acc. is : 73.75.\n",
      "Training loss at epoch 94 is : 1.24. Validation loss is : 0.98. Validation acc. is : 74.08.\n",
      "Training loss at epoch 95 is : 1.24. Validation loss is : 0.97. Validation acc. is : 75.16.\n",
      "Training loss at epoch 96 is : 1.25. Validation loss is : 1.02. Validation acc. is : 73.67.\n",
      "Training loss at epoch 97 is : 1.23. Validation loss is : 1.03. Validation acc. is : 74.88.\n",
      "Training loss at epoch 98 is : 1.23. Validation loss is : 1.05. Validation acc. is : 74.77.\n",
      "Training loss at epoch 99 is : 1.22. Validation loss is : 1.02. Validation acc. is : 75.52.\n",
      "Training loss at epoch 100 is : 1.22. Validation loss is : 1.06. Validation acc. is : 74.33.\n",
      "Training loss at epoch 101 is : 1.23. Validation loss is : 1.01. Validation acc. is : 73.60.\n",
      "Training loss at epoch 102 is : 1.23. Validation loss is : 1.00. Validation acc. is : 74.85.\n",
      "Training loss at epoch 103 is : 1.22. Validation loss is : 1.01. Validation acc. is : 75.03.\n",
      "Training loss at epoch 104 is : 1.20. Validation loss is : 1.03. Validation acc. is : 74.31.\n",
      "Training loss at epoch 105 is : 1.21. Validation loss is : 0.99. Validation acc. is : 75.97.\n",
      "Training loss at epoch 106 is : 1.20. Validation loss is : 1.01. Validation acc. is : 75.44.\n",
      "Training loss at epoch 107 is : 1.21. Validation loss is : 1.00. Validation acc. is : 75.64.\n",
      "Training loss at epoch 108 is : 1.19. Validation loss is : 0.95. Validation acc. is : 75.63.\n",
      "Training loss at epoch 109 is : 1.20. Validation loss is : 0.99. Validation acc. is : 74.31.\n",
      "Training loss at epoch 110 is : 1.19. Validation loss is : 1.02. Validation acc. is : 73.45.\n",
      "Training loss at epoch 111 is : 1.19. Validation loss is : 0.95. Validation acc. is : 76.99.\n",
      "Training loss at epoch 112 is : 1.18. Validation loss is : 0.95. Validation acc. is : 74.55.\n",
      "Training loss at epoch 113 is : 1.20. Validation loss is : 0.97. Validation acc. is : 77.26.\n",
      "Training loss at epoch 114 is : 1.18. Validation loss is : 0.98. Validation acc. is : 77.35.\n",
      "Training loss at epoch 115 is : 1.18. Validation loss is : 0.97. Validation acc. is : 73.14.\n",
      "Training loss at epoch 116 is : 1.17. Validation loss is : 1.00. Validation acc. is : 74.43.\n",
      "Training loss at epoch 117 is : 1.19. Validation loss is : 1.05. Validation acc. is : 74.32.\n",
      "Training loss at epoch 118 is : 1.17. Validation loss is : 0.98. Validation acc. is : 74.81.\n",
      "Training loss at epoch 119 is : 1.18. Validation loss is : 0.96. Validation acc. is : 75.48.\n",
      "Training loss at epoch 120 is : 1.17. Validation loss is : 0.97. Validation acc. is : 75.51.\n",
      "Training loss at epoch 121 is : 1.16. Validation loss is : 1.00. Validation acc. is : 74.82.\n",
      "Training loss at epoch 122 is : 1.17. Validation loss is : 0.99. Validation acc. is : 75.96.\n",
      "Training loss at epoch 123 is : 1.16. Validation loss is : 1.01. Validation acc. is : 75.18.\n",
      "Training loss at epoch 124 is : 1.16. Validation loss is : 0.98. Validation acc. is : 75.43.\n",
      "Training loss at epoch 125 is : 1.16. Validation loss is : 1.02. Validation acc. is : 75.42.\n",
      "Training loss at epoch 126 is : 1.15. Validation loss is : 0.98. Validation acc. is : 73.71.\n",
      "Training loss at epoch 127 is : 1.15. Validation loss is : 1.00. Validation acc. is : 76.14.\n",
      "Training loss at epoch 128 is : 1.16. Validation loss is : 0.99. Validation acc. is : 76.14.\n",
      "Training loss at epoch 129 is : 1.14. Validation loss is : 1.00. Validation acc. is : 75.80.\n",
      "Training loss at epoch 130 is : 1.15. Validation loss is : 0.97. Validation acc. is : 75.82.\n",
      "Training loss at epoch 131 is : 1.14. Validation loss is : 1.00. Validation acc. is : 75.24.\n",
      "Training loss at epoch 132 is : 1.14. Validation loss is : 1.00. Validation acc. is : 76.18.\n",
      "Training loss at epoch 133 is : 1.15. Validation loss is : 0.94. Validation acc. is : 76.03.\n",
      "Training loss at epoch 134 is : 1.13. Validation loss is : 1.00. Validation acc. is : 75.76.\n",
      "Training loss at epoch 135 is : 1.12. Validation loss is : 0.96. Validation acc. is : 75.79.\n",
      "Training loss at epoch 136 is : 1.13. Validation loss is : 0.98. Validation acc. is : 76.54.\n",
      "Training loss at epoch 137 is : 1.13. Validation loss is : 0.98. Validation acc. is : 75.06.\n",
      "Training loss at epoch 138 is : 1.13. Validation loss is : 0.98. Validation acc. is : 76.46.\n",
      "Training loss at epoch 139 is : 1.13. Validation loss is : 0.99. Validation acc. is : 76.70.\n",
      "Training loss at epoch 140 is : 1.13. Validation loss is : 0.97. Validation acc. is : 76.50.\n",
      "Training loss at epoch 141 is : 1.12. Validation loss is : 0.96. Validation acc. is : 77.08.\n",
      "Training loss at epoch 142 is : 1.12. Validation loss is : 0.94. Validation acc. is : 75.81.\n",
      "Training loss at epoch 143 is : 1.11. Validation loss is : 0.95. Validation acc. is : 76.47.\n",
      "Training loss at epoch 144 is : 1.11. Validation loss is : 0.96. Validation acc. is : 75.92.\n",
      "Training loss at epoch 145 is : 1.11. Validation loss is : 0.98. Validation acc. is : 77.66.\n",
      "Training loss at epoch 146 is : 1.11. Validation loss is : 0.94. Validation acc. is : 75.75.\n",
      "Training loss at epoch 147 is : 1.10. Validation loss is : 0.99. Validation acc. is : 76.22.\n",
      "Training loss at epoch 148 is : 1.11. Validation loss is : 1.00. Validation acc. is : 75.40.\n",
      "Training loss at epoch 149 is : 1.11. Validation loss is : 0.98. Validation acc. is : 76.64.\n"
     ]
    }
   ],
   "source": [
    "trainer.train()"
   ]
  },
  {
   "cell_type": "code",
   "execution_count": null,
   "metadata": {},
   "outputs": [],
   "source": []
  }
 ],
 "metadata": {
  "interpreter": {
   "hash": "0dadcd243d7a81fb679ed94fa0b3507371cb4f0217aac2cbcd3d9c4ad08fe2a2"
  },
  "kernelspec": {
   "display_name": "Python 3 (ipykernel)",
   "language": "python",
   "name": "python3"
  },
  "language_info": {
   "codemirror_mode": {
    "name": "ipython",
    "version": 3
   },
   "file_extension": ".py",
   "mimetype": "text/x-python",
   "name": "python",
   "nbconvert_exporter": "python",
   "pygments_lexer": "ipython3",
   "version": "3.9.13"
  }
 },
 "nbformat": 4,
 "nbformat_minor": 4
}
