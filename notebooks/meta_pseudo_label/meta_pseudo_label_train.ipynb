{
 "cells": [
  {
   "cell_type": "code",
   "execution_count": 1,
   "metadata": {},
   "outputs": [],
   "source": [
    "import sys\n",
    "from pathlib import Path"
   ]
  },
  {
   "cell_type": "code",
   "execution_count": 2,
   "metadata": {},
   "outputs": [
    {
     "name": "stderr",
     "output_type": "stream",
     "text": [
      "2022-11-29 09:55:36.983752: I tensorflow/core/platform/cpu_feature_guard.cc:193] This TensorFlow binary is optimized with oneAPI Deep Neural Network Library (oneDNN) to use the following CPU instructions in performance-critical operations:  AVX2 FMA\n",
      "To enable them in other operations, rebuild TensorFlow with the appropriate compiler flags.\n",
      "2022-11-29 09:55:37.124434: E tensorflow/stream_executor/cuda/cuda_blas.cc:2981] Unable to register cuBLAS factory: Attempting to register factory for plugin cuBLAS when one has already been registered\n",
      "2022-11-29 09:55:37.649034: W tensorflow/stream_executor/platform/default/dso_loader.cc:64] Could not load dynamic library 'libnvinfer.so.7'; dlerror: libnvinfer.so.7: cannot open shared object file: No such file or directory; LD_LIBRARY_PATH: /usr/local/cuda-11.4/lib64\n",
      "2022-11-29 09:55:37.649095: W tensorflow/stream_executor/platform/default/dso_loader.cc:64] Could not load dynamic library 'libnvinfer_plugin.so.7'; dlerror: libnvinfer_plugin.so.7: cannot open shared object file: No such file or directory; LD_LIBRARY_PATH: /usr/local/cuda-11.4/lib64\n",
      "2022-11-29 09:55:37.649101: W tensorflow/compiler/tf2tensorrt/utils/py_utils.cc:38] TF-TRT Warning: Cannot dlopen some TensorRT libraries. If you would like to use Nvidia GPU with TensorRT, please make sure the missing libraries mentioned above are installed properly.\n"
     ]
    }
   ],
   "source": [
    "import numpy as np\n",
    "import tensorflow as tf\n",
    "\n",
    "from sklearn.model_selection import train_test_split\n",
    "from sklearn.utils import shuffle"
   ]
  },
  {
   "cell_type": "code",
   "execution_count": 3,
   "metadata": {},
   "outputs": [
    {
     "name": "stderr",
     "output_type": "stream",
     "text": [
      "/home/mikheil/.conda/envs/ssl-repo/lib/python3.9/site-packages/tqdm/auto.py:22: TqdmWarning: IProgress not found. Please update jupyter and ipywidgets. See https://ipywidgets.readthedocs.io/en/stable/user_install.html\n",
      "  from .autonotebook import tqdm as notebook_tqdm\n"
     ]
    }
   ],
   "source": [
    "import tensorflow_datasets as tfds"
   ]
  },
  {
   "cell_type": "code",
   "execution_count": 4,
   "metadata": {},
   "outputs": [],
   "source": [
    "sys.path.append(str(Path(\"../../ssl\").resolve()))"
   ]
  },
  {
   "cell_type": "code",
   "execution_count": 5,
   "metadata": {},
   "outputs": [],
   "source": [
    "from src.models.pi_model.pi_model import PiModel\n",
    "from src.models.pi_model.pi_model_config import PiModelConfig\n",
    "from src.trainers.meta_pseudo_label.meta_pseudo_label import MetaPseudoLabelTrainer\n",
    "from src.trainers.meta_pseudo_label.meta_pseudo_label_config import MetaPseudoLabelTrainerConfig\n",
    "from src.data_loaders.meta_pseudo_label.meta_pseudo_label_config import MetaPseudoLabelDataLoaderConfig\n",
    "from src.data_loaders.meta_pseudo_label.meta_pseudo_label import MetaPseudoLabelDataLoader\n",
    "from src.data_loaders.basic.categorical_ce import CategoricalCEDataLoader\n",
    "from src.data_loaders.basic.categorical_ce_config import CategoricalCEDataLoaderConfig"
   ]
  },
  {
   "cell_type": "markdown",
   "metadata": {},
   "source": [
    "# Description\n",
    "\n",
    "In this notebook, a model will be trained on the CIFAR-10 dataset using only 20% of the labelled dataset. Unlabelled data will be used in training."
   ]
  },
  {
   "cell_type": "markdown",
   "metadata": {},
   "source": [
    "## Set up Experiment"
   ]
  },
  {
   "cell_type": "code",
   "execution_count": 6,
   "metadata": {},
   "outputs": [],
   "source": [
    "class TrainerConfig(MetaPseudoLabelTrainerConfig):\n",
    "    num_epochs = 175\n",
    "    uda_loss_weight = 1.0\n",
    "    num_epochs_finetune = 25\n",
    "\n",
    "train_config = TrainerConfig()"
   ]
  },
  {
   "cell_type": "code",
   "execution_count": 7,
   "metadata": {},
   "outputs": [],
   "source": [
    "class ModelConfig(PiModelConfig):\n",
    "    input_shape = (32, 32, 3)\n",
    "    output_shape = 10\n",
    "\n",
    "model_config = ModelConfig()"
   ]
  },
  {
   "cell_type": "code",
   "execution_count": 8,
   "metadata": {},
   "outputs": [],
   "source": [
    "class DataLoaderConfigSSL(MetaPseudoLabelDataLoaderConfig):\n",
    "    batch_size = 64\n",
    "    num_classes = 10\n",
    "    shuffle_buffer_size = 50000 # dataset size    \n",
    "\n",
    "    # apply augmentations\n",
    "    blur_params = {\n",
    "        'chance': 0.10,\n",
    "        'kernel_ratio': 0.10,\n",
    "        'blur_strength': (0.1, 2.0)\n",
    "    }\n",
    "\n",
    "    crop_params = {\n",
    "        'chance': 0.50,\n",
    "        'crop_size': (0.08, 1.0),\n",
    "        'aspect_range': (0.75, 1.33),\n",
    "        'num_tries': 100\n",
    "    }\n",
    "\n",
    "    jitter_params = {\n",
    "        'chance': 0.50,\n",
    "        'distort_strength': 0.20,\n",
    "        'drop_chance': 0.05\n",
    "    }\n",
    "\n",
    "data_loader_config_ssl = DataLoaderConfigSSL()"
   ]
  },
  {
   "cell_type": "code",
   "execution_count": 9,
   "metadata": {},
   "outputs": [],
   "source": [
    "class DataLoaderConfigCE(CategoricalCEDataLoaderConfig):\n",
    "    batch_size = 64\n",
    "    num_classes = 10\n",
    "    shuffle_buffer_size = 5000 # dataset size    \n",
    "\n",
    "    # apply augmentations\n",
    "    blur_params = {\n",
    "        'chance': 0.10,\n",
    "        'kernel_ratio': 0.10,\n",
    "        'blur_strength': (0.1, 2.0)\n",
    "    }\n",
    "\n",
    "    crop_params = {\n",
    "        'chance': 0.50,\n",
    "        'crop_size': (0.08, 1.0),\n",
    "        'aspect_range': (0.75, 1.33),\n",
    "        'num_tries': 100\n",
    "    }\n",
    "\n",
    "    jitter_params = {\n",
    "        'chance': 0.50,\n",
    "        'distort_strength': 0.20,\n",
    "        'drop_chance': 0.05\n",
    "    }\n",
    "\n",
    "data_loader_config_ce = DataLoaderConfigCE()"
   ]
  },
  {
   "cell_type": "markdown",
   "metadata": {},
   "source": [
    "## Get Datasets"
   ]
  },
  {
   "cell_type": "code",
   "execution_count": 10,
   "metadata": {},
   "outputs": [],
   "source": [
    "(x_train_full, y_train_full), (x_test_full, y_test_full) = tf.keras.datasets.cifar10.load_data()"
   ]
  },
  {
   "cell_type": "code",
   "execution_count": 11,
   "metadata": {},
   "outputs": [],
   "source": [
    "# get train dataset by subsampling 20% of the full training dataset (stratified by labels)\n",
    "# add the rest as unlabelled samples\n",
    "x_train_unlabelled, x_train_labelled, y_train_unlabelled_, y_train_labelled = train_test_split(\n",
    "    x_train_full, y_train_full,\n",
    "    stratify = y_train_full,\n",
    "    test_size = 0.20, random_state = 42\n",
    ")\n",
    "\n",
    "# cast types\n",
    "y_train_unlabelled = (-1 * np.ones_like(y_train_unlabelled_)).astype(np.int64)\n",
    "y_train_labelled = y_train_labelled.astype(np.int64)\n",
    "y_test_full = y_test_full.astype(np.int64)"
   ]
  },
  {
   "cell_type": "code",
   "execution_count": 12,
   "metadata": {},
   "outputs": [],
   "source": [
    "x_train = np.concatenate((x_train_unlabelled, x_train_labelled), axis = 0)\n",
    "y_train = np.concatenate((y_train_unlabelled, y_train_labelled), axis = 0)"
   ]
  },
  {
   "cell_type": "code",
   "execution_count": 13,
   "metadata": {},
   "outputs": [
    {
     "name": "stderr",
     "output_type": "stream",
     "text": [
      "2022-11-29 09:55:39.925765: I tensorflow/stream_executor/cuda/cuda_gpu_executor.cc:980] successful NUMA node read from SysFS had negative value (-1), but there must be at least one NUMA node, so returning NUMA node zero\n",
      "2022-11-29 09:55:39.932870: I tensorflow/stream_executor/cuda/cuda_gpu_executor.cc:980] successful NUMA node read from SysFS had negative value (-1), but there must be at least one NUMA node, so returning NUMA node zero\n",
      "2022-11-29 09:55:39.933437: I tensorflow/stream_executor/cuda/cuda_gpu_executor.cc:980] successful NUMA node read from SysFS had negative value (-1), but there must be at least one NUMA node, so returning NUMA node zero\n",
      "2022-11-29 09:55:39.934565: I tensorflow/core/platform/cpu_feature_guard.cc:193] This TensorFlow binary is optimized with oneAPI Deep Neural Network Library (oneDNN) to use the following CPU instructions in performance-critical operations:  AVX2 FMA\n",
      "To enable them in other operations, rebuild TensorFlow with the appropriate compiler flags.\n",
      "2022-11-29 09:55:39.935280: I tensorflow/stream_executor/cuda/cuda_gpu_executor.cc:980] successful NUMA node read from SysFS had negative value (-1), but there must be at least one NUMA node, so returning NUMA node zero\n",
      "2022-11-29 09:55:39.935940: I tensorflow/stream_executor/cuda/cuda_gpu_executor.cc:980] successful NUMA node read from SysFS had negative value (-1), but there must be at least one NUMA node, so returning NUMA node zero\n",
      "2022-11-29 09:55:39.936463: I tensorflow/stream_executor/cuda/cuda_gpu_executor.cc:980] successful NUMA node read from SysFS had negative value (-1), but there must be at least one NUMA node, so returning NUMA node zero\n",
      "2022-11-29 09:55:40.421547: I tensorflow/stream_executor/cuda/cuda_gpu_executor.cc:980] successful NUMA node read from SysFS had negative value (-1), but there must be at least one NUMA node, so returning NUMA node zero\n",
      "2022-11-29 09:55:40.422060: I tensorflow/stream_executor/cuda/cuda_gpu_executor.cc:980] successful NUMA node read from SysFS had negative value (-1), but there must be at least one NUMA node, so returning NUMA node zero\n",
      "2022-11-29 09:55:40.422529: I tensorflow/stream_executor/cuda/cuda_gpu_executor.cc:980] successful NUMA node read from SysFS had negative value (-1), but there must be at least one NUMA node, so returning NUMA node zero\n",
      "2022-11-29 09:55:40.422946: I tensorflow/core/common_runtime/gpu/gpu_device.cc:1616] Created device /job:localhost/replica:0/task:0/device:GPU:0 with 6974 MB memory:  -> device: 0, name: NVIDIA GeForce GTX 1070 with Max-Q Design, pci bus id: 0000:01:00.0, compute capability: 6.1\n"
     ]
    }
   ],
   "source": [
    "train_data = tf.data.Dataset.from_tensor_slices((x_train, y_train))\n",
    "val_data = tf.data.Dataset.from_tensor_slices((x_test_full, y_test_full))"
   ]
  },
  {
   "cell_type": "code",
   "execution_count": 14,
   "metadata": {},
   "outputs": [],
   "source": [
    "train_data_finetune = tf.data.Dataset.from_tensor_slices((x_train_labelled, y_train_labelled))"
   ]
  },
  {
   "cell_type": "code",
   "execution_count": 15,
   "metadata": {},
   "outputs": [],
   "source": [
    "# create train dataset\n",
    "train_data = MetaPseudoLabelDataLoader(train_data, data_loader_config_ssl)(training = True)"
   ]
  },
  {
   "cell_type": "code",
   "execution_count": 16,
   "metadata": {},
   "outputs": [],
   "source": [
    "# create test dataset\n",
    "val_data = MetaPseudoLabelDataLoader(val_data, data_loader_config_ssl)(training = False)"
   ]
  },
  {
   "cell_type": "code",
   "execution_count": 17,
   "metadata": {},
   "outputs": [],
   "source": [
    "# create finetune dataset\n",
    "train_data_finetune = CategoricalCEDataLoader(train_data_finetune, data_loader_config_ce)(training = True)"
   ]
  },
  {
   "cell_type": "code",
   "execution_count": 18,
   "metadata": {},
   "outputs": [
    {
     "name": "stdout",
     "output_type": "stream",
     "text": [
      "Train dataset size: 782\n",
      "Validation dataset size: 157\n",
      "Train (finetune) dataset size: 157\n"
     ]
    }
   ],
   "source": [
    "print(f\"Train dataset size: {train_data.cardinality()}\")\n",
    "print(f\"Validation dataset size: {val_data.cardinality()}\")\n",
    "print(f\"Train (finetune) dataset size: {train_data_finetune.cardinality()}\")"
   ]
  },
  {
   "cell_type": "markdown",
   "metadata": {},
   "source": [
    "# Train Model"
   ]
  },
  {
   "cell_type": "code",
   "execution_count": 19,
   "metadata": {},
   "outputs": [],
   "source": [
    "model_student = PiModel(model_config)()\n",
    "model_teacher = PiModel(model_config)()"
   ]
  },
  {
   "cell_type": "code",
   "execution_count": 20,
   "metadata": {},
   "outputs": [],
   "source": [
    "trainer = MetaPseudoLabelTrainer(\n",
    "    model_student,\n",
    "    model_teacher,\n",
    "    train_data,\n",
    "    train_config,\n",
    "    train_data_finetune,\n",
    "    val_dataset = val_data)"
   ]
  },
  {
   "cell_type": "code",
   "execution_count": 21,
   "metadata": {},
   "outputs": [
    {
     "name": "stderr",
     "output_type": "stream",
     "text": [
      "2022-11-29 09:55:43.244482: I tensorflow/stream_executor/cuda/cuda_dnn.cc:384] Loaded cuDNN version 8204\n"
     ]
    },
    {
     "name": "stdout",
     "output_type": "stream",
     "text": [
      "Training loss at epoch 0 is : ltsu 2.17, ltss 2.84, lttu -0.06, ltts 2.12, lttuda 0.00. Validation loss is : 2.67. Validation acc. is : 10.00.\n",
      "Training loss at epoch 1 is : ltsu 2.07, ltss 2.54, lttu 0.04, ltts 1.92, lttuda 0.01. Validation loss is : 2.56. Validation acc. is : 22.46.\n",
      "Training loss at epoch 2 is : ltsu 1.65, ltss 2.44, lttu 0.35, ltts 1.83, lttuda 0.02. Validation loss is : 2.31. Validation acc. is : 21.23.\n",
      "Training loss at epoch 3 is : ltsu 1.48, ltss 2.34, lttu 0.32, ltts 1.76, lttuda 0.03. Validation loss is : 2.19. Validation acc. is : 32.52.\n",
      "Training loss at epoch 4 is : ltsu 1.41, ltss 2.21, lttu 0.31, ltts 1.72, lttuda 0.03. Validation loss is : 1.92. Validation acc. is : 36.28.\n",
      "Training loss at epoch 5 is : ltsu 1.39, ltss 2.09, lttu 0.29, ltts 1.67, lttuda 0.04. Validation loss is : 1.85. Validation acc. is : 37.72.\n",
      "Training loss at epoch 6 is : ltsu 1.38, ltss 2.00, lttu 0.27, ltts 1.61, lttuda 0.04. Validation loss is : 1.84. Validation acc. is : 38.51.\n",
      "Training loss at epoch 7 is : ltsu 1.34, ltss 1.95, lttu 0.18, ltts 1.56, lttuda 0.05. Validation loss is : 1.82. Validation acc. is : 39.68.\n",
      "Training loss at epoch 8 is : ltsu 1.30, ltss 1.88, lttu 0.21, ltts 1.52, lttuda 0.06. Validation loss is : 1.68. Validation acc. is : 43.29.\n",
      "Training loss at epoch 9 is : ltsu 1.24, ltss 1.86, lttu 0.18, ltts 1.49, lttuda 0.06. Validation loss is : 1.89. Validation acc. is : 41.85.\n",
      "Training loss at epoch 10 is : ltsu 1.24, ltss 1.81, lttu 0.18, ltts 1.44, lttuda 0.06. Validation loss is : 1.75. Validation acc. is : 45.92.\n",
      "Training loss at epoch 11 is : ltsu 1.22, ltss 1.73, lttu 0.18, ltts 1.40, lttuda 0.07. Validation loss is : 1.81. Validation acc. is : 45.90.\n",
      "Training loss at epoch 12 is : ltsu 1.15, ltss 1.70, lttu 0.17, ltts 1.37, lttuda 0.07. Validation loss is : 1.52. Validation acc. is : 50.87.\n",
      "Training loss at epoch 13 is : ltsu 1.13, ltss 1.66, lttu 0.15, ltts 1.32, lttuda 0.07. Validation loss is : 1.39. Validation acc. is : 52.12.\n",
      "Training loss at epoch 14 is : ltsu 1.11, ltss 1.62, lttu 0.13, ltts 1.30, lttuda 0.08. Validation loss is : 1.57. Validation acc. is : 49.68.\n",
      "Training loss at epoch 15 is : ltsu 1.09, ltss 1.58, lttu 0.14, ltts 1.27, lttuda 0.08. Validation loss is : 1.78. Validation acc. is : 45.54.\n",
      "Training loss at epoch 16 is : ltsu 1.08, ltss 1.52, lttu 0.12, ltts 1.24, lttuda 0.08. Validation loss is : 1.38. Validation acc. is : 55.02.\n",
      "Training loss at epoch 17 is : ltsu 1.06, ltss 1.52, lttu 0.11, ltts 1.23, lttuda 0.08. Validation loss is : 1.41. Validation acc. is : 55.83.\n",
      "Training loss at epoch 18 is : ltsu 1.06, ltss 1.49, lttu 0.14, ltts 1.20, lttuda 0.09. Validation loss is : 1.47. Validation acc. is : 55.41.\n",
      "Training loss at epoch 19 is : ltsu 1.00, ltss 1.46, lttu 0.11, ltts 1.17, lttuda 0.09. Validation loss is : 1.53. Validation acc. is : 54.31.\n",
      "Training loss at epoch 20 is : ltsu 1.02, ltss 1.42, lttu 0.10, ltts 1.16, lttuda 0.09. Validation loss is : 1.44. Validation acc. is : 57.29.\n",
      "Training loss at epoch 21 is : ltsu 1.00, ltss 1.39, lttu 0.11, ltts 1.13, lttuda 0.09. Validation loss is : 1.34. Validation acc. is : 58.40.\n",
      "Training loss at epoch 22 is : ltsu 0.98, ltss 1.36, lttu 0.11, ltts 1.09, lttuda 0.10. Validation loss is : 1.40. Validation acc. is : 56.99.\n",
      "Training loss at epoch 23 is : ltsu 0.96, ltss 1.31, lttu 0.08, ltts 1.07, lttuda 0.10. Validation loss is : 1.19. Validation acc. is : 61.29.\n",
      "Training loss at epoch 24 is : ltsu 0.99, ltss 1.31, lttu 0.10, ltts 1.06, lttuda 0.10. Validation loss is : 1.24. Validation acc. is : 60.50.\n",
      "Training loss at epoch 25 is : ltsu 0.96, ltss 1.30, lttu 0.09, ltts 1.04, lttuda 0.10. Validation loss is : 1.40. Validation acc. is : 59.68.\n",
      "Training loss at epoch 26 is : ltsu 0.95, ltss 1.29, lttu 0.08, ltts 1.02, lttuda 0.10. Validation loss is : 1.14. Validation acc. is : 63.54.\n",
      "Training loss at epoch 27 is : ltsu 0.94, ltss 1.26, lttu 0.09, ltts 1.01, lttuda 0.10. Validation loss is : 1.17. Validation acc. is : 63.10.\n",
      "Training loss at epoch 28 is : ltsu 0.92, ltss 1.21, lttu 0.07, ltts 0.97, lttuda 0.11. Validation loss is : 1.07. Validation acc. is : 63.24.\n",
      "Training loss at epoch 29 is : ltsu 0.92, ltss 1.21, lttu 0.07, ltts 0.96, lttuda 0.11. Validation loss is : 1.19. Validation acc. is : 62.74.\n",
      "Training loss at epoch 30 is : ltsu 0.92, ltss 1.19, lttu 0.07, ltts 0.94, lttuda 0.11. Validation loss is : 1.08. Validation acc. is : 66.17.\n",
      "Training loss at epoch 31 is : ltsu 0.89, ltss 1.17, lttu 0.07, ltts 0.91, lttuda 0.11. Validation loss is : 1.05. Validation acc. is : 66.42.\n",
      "Training loss at epoch 32 is : ltsu 0.89, ltss 1.14, lttu 0.07, ltts 0.90, lttuda 0.11. Validation loss is : 1.15. Validation acc. is : 64.08.\n",
      "Training loss at epoch 33 is : ltsu 0.89, ltss 1.14, lttu 0.07, ltts 0.89, lttuda 0.12. Validation loss is : 1.08. Validation acc. is : 65.66.\n",
      "Training loss at epoch 34 is : ltsu 0.88, ltss 1.13, lttu 0.08, ltts 0.86, lttuda 0.12. Validation loss is : 1.18. Validation acc. is : 62.89.\n",
      "Training loss at epoch 35 is : ltsu 0.89, ltss 1.12, lttu 0.08, ltts 0.87, lttuda 0.12. Validation loss is : 0.96. Validation acc. is : 67.93.\n",
      "Training loss at epoch 36 is : ltsu 0.85, ltss 1.11, lttu 0.06, ltts 0.85, lttuda 0.12. Validation loss is : 0.97. Validation acc. is : 69.00.\n",
      "Training loss at epoch 37 is : ltsu 0.85, ltss 1.09, lttu 0.06, ltts 0.83, lttuda 0.12. Validation loss is : 1.00. Validation acc. is : 68.46.\n",
      "Training loss at epoch 38 is : ltsu 0.82, ltss 1.07, lttu 0.04, ltts 0.82, lttuda 0.12. Validation loss is : 0.92. Validation acc. is : 70.49.\n",
      "Training loss at epoch 39 is : ltsu 0.84, ltss 1.06, lttu 0.05, ltts 0.79, lttuda 0.12. Validation loss is : 0.96. Validation acc. is : 70.16.\n",
      "Training loss at epoch 40 is : ltsu 0.83, ltss 1.04, lttu 0.05, ltts 0.79, lttuda 0.13. Validation loss is : 0.98. Validation acc. is : 67.91.\n",
      "Training loss at epoch 41 is : ltsu 0.83, ltss 1.04, lttu 0.06, ltts 0.77, lttuda 0.13. Validation loss is : 0.98. Validation acc. is : 68.38.\n",
      "Training loss at epoch 42 is : ltsu 0.82, ltss 1.01, lttu 0.06, ltts 0.74, lttuda 0.13. Validation loss is : 0.95. Validation acc. is : 70.34.\n",
      "Training loss at epoch 43 is : ltsu 0.80, ltss 1.00, lttu 0.04, ltts 0.74, lttuda 0.13. Validation loss is : 0.88. Validation acc. is : 71.44.\n",
      "Training loss at epoch 44 is : ltsu 0.80, ltss 1.02, lttu 0.04, ltts 0.73, lttuda 0.13. Validation loss is : 0.93. Validation acc. is : 70.55.\n",
      "Training loss at epoch 45 is : ltsu 0.80, ltss 0.98, lttu 0.04, ltts 0.71, lttuda 0.13. Validation loss is : 0.89. Validation acc. is : 70.99.\n",
      "Training loss at epoch 46 is : ltsu 0.79, ltss 0.98, lttu 0.04, ltts 0.70, lttuda 0.13. Validation loss is : 0.87. Validation acc. is : 72.40.\n",
      "Training loss at epoch 47 is : ltsu 0.78, ltss 0.97, lttu 0.04, ltts 0.68, lttuda 0.14. Validation loss is : 0.87. Validation acc. is : 71.83.\n",
      "Training loss at epoch 48 is : ltsu 0.79, ltss 0.95, lttu 0.04, ltts 0.67, lttuda 0.14. Validation loss is : 1.12. Validation acc. is : 63.29.\n",
      "Training loss at epoch 49 is : ltsu 0.78, ltss 0.95, lttu 0.04, ltts 0.66, lttuda 0.14. Validation loss is : 0.97. Validation acc. is : 70.57.\n",
      "Training loss at epoch 50 is : ltsu 0.78, ltss 0.93, lttu 0.04, ltts 0.64, lttuda 0.14. Validation loss is : 0.86. Validation acc. is : 73.30.\n",
      "Training loss at epoch 51 is : ltsu 0.76, ltss 0.91, lttu 0.04, ltts 0.63, lttuda 0.14. Validation loss is : 0.90. Validation acc. is : 72.68.\n",
      "Training loss at epoch 52 is : ltsu 0.77, ltss 0.94, lttu 0.04, ltts 0.64, lttuda 0.14. Validation loss is : 0.82. Validation acc. is : 73.23.\n",
      "Training loss at epoch 53 is : ltsu 0.74, ltss 0.90, lttu 0.03, ltts 0.60, lttuda 0.14. Validation loss is : 0.82. Validation acc. is : 73.63.\n",
      "Training loss at epoch 54 is : ltsu 0.76, ltss 0.90, lttu 0.04, ltts 0.61, lttuda 0.14. Validation loss is : 0.79. Validation acc. is : 74.17.\n",
      "Training loss at epoch 55 is : ltsu 0.75, ltss 0.88, lttu 0.04, ltts 0.58, lttuda 0.14. Validation loss is : 0.87. Validation acc. is : 72.53.\n",
      "Training loss at epoch 56 is : ltsu 0.75, ltss 0.89, lttu 0.03, ltts 0.57, lttuda 0.14. Validation loss is : 0.85. Validation acc. is : 73.41.\n",
      "Training loss at epoch 57 is : ltsu 0.77, ltss 0.90, lttu 0.04, ltts 0.58, lttuda 0.15. Validation loss is : 0.78. Validation acc. is : 74.59.\n",
      "Training loss at epoch 58 is : ltsu 0.74, ltss 0.89, lttu 0.04, ltts 0.58, lttuda 0.15. Validation loss is : 0.84. Validation acc. is : 73.25.\n",
      "Training loss at epoch 59 is : ltsu 0.76, ltss 0.88, lttu 0.04, ltts 0.57, lttuda 0.15. Validation loss is : 0.80. Validation acc. is : 74.44.\n",
      "Training loss at epoch 60 is : ltsu 0.74, ltss 0.87, lttu 0.03, ltts 0.55, lttuda 0.15. Validation loss is : 0.77. Validation acc. is : 75.17.\n",
      "Training loss at epoch 61 is : ltsu 0.73, ltss 0.86, lttu 0.03, ltts 0.53, lttuda 0.15. Validation loss is : 0.79. Validation acc. is : 75.42.\n",
      "Training loss at epoch 62 is : ltsu 0.73, ltss 0.87, lttu 0.03, ltts 0.53, lttuda 0.15. Validation loss is : 0.81. Validation acc. is : 75.14.\n",
      "Training loss at epoch 63 is : ltsu 0.72, ltss 0.85, lttu 0.03, ltts 0.53, lttuda 0.15. Validation loss is : 0.80. Validation acc. is : 74.30.\n",
      "Training loss at epoch 64 is : ltsu 0.72, ltss 0.84, lttu 0.03, ltts 0.52, lttuda 0.15. Validation loss is : 0.81. Validation acc. is : 74.24.\n",
      "Training loss at epoch 65 is : ltsu 0.73, ltss 0.84, lttu 0.04, ltts 0.52, lttuda 0.15. Validation loss is : 0.74. Validation acc. is : 75.84.\n",
      "Training loss at epoch 66 is : ltsu 0.73, ltss 0.86, lttu 0.03, ltts 0.51, lttuda 0.15. Validation loss is : 0.82. Validation acc. is : 74.45.\n",
      "Training loss at epoch 67 is : ltsu 0.70, ltss 0.83, lttu 0.03, ltts 0.49, lttuda 0.15. Validation loss is : 0.78. Validation acc. is : 75.74.\n",
      "Training loss at epoch 68 is : ltsu 0.72, ltss 0.82, lttu 0.02, ltts 0.49, lttuda 0.15. Validation loss is : 0.75. Validation acc. is : 75.27.\n",
      "Training loss at epoch 69 is : ltsu 0.71, ltss 0.83, lttu 0.04, ltts 0.50, lttuda 0.15. Validation loss is : 0.75. Validation acc. is : 76.18.\n",
      "Training loss at epoch 70 is : ltsu 0.70, ltss 0.79, lttu 0.03, ltts 0.47, lttuda 0.15. Validation loss is : 0.74. Validation acc. is : 76.43.\n",
      "Training loss at epoch 71 is : ltsu 0.69, ltss 0.80, lttu 0.02, ltts 0.46, lttuda 0.16. Validation loss is : 0.76. Validation acc. is : 75.83.\n",
      "Training loss at epoch 72 is : ltsu 0.69, ltss 0.81, lttu 0.03, ltts 0.45, lttuda 0.16. Validation loss is : 0.71. Validation acc. is : 77.46.\n",
      "Training loss at epoch 73 is : ltsu 0.70, ltss 0.79, lttu 0.02, ltts 0.45, lttuda 0.15. Validation loss is : 0.75. Validation acc. is : 76.52.\n",
      "Training loss at epoch 74 is : ltsu 0.67, ltss 0.79, lttu 0.02, ltts 0.46, lttuda 0.15. Validation loss is : 0.83. Validation acc. is : 75.20.\n",
      "Training loss at epoch 75 is : ltsu 0.67, ltss 0.79, lttu 0.03, ltts 0.44, lttuda 0.15. Validation loss is : 0.77. Validation acc. is : 76.00.\n",
      "Training loss at epoch 76 is : ltsu 0.69, ltss 0.79, lttu 0.03, ltts 0.43, lttuda 0.16. Validation loss is : 0.71. Validation acc. is : 77.07.\n",
      "Training loss at epoch 77 is : ltsu 0.68, ltss 0.80, lttu 0.03, ltts 0.44, lttuda 0.15. Validation loss is : 0.75. Validation acc. is : 76.57.\n",
      "Training loss at epoch 78 is : ltsu 0.67, ltss 0.78, lttu 0.03, ltts 0.44, lttuda 0.15. Validation loss is : 0.85. Validation acc. is : 74.26.\n",
      "Training loss at epoch 79 is : ltsu 0.67, ltss 0.78, lttu 0.03, ltts 0.44, lttuda 0.16. Validation loss is : 0.73. Validation acc. is : 77.37.\n",
      "Training loss at epoch 80 is : ltsu 0.67, ltss 0.78, lttu 0.03, ltts 0.41, lttuda 0.16. Validation loss is : 0.73. Validation acc. is : 77.33.\n",
      "Training loss at epoch 81 is : ltsu 0.66, ltss 0.78, lttu 0.03, ltts 0.43, lttuda 0.16. Validation loss is : 0.90. Validation acc. is : 73.86.\n",
      "Training loss at epoch 82 is : ltsu 0.67, ltss 0.79, lttu 0.03, ltts 0.43, lttuda 0.16. Validation loss is : 0.68. Validation acc. is : 77.76.\n",
      "Training loss at epoch 83 is : ltsu 0.67, ltss 0.77, lttu 0.03, ltts 0.42, lttuda 0.16. Validation loss is : 0.78. Validation acc. is : 75.56.\n",
      "Training loss at epoch 84 is : ltsu 0.66, ltss 0.77, lttu 0.03, ltts 0.42, lttuda 0.15. Validation loss is : 0.70. Validation acc. is : 77.86.\n",
      "Training loss at epoch 85 is : ltsu 0.64, ltss 0.76, lttu 0.02, ltts 0.40, lttuda 0.16. Validation loss is : 0.76. Validation acc. is : 76.89.\n",
      "Training loss at epoch 86 is : ltsu 0.66, ltss 0.76, lttu 0.03, ltts 0.40, lttuda 0.16. Validation loss is : 0.70. Validation acc. is : 77.92.\n",
      "Training loss at epoch 87 is : ltsu 0.63, ltss 0.74, lttu 0.02, ltts 0.37, lttuda 0.16. Validation loss is : 0.83. Validation acc. is : 75.06.\n",
      "Training loss at epoch 88 is : ltsu 0.67, ltss 0.78, lttu 0.03, ltts 0.41, lttuda 0.16. Validation loss is : 0.71. Validation acc. is : 77.80.\n",
      "Training loss at epoch 89 is : ltsu 0.64, ltss 0.76, lttu 0.02, ltts 0.39, lttuda 0.16. Validation loss is : 0.70. Validation acc. is : 77.71.\n",
      "Training loss at epoch 90 is : ltsu 0.65, ltss 0.76, lttu 0.03, ltts 0.39, lttuda 0.16. Validation loss is : 0.86. Validation acc. is : 74.52.\n",
      "Training loss at epoch 91 is : ltsu 0.65, ltss 0.76, lttu 0.02, ltts 0.39, lttuda 0.16. Validation loss is : 0.76. Validation acc. is : 76.49.\n",
      "Training loss at epoch 92 is : ltsu 0.64, ltss 0.74, lttu 0.02, ltts 0.38, lttuda 0.16. Validation loss is : 0.74. Validation acc. is : 77.06.\n",
      "Training loss at epoch 93 is : ltsu 0.64, ltss 0.76, lttu 0.02, ltts 0.39, lttuda 0.16. Validation loss is : 0.74. Validation acc. is : 76.48.\n",
      "Training loss at epoch 94 is : ltsu 0.64, ltss 0.75, lttu 0.02, ltts 0.38, lttuda 0.16. Validation loss is : 0.69. Validation acc. is : 79.17.\n",
      "Training loss at epoch 95 is : ltsu 0.64, ltss 0.75, lttu 0.02, ltts 0.40, lttuda 0.16. Validation loss is : 0.73. Validation acc. is : 78.27.\n",
      "Training loss at epoch 96 is : ltsu 0.63, ltss 0.74, lttu 0.02, ltts 0.37, lttuda 0.16. Validation loss is : 0.74. Validation acc. is : 77.48.\n",
      "Training loss at epoch 97 is : ltsu 0.64, ltss 0.73, lttu 0.02, ltts 0.36, lttuda 0.16. Validation loss is : 0.68. Validation acc. is : 78.38.\n",
      "Training loss at epoch 98 is : ltsu 0.64, ltss 0.74, lttu 0.02, ltts 0.38, lttuda 0.16. Validation loss is : 0.74. Validation acc. is : 75.84.\n",
      "Training loss at epoch 99 is : ltsu 0.63, ltss 0.73, lttu 0.02, ltts 0.36, lttuda 0.16. Validation loss is : 0.69. Validation acc. is : 78.24.\n",
      "Training loss at epoch 100 is : ltsu 0.63, ltss 0.73, lttu 0.02, ltts 0.36, lttuda 0.16. Validation loss is : 0.66. Validation acc. is : 79.32.\n",
      "Training loss at epoch 101 is : ltsu 0.63, ltss 0.74, lttu 0.02, ltts 0.38, lttuda 0.16. Validation loss is : 0.68. Validation acc. is : 79.40.\n",
      "Training loss at epoch 102 is : ltsu 0.62, ltss 0.72, lttu 0.02, ltts 0.36, lttuda 0.16. Validation loss is : 0.69. Validation acc. is : 79.12.\n",
      "Training loss at epoch 103 is : ltsu 0.61, ltss 0.71, lttu 0.01, ltts 0.35, lttuda 0.16. Validation loss is : 0.70. Validation acc. is : 78.10.\n",
      "Training loss at epoch 104 is : ltsu 0.62, ltss 0.72, lttu 0.03, ltts 0.36, lttuda 0.16. Validation loss is : 0.79. Validation acc. is : 75.54.\n",
      "Training loss at epoch 105 is : ltsu 0.62, ltss 0.73, lttu 0.02, ltts 0.38, lttuda 0.15. Validation loss is : 0.67. Validation acc. is : 79.53.\n",
      "Training loss at epoch 106 is : ltsu 0.60, ltss 0.72, lttu 0.02, ltts 0.35, lttuda 0.16. Validation loss is : 0.63. Validation acc. is : 79.84.\n",
      "Training loss at epoch 107 is : ltsu 0.60, ltss 0.72, lttu 0.02, ltts 0.34, lttuda 0.16. Validation loss is : 0.73. Validation acc. is : 78.19.\n",
      "Training loss at epoch 108 is : ltsu 0.62, ltss 0.73, lttu 0.03, ltts 0.34, lttuda 0.16. Validation loss is : 0.68. Validation acc. is : 78.43.\n",
      "Training loss at epoch 109 is : ltsu 0.63, ltss 0.72, lttu 0.02, ltts 0.35, lttuda 0.16. Validation loss is : 0.77. Validation acc. is : 76.49.\n",
      "Training loss at epoch 110 is : ltsu 0.62, ltss 0.72, lttu 0.02, ltts 0.36, lttuda 0.16. Validation loss is : 0.69. Validation acc. is : 79.24.\n",
      "Training loss at epoch 111 is : ltsu 0.58, ltss 0.70, lttu 0.01, ltts 0.33, lttuda 0.16. Validation loss is : 0.68. Validation acc. is : 78.74.\n",
      "Training loss at epoch 112 is : ltsu 0.59, ltss 0.71, lttu 0.02, ltts 0.33, lttuda 0.16. Validation loss is : 0.79. Validation acc. is : 76.98.\n",
      "Training loss at epoch 113 is : ltsu 0.59, ltss 0.73, lttu 0.02, ltts 0.35, lttuda 0.16. Validation loss is : 0.74. Validation acc. is : 78.48.\n",
      "Training loss at epoch 114 is : ltsu 0.60, ltss 0.71, lttu 0.01, ltts 0.33, lttuda 0.16. Validation loss is : 0.66. Validation acc. is : 79.62.\n",
      "Training loss at epoch 115 is : ltsu 0.59, ltss 0.71, lttu 0.02, ltts 0.33, lttuda 0.16. Validation loss is : 0.67. Validation acc. is : 78.98.\n",
      "Training loss at epoch 116 is : ltsu 0.59, ltss 0.71, lttu 0.01, ltts 0.34, lttuda 0.16. Validation loss is : 0.73. Validation acc. is : 78.58.\n",
      "Training loss at epoch 117 is : ltsu 0.58, ltss 0.69, lttu 0.02, ltts 0.32, lttuda 0.16. Validation loss is : 0.67. Validation acc. is : 79.27.\n",
      "Training loss at epoch 118 is : ltsu 0.59, ltss 0.70, lttu 0.02, ltts 0.33, lttuda 0.16. Validation loss is : 0.73. Validation acc. is : 77.97.\n",
      "Training loss at epoch 119 is : ltsu 0.59, ltss 0.70, lttu 0.02, ltts 0.34, lttuda 0.16. Validation loss is : 0.73. Validation acc. is : 77.79.\n",
      "Training loss at epoch 120 is : ltsu 0.59, ltss 0.69, lttu 0.02, ltts 0.32, lttuda 0.16. Validation loss is : 0.66. Validation acc. is : 79.58.\n",
      "Training loss at epoch 121 is : ltsu 0.57, ltss 0.70, lttu 0.01, ltts 0.31, lttuda 0.16. Validation loss is : 0.63. Validation acc. is : 80.30.\n",
      "Training loss at epoch 122 is : ltsu 0.58, ltss 0.70, lttu 0.01, ltts 0.33, lttuda 0.16. Validation loss is : 0.70. Validation acc. is : 79.14.\n",
      "Training loss at epoch 123 is : ltsu 0.59, ltss 0.68, lttu 0.02, ltts 0.30, lttuda 0.16. Validation loss is : 0.70. Validation acc. is : 78.65.\n",
      "Training loss at epoch 124 is : ltsu 0.59, ltss 0.70, lttu 0.02, ltts 0.31, lttuda 0.16. Validation loss is : 0.72. Validation acc. is : 76.94.\n",
      "Training loss at epoch 125 is : ltsu 0.57, ltss 0.69, lttu 0.02, ltts 0.31, lttuda 0.16. Validation loss is : 0.73. Validation acc. is : 78.64.\n",
      "Training loss at epoch 126 is : ltsu 0.59, ltss 0.68, lttu 0.02, ltts 0.32, lttuda 0.16. Validation loss is : 0.66. Validation acc. is : 79.71.\n",
      "Training loss at epoch 127 is : ltsu 0.57, ltss 0.69, lttu 0.01, ltts 0.31, lttuda 0.16. Validation loss is : 0.84. Validation acc. is : 76.96.\n",
      "Training loss at epoch 128 is : ltsu 0.57, ltss 0.70, lttu 0.02, ltts 0.31, lttuda 0.16. Validation loss is : 0.68. Validation acc. is : 79.57.\n",
      "Training loss at epoch 129 is : ltsu 0.58, ltss 0.70, lttu 0.02, ltts 0.32, lttuda 0.16. Validation loss is : 0.69. Validation acc. is : 78.82.\n",
      "Training loss at epoch 130 is : ltsu 0.56, ltss 0.69, lttu 0.02, ltts 0.30, lttuda 0.16. Validation loss is : 0.73. Validation acc. is : 78.16.\n",
      "Training loss at epoch 131 is : ltsu 0.56, ltss 0.67, lttu 0.02, ltts 0.30, lttuda 0.16. Validation loss is : 0.69. Validation acc. is : 78.87.\n",
      "Training loss at epoch 132 is : ltsu 0.56, ltss 0.67, lttu 0.01, ltts 0.30, lttuda 0.16. Validation loss is : 0.67. Validation acc. is : 79.35.\n",
      "Training loss at epoch 133 is : ltsu 0.58, ltss 0.68, lttu 0.01, ltts 0.30, lttuda 0.16. Validation loss is : 0.64. Validation acc. is : 80.05.\n",
      "Training loss at epoch 134 is : ltsu 0.56, ltss 0.67, lttu 0.02, ltts 0.29, lttuda 0.16. Validation loss is : 0.68. Validation acc. is : 79.71.\n",
      "Training loss at epoch 135 is : ltsu 0.56, ltss 0.68, lttu 0.02, ltts 0.30, lttuda 0.15. Validation loss is : 0.68. Validation acc. is : 79.32.\n",
      "Training loss at epoch 136 is : ltsu 0.56, ltss 0.69, lttu 0.02, ltts 0.30, lttuda 0.16. Validation loss is : 0.74. Validation acc. is : 78.05.\n",
      "Training loss at epoch 137 is : ltsu 0.56, ltss 0.68, lttu 0.02, ltts 0.31, lttuda 0.16. Validation loss is : 0.75. Validation acc. is : 77.99.\n",
      "Training loss at epoch 138 is : ltsu 0.55, ltss 0.67, lttu 0.01, ltts 0.29, lttuda 0.16. Validation loss is : 0.64. Validation acc. is : 80.30.\n",
      "Training loss at epoch 139 is : ltsu 0.56, ltss 0.69, lttu 0.01, ltts 0.30, lttuda 0.16. Validation loss is : 0.68. Validation acc. is : 79.89.\n",
      "Training loss at epoch 140 is : ltsu 0.55, ltss 0.67, lttu 0.01, ltts 0.29, lttuda 0.15. Validation loss is : 0.62. Validation acc. is : 80.98.\n",
      "Training loss at epoch 141 is : ltsu 0.54, ltss 0.65, lttu 0.02, ltts 0.29, lttuda 0.15. Validation loss is : 0.67. Validation acc. is : 78.90.\n",
      "Training loss at epoch 142 is : ltsu 0.56, ltss 0.65, lttu 0.02, ltts 0.28, lttuda 0.16. Validation loss is : 0.67. Validation acc. is : 80.14.\n",
      "Training loss at epoch 143 is : ltsu 0.54, ltss 0.66, lttu 0.01, ltts 0.28, lttuda 0.16. Validation loss is : 0.68. Validation acc. is : 79.36.\n",
      "Training loss at epoch 144 is : ltsu 0.55, ltss 0.68, lttu 0.01, ltts 0.30, lttuda 0.16. Validation loss is : 0.66. Validation acc. is : 80.26.\n",
      "Training loss at epoch 145 is : ltsu 0.55, ltss 0.67, lttu 0.02, ltts 0.29, lttuda 0.16. Validation loss is : 0.67. Validation acc. is : 79.67.\n",
      "Training loss at epoch 146 is : ltsu 0.55, ltss 0.66, lttu 0.01, ltts 0.28, lttuda 0.16. Validation loss is : 0.69. Validation acc. is : 79.56.\n",
      "Training loss at epoch 147 is : ltsu 0.54, ltss 0.67, lttu 0.01, ltts 0.29, lttuda 0.15. Validation loss is : 0.62. Validation acc. is : 80.90.\n",
      "Training loss at epoch 148 is : ltsu 0.54, ltss 0.65, lttu 0.02, ltts 0.28, lttuda 0.16. Validation loss is : 0.76. Validation acc. is : 78.83.\n",
      "Training loss at epoch 149 is : ltsu 0.54, ltss 0.65, lttu 0.01, ltts 0.28, lttuda 0.15. Validation loss is : 0.65. Validation acc. is : 79.89.\n",
      "Training loss at epoch 150 is : ltsu 0.54, ltss 0.67, lttu 0.01, ltts 0.29, lttuda 0.15. Validation loss is : 0.65. Validation acc. is : 80.64.\n",
      "Training loss at epoch 151 is : ltsu 0.54, ltss 0.66, lttu 0.01, ltts 0.28, lttuda 0.16. Validation loss is : 0.67. Validation acc. is : 79.08.\n",
      "Training loss at epoch 152 is : ltsu 0.54, ltss 0.66, lttu 0.01, ltts 0.28, lttuda 0.16. Validation loss is : 0.62. Validation acc. is : 79.30.\n",
      "Training loss at epoch 153 is : ltsu 0.53, ltss 0.67, lttu 0.00, ltts 0.29, lttuda 0.15. Validation loss is : 0.65. Validation acc. is : 80.69.\n",
      "Training loss at epoch 154 is : ltsu 0.53, ltss 0.66, lttu 0.01, ltts 0.28, lttuda 0.16. Validation loss is : 0.65. Validation acc. is : 80.40.\n",
      "Training loss at epoch 155 is : ltsu 0.52, ltss 0.66, lttu 0.01, ltts 0.28, lttuda 0.15. Validation loss is : 0.68. Validation acc. is : 80.11.\n",
      "Training loss at epoch 156 is : ltsu 0.53, ltss 0.66, lttu 0.01, ltts 0.27, lttuda 0.16. Validation loss is : 0.73. Validation acc. is : 79.11.\n",
      "Training loss at epoch 157 is : ltsu 0.53, ltss 0.65, lttu 0.01, ltts 0.29, lttuda 0.15. Validation loss is : 0.62. Validation acc. is : 80.98.\n",
      "Training loss at epoch 158 is : ltsu 0.53, ltss 0.66, lttu 0.01, ltts 0.27, lttuda 0.16. Validation loss is : 0.66. Validation acc. is : 80.13.\n",
      "Training loss at epoch 159 is : ltsu 0.53, ltss 0.66, lttu 0.02, ltts 0.27, lttuda 0.16. Validation loss is : 0.61. Validation acc. is : 81.13.\n",
      "Training loss at epoch 160 is : ltsu 0.53, ltss 0.65, lttu 0.01, ltts 0.25, lttuda 0.16. Validation loss is : 0.65. Validation acc. is : 79.85.\n",
      "Training loss at epoch 161 is : ltsu 0.53, ltss 0.65, lttu 0.02, ltts 0.27, lttuda 0.16. Validation loss is : 0.64. Validation acc. is : 79.86.\n",
      "Training loss at epoch 162 is : ltsu 0.51, ltss 0.65, lttu 0.01, ltts 0.27, lttuda 0.16. Validation loss is : 0.64. Validation acc. is : 80.81.\n",
      "Training loss at epoch 163 is : ltsu 0.52, ltss 0.65, lttu 0.02, ltts 0.26, lttuda 0.15. Validation loss is : 0.67. Validation acc. is : 79.57.\n",
      "Training loss at epoch 164 is : ltsu 0.52, ltss 0.66, lttu 0.00, ltts 0.27, lttuda 0.16. Validation loss is : 0.62. Validation acc. is : 80.83.\n",
      "Training loss at epoch 165 is : ltsu 0.53, ltss 0.65, lttu 0.01, ltts 0.27, lttuda 0.16. Validation loss is : 0.64. Validation acc. is : 80.37.\n",
      "Training loss at epoch 166 is : ltsu 0.53, ltss 0.64, lttu 0.01, ltts 0.27, lttuda 0.16. Validation loss is : 0.64. Validation acc. is : 80.53.\n",
      "Training loss at epoch 167 is : ltsu 0.52, ltss 0.65, lttu 0.01, ltts 0.26, lttuda 0.16. Validation loss is : 0.62. Validation acc. is : 81.07.\n",
      "Training loss at epoch 168 is : ltsu 0.52, ltss 0.64, lttu 0.01, ltts 0.26, lttuda 0.16. Validation loss is : 0.66. Validation acc. is : 80.02.\n",
      "Training loss at epoch 169 is : ltsu 0.51, ltss 0.65, lttu 0.01, ltts 0.26, lttuda 0.16. Validation loss is : 0.67. Validation acc. is : 80.43.\n",
      "Training loss at epoch 170 is : ltsu 0.51, ltss 0.64, lttu 0.01, ltts 0.26, lttuda 0.16. Validation loss is : 0.69. Validation acc. is : 80.02.\n",
      "Training loss at epoch 171 is : ltsu 0.52, ltss 0.63, lttu 0.01, ltts 0.26, lttuda 0.16. Validation loss is : 0.67. Validation acc. is : 79.74.\n",
      "Training loss at epoch 172 is : ltsu 0.51, ltss 0.65, lttu 0.01, ltts 0.27, lttuda 0.15. Validation loss is : 0.63. Validation acc. is : 80.95.\n",
      "Training loss at epoch 173 is : ltsu 0.51, ltss 0.62, lttu 0.01, ltts 0.24, lttuda 0.16. Validation loss is : 0.67. Validation acc. is : 79.49.\n",
      "Training loss at epoch 174 is : ltsu 0.52, ltss 0.64, lttu 0.01, ltts 0.26, lttuda 0.16. Validation loss is : 0.62. Validation acc. is : 80.98.\n",
      "**** SSL training done. Beginning finetuning of the student model. ****\n",
      "Training loss at epoch 0 is : 0.58. Validation loss is : 0.53. Validation acc. is : 82.79.\n",
      "Training loss at epoch 1 is : 0.53. Validation loss is : 0.52. Validation acc. is : 82.97.\n",
      "Training loss at epoch 2 is : 0.50. Validation loss is : 0.53. Validation acc. is : 83.03.\n",
      "Training loss at epoch 3 is : 0.47. Validation loss is : 0.56. Validation acc. is : 82.84.\n",
      "Training loss at epoch 4 is : 0.45. Validation loss is : 0.57. Validation acc. is : 83.26.\n",
      "Training loss at epoch 5 is : 0.43. Validation loss is : 0.58. Validation acc. is : 82.97.\n",
      "Training loss at epoch 6 is : 0.42. Validation loss is : 0.58. Validation acc. is : 82.84.\n",
      "Training loss at epoch 7 is : 0.41. Validation loss is : 0.61. Validation acc. is : 82.99.\n",
      "Training loss at epoch 8 is : 0.39. Validation loss is : 0.60. Validation acc. is : 82.88.\n",
      "Training loss at epoch 9 is : 0.36. Validation loss is : 0.63. Validation acc. is : 82.88.\n",
      "Training loss at epoch 10 is : 0.36. Validation loss is : 0.63. Validation acc. is : 83.15.\n",
      "Training loss at epoch 11 is : 0.36. Validation loss is : 0.64. Validation acc. is : 82.92.\n",
      "Training loss at epoch 12 is : 0.34. Validation loss is : 0.66. Validation acc. is : 82.92.\n",
      "Training loss at epoch 13 is : 0.34. Validation loss is : 0.67. Validation acc. is : 82.83.\n",
      "Training loss at epoch 14 is : 0.32. Validation loss is : 0.68. Validation acc. is : 83.10.\n",
      "Training loss at epoch 15 is : 0.33. Validation loss is : 0.73. Validation acc. is : 83.07.\n",
      "Training loss at epoch 16 is : 0.32. Validation loss is : 0.70. Validation acc. is : 82.94.\n",
      "Training loss at epoch 17 is : 0.32. Validation loss is : 0.74. Validation acc. is : 83.23.\n",
      "Training loss at epoch 18 is : 0.32. Validation loss is : 0.68. Validation acc. is : 83.28.\n",
      "Training loss at epoch 19 is : 0.31. Validation loss is : 0.71. Validation acc. is : 83.17.\n",
      "Training loss at epoch 20 is : 0.31. Validation loss is : 0.73. Validation acc. is : 83.09.\n",
      "Training loss at epoch 21 is : 0.31. Validation loss is : 0.74. Validation acc. is : 83.00.\n",
      "Training loss at epoch 22 is : 0.29. Validation loss is : 0.75. Validation acc. is : 82.92.\n",
      "Training loss at epoch 23 is : 0.30. Validation loss is : 0.76. Validation acc. is : 83.00.\n",
      "Training loss at epoch 24 is : 0.30. Validation loss is : 0.71. Validation acc. is : 83.27.\n"
     ]
    }
   ],
   "source": [
    "trainer.train()"
   ]
  },
  {
   "cell_type": "code",
   "execution_count": null,
   "metadata": {},
   "outputs": [],
   "source": []
  }
 ],
 "metadata": {
  "interpreter": {
   "hash": "0dadcd243d7a81fb679ed94fa0b3507371cb4f0217aac2cbcd3d9c4ad08fe2a2"
  },
  "kernelspec": {
   "display_name": "Python 3 (ipykernel)",
   "language": "python",
   "name": "python3"
  },
  "language_info": {
   "codemirror_mode": {
    "name": "ipython",
    "version": 3
   },
   "file_extension": ".py",
   "mimetype": "text/x-python",
   "name": "python",
   "nbconvert_exporter": "python",
   "pygments_lexer": "ipython3",
   "version": "3.9.13"
  }
 },
 "nbformat": 4,
 "nbformat_minor": 4
}
