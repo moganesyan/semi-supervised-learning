{
 "cells": [
  {
   "cell_type": "code",
   "execution_count": 1,
   "metadata": {},
   "outputs": [],
   "source": [
    "import sys\n",
    "from pathlib import Path"
   ]
  },
  {
   "cell_type": "code",
   "execution_count": 2,
   "metadata": {},
   "outputs": [
    {
     "name": "stderr",
     "output_type": "stream",
     "text": [
      "2022-12-01 10:15:00.323365: I tensorflow/core/platform/cpu_feature_guard.cc:193] This TensorFlow binary is optimized with oneAPI Deep Neural Network Library (oneDNN) to use the following CPU instructions in performance-critical operations:  AVX2 FMA\n",
      "To enable them in other operations, rebuild TensorFlow with the appropriate compiler flags.\n",
      "2022-12-01 10:15:00.513474: E tensorflow/stream_executor/cuda/cuda_blas.cc:2981] Unable to register cuBLAS factory: Attempting to register factory for plugin cuBLAS when one has already been registered\n",
      "2022-12-01 10:15:01.148576: W tensorflow/stream_executor/platform/default/dso_loader.cc:64] Could not load dynamic library 'libnvinfer.so.7'; dlerror: libnvinfer.so.7: cannot open shared object file: No such file or directory; LD_LIBRARY_PATH: /usr/local/cuda-11.4/lib64\n",
      "2022-12-01 10:15:01.148698: W tensorflow/stream_executor/platform/default/dso_loader.cc:64] Could not load dynamic library 'libnvinfer_plugin.so.7'; dlerror: libnvinfer_plugin.so.7: cannot open shared object file: No such file or directory; LD_LIBRARY_PATH: /usr/local/cuda-11.4/lib64\n",
      "2022-12-01 10:15:01.148711: W tensorflow/compiler/tf2tensorrt/utils/py_utils.cc:38] TF-TRT Warning: Cannot dlopen some TensorRT libraries. If you would like to use Nvidia GPU with TensorRT, please make sure the missing libraries mentioned above are installed properly.\n"
     ]
    }
   ],
   "source": [
    "import numpy as np\n",
    "import tensorflow as tf\n",
    "\n",
    "from sklearn.model_selection import train_test_split\n",
    "from sklearn.utils import shuffle"
   ]
  },
  {
   "cell_type": "code",
   "execution_count": 3,
   "metadata": {},
   "outputs": [
    {
     "name": "stderr",
     "output_type": "stream",
     "text": [
      "/home/mikheil/.conda/envs/ssl-repo/lib/python3.9/site-packages/tqdm/auto.py:22: TqdmWarning: IProgress not found. Please update jupyter and ipywidgets. See https://ipywidgets.readthedocs.io/en/stable/user_install.html\n",
      "  from .autonotebook import tqdm as notebook_tqdm\n"
     ]
    }
   ],
   "source": [
    "import tensorflow_datasets as tfds"
   ]
  },
  {
   "cell_type": "code",
   "execution_count": 4,
   "metadata": {},
   "outputs": [],
   "source": [
    "sys.path.append(str(Path(\"../../ssl\").resolve()))"
   ]
  },
  {
   "cell_type": "code",
   "execution_count": 5,
   "metadata": {},
   "outputs": [],
   "source": [
    "from src.models.pi_model.pi_model import PiModel\n",
    "from src.models.pi_model.pi_model_config import PiModelConfig\n",
    "from src.trainers.meta_pseudo_label.meta_pseudo_label import MetaPseudoLabelTrainer\n",
    "from src.trainers.meta_pseudo_label.meta_pseudo_label_config import MetaPseudoLabelTrainerConfig\n",
    "from src.data_loaders.meta_pseudo_label.meta_pseudo_label_config import MetaPseudoLabelDataLoaderConfig\n",
    "from src.data_loaders.meta_pseudo_label.meta_pseudo_label import MetaPseudoLabelDataLoader\n",
    "from src.data_loaders.basic.categorical_ce import CategoricalCEDataLoader\n",
    "from src.data_loaders.basic.categorical_ce_config import CategoricalCEDataLoaderConfig"
   ]
  },
  {
   "cell_type": "markdown",
   "metadata": {},
   "source": [
    "# Description\n",
    "\n",
    "In this notebook, a model will be trained on the CIFAR-10 dataset using only 20% of the labelled dataset. Unlabelled data will be used in training."
   ]
  },
  {
   "cell_type": "markdown",
   "metadata": {},
   "source": [
    "## Set up Experiment"
   ]
  },
  {
   "cell_type": "code",
   "execution_count": 6,
   "metadata": {},
   "outputs": [],
   "source": [
    "class TrainerConfig(MetaPseudoLabelTrainerConfig):\n",
    "    num_epochs = 175\n",
    "    num_epochs_finetune = 25\n",
    "\n",
    "    uda_loss_weight = 1.0\n",
    "    uda_conf_thresh = 0.80\n",
    "    uda_softmax_temp = 0.40\n",
    "\n",
    "train_config = TrainerConfig()"
   ]
  },
  {
   "cell_type": "code",
   "execution_count": 7,
   "metadata": {},
   "outputs": [],
   "source": [
    "class ModelConfig(PiModelConfig):\n",
    "    input_shape = (32, 32, 3)\n",
    "    output_shape = 10\n",
    "    output_activation = None\n",
    "\n",
    "model_config = ModelConfig()"
   ]
  },
  {
   "cell_type": "code",
   "execution_count": 8,
   "metadata": {},
   "outputs": [],
   "source": [
    "class DataLoaderConfigSSL(MetaPseudoLabelDataLoaderConfig):\n",
    "    batch_size = 64\n",
    "    num_classes = 10\n",
    "    shuffle_buffer_size = 50000 # dataset size    \n",
    "\n",
    "    # apply augmentations\n",
    "    blur_params = {\n",
    "        'chance': 0.10,\n",
    "        'kernel_ratio': 0.10,\n",
    "        'blur_strength': (0.1, 2.0)\n",
    "    }\n",
    "\n",
    "    crop_params = {\n",
    "        'chance': 0.50,\n",
    "        'crop_size': (0.08, 1.0),\n",
    "        'aspect_range': (0.75, 1.33),\n",
    "        'num_tries': 100\n",
    "    }\n",
    "\n",
    "    jitter_params = {\n",
    "        'chance': 0.50,\n",
    "        'distort_strength': 0.20,\n",
    "        'drop_chance': 0.05\n",
    "    }\n",
    "\n",
    "data_loader_config_ssl = DataLoaderConfigSSL()"
   ]
  },
  {
   "cell_type": "code",
   "execution_count": 9,
   "metadata": {},
   "outputs": [],
   "source": [
    "class DataLoaderConfigCE(CategoricalCEDataLoaderConfig):\n",
    "    batch_size = 64\n",
    "    num_classes = 10\n",
    "    shuffle_buffer_size = 5000 # dataset size    \n",
    "\n",
    "    # apply augmentations\n",
    "    blur_params = {\n",
    "        'chance': 0.10,\n",
    "        'kernel_ratio': 0.10,\n",
    "        'blur_strength': (0.1, 2.0)\n",
    "    }\n",
    "\n",
    "    crop_params = {\n",
    "        'chance': 0.50,\n",
    "        'crop_size': (0.08, 1.0),\n",
    "        'aspect_range': (0.75, 1.33),\n",
    "        'num_tries': 100\n",
    "    }\n",
    "\n",
    "    jitter_params = {\n",
    "        'chance': 0.50,\n",
    "        'distort_strength': 0.20,\n",
    "        'drop_chance': 0.05\n",
    "    }\n",
    "\n",
    "data_loader_config_ce = DataLoaderConfigCE()"
   ]
  },
  {
   "cell_type": "markdown",
   "metadata": {},
   "source": [
    "## Get Datasets"
   ]
  },
  {
   "cell_type": "code",
   "execution_count": 10,
   "metadata": {},
   "outputs": [],
   "source": [
    "(x_train_full, y_train_full), (x_test_full, y_test_full) = tf.keras.datasets.cifar10.load_data()"
   ]
  },
  {
   "cell_type": "code",
   "execution_count": 11,
   "metadata": {},
   "outputs": [],
   "source": [
    "# get train dataset by subsampling 20% of the full training dataset (stratified by labels)\n",
    "# add the rest as unlabelled samples\n",
    "x_train_unlabelled, x_train_labelled, y_train_unlabelled_, y_train_labelled = train_test_split(\n",
    "    x_train_full, y_train_full,\n",
    "    stratify = y_train_full,\n",
    "    test_size = 0.20, random_state = 42\n",
    ")\n",
    "\n",
    "# cast types\n",
    "y_train_unlabelled = (-1 * np.ones_like(y_train_unlabelled_)).astype(np.int64)\n",
    "y_train_labelled = y_train_labelled.astype(np.int64)\n",
    "y_test_full = y_test_full.astype(np.int64)"
   ]
  },
  {
   "cell_type": "code",
   "execution_count": 12,
   "metadata": {},
   "outputs": [],
   "source": [
    "x_train = np.concatenate((x_train_unlabelled, x_train_labelled), axis = 0)\n",
    "y_train = np.concatenate((y_train_unlabelled, y_train_labelled), axis = 0)"
   ]
  },
  {
   "cell_type": "code",
   "execution_count": 13,
   "metadata": {},
   "outputs": [
    {
     "name": "stderr",
     "output_type": "stream",
     "text": [
      "2022-12-01 10:15:03.750337: I tensorflow/stream_executor/cuda/cuda_gpu_executor.cc:980] successful NUMA node read from SysFS had negative value (-1), but there must be at least one NUMA node, so returning NUMA node zero\n",
      "2022-12-01 10:15:03.758984: I tensorflow/stream_executor/cuda/cuda_gpu_executor.cc:980] successful NUMA node read from SysFS had negative value (-1), but there must be at least one NUMA node, so returning NUMA node zero\n",
      "2022-12-01 10:15:03.759603: I tensorflow/stream_executor/cuda/cuda_gpu_executor.cc:980] successful NUMA node read from SysFS had negative value (-1), but there must be at least one NUMA node, so returning NUMA node zero\n",
      "2022-12-01 10:15:03.760657: I tensorflow/core/platform/cpu_feature_guard.cc:193] This TensorFlow binary is optimized with oneAPI Deep Neural Network Library (oneDNN) to use the following CPU instructions in performance-critical operations:  AVX2 FMA\n",
      "To enable them in other operations, rebuild TensorFlow with the appropriate compiler flags.\n",
      "2022-12-01 10:15:03.761271: I tensorflow/stream_executor/cuda/cuda_gpu_executor.cc:980] successful NUMA node read from SysFS had negative value (-1), but there must be at least one NUMA node, so returning NUMA node zero\n",
      "2022-12-01 10:15:03.761880: I tensorflow/stream_executor/cuda/cuda_gpu_executor.cc:980] successful NUMA node read from SysFS had negative value (-1), but there must be at least one NUMA node, so returning NUMA node zero\n",
      "2022-12-01 10:15:03.762414: I tensorflow/stream_executor/cuda/cuda_gpu_executor.cc:980] successful NUMA node read from SysFS had negative value (-1), but there must be at least one NUMA node, so returning NUMA node zero\n",
      "2022-12-01 10:15:04.272888: I tensorflow/stream_executor/cuda/cuda_gpu_executor.cc:980] successful NUMA node read from SysFS had negative value (-1), but there must be at least one NUMA node, so returning NUMA node zero\n",
      "2022-12-01 10:15:04.273437: I tensorflow/stream_executor/cuda/cuda_gpu_executor.cc:980] successful NUMA node read from SysFS had negative value (-1), but there must be at least one NUMA node, so returning NUMA node zero\n",
      "2022-12-01 10:15:04.273930: I tensorflow/stream_executor/cuda/cuda_gpu_executor.cc:980] successful NUMA node read from SysFS had negative value (-1), but there must be at least one NUMA node, so returning NUMA node zero\n",
      "2022-12-01 10:15:04.274388: I tensorflow/core/common_runtime/gpu/gpu_device.cc:1616] Created device /job:localhost/replica:0/task:0/device:GPU:0 with 6996 MB memory:  -> device: 0, name: NVIDIA GeForce GTX 1070 with Max-Q Design, pci bus id: 0000:01:00.0, compute capability: 6.1\n"
     ]
    }
   ],
   "source": [
    "train_data = tf.data.Dataset.from_tensor_slices((x_train, y_train))\n",
    "val_data = tf.data.Dataset.from_tensor_slices((x_test_full, y_test_full))"
   ]
  },
  {
   "cell_type": "code",
   "execution_count": 14,
   "metadata": {},
   "outputs": [],
   "source": [
    "train_data_finetune = tf.data.Dataset.from_tensor_slices((x_train_labelled, y_train_labelled))"
   ]
  },
  {
   "cell_type": "code",
   "execution_count": 15,
   "metadata": {},
   "outputs": [],
   "source": [
    "# create train dataset\n",
    "train_data = MetaPseudoLabelDataLoader(train_data, data_loader_config_ssl)(training = True)"
   ]
  },
  {
   "cell_type": "code",
   "execution_count": 16,
   "metadata": {},
   "outputs": [],
   "source": [
    "# create test dataset\n",
    "val_data = MetaPseudoLabelDataLoader(val_data, data_loader_config_ssl)(training = False)"
   ]
  },
  {
   "cell_type": "code",
   "execution_count": 17,
   "metadata": {},
   "outputs": [],
   "source": [
    "# create finetune dataset\n",
    "train_data_finetune = CategoricalCEDataLoader(train_data_finetune, data_loader_config_ce)(training = True)"
   ]
  },
  {
   "cell_type": "code",
   "execution_count": 18,
   "metadata": {},
   "outputs": [
    {
     "name": "stdout",
     "output_type": "stream",
     "text": [
      "Train dataset size: 782\n",
      "Validation dataset size: 157\n",
      "Train (finetune) dataset size: 157\n"
     ]
    }
   ],
   "source": [
    "print(f\"Train dataset size: {train_data.cardinality()}\")\n",
    "print(f\"Validation dataset size: {val_data.cardinality()}\")\n",
    "print(f\"Train (finetune) dataset size: {train_data_finetune.cardinality()}\")"
   ]
  },
  {
   "cell_type": "markdown",
   "metadata": {},
   "source": [
    "# Train Model"
   ]
  },
  {
   "cell_type": "code",
   "execution_count": 19,
   "metadata": {},
   "outputs": [],
   "source": [
    "model_student = PiModel(model_config)()\n",
    "model_teacher = PiModel(model_config)()"
   ]
  },
  {
   "cell_type": "code",
   "execution_count": 20,
   "metadata": {},
   "outputs": [],
   "source": [
    "trainer = MetaPseudoLabelTrainer(\n",
    "    model_student,\n",
    "    model_teacher,\n",
    "    train_data,\n",
    "    train_config,\n",
    "    train_data_finetune,\n",
    "    val_dataset = val_data)"
   ]
  },
  {
   "cell_type": "code",
   "execution_count": 21,
   "metadata": {},
   "outputs": [
    {
     "name": "stderr",
     "output_type": "stream",
     "text": [
      "2022-12-01 10:15:07.352210: I tensorflow/stream_executor/cuda/cuda_dnn.cc:384] Loaded cuDNN version 8204\n"
     ]
    },
    {
     "name": "stdout",
     "output_type": "stream",
     "text": [
      "Training loss at epoch 0 is : ltsu 2.06, ltss 2.99, lttu -0.02, ltts 2.12, lttuda 0.06. Validation loss is : 3.90. Validation acc. is : 10.00.\n",
      "Training loss at epoch 1 is : ltsu 1.89, ltss 2.91, lttu -0.03, ltts 1.94, lttuda 0.14. Validation loss is : 2.63. Validation acc. is : 22.28.\n",
      "Training loss at epoch 2 is : ltsu 1.46, ltss 3.10, lttu 0.25, ltts 1.84, lttuda 0.18. Validation loss is : 2.87. Validation acc. is : 25.44.\n",
      "Training loss at epoch 3 is : ltsu 1.33, ltss 2.73, lttu 0.25, ltts 1.78, lttuda 0.19. Validation loss is : 2.31. Validation acc. is : 35.26.\n",
      "Training loss at epoch 4 is : ltsu 1.26, ltss 2.54, lttu 0.27, ltts 1.75, lttuda 0.20. Validation loss is : 2.10. Validation acc. is : 35.46.\n",
      "Training loss at epoch 5 is : ltsu 1.22, ltss 2.40, lttu 0.22, ltts 1.69, lttuda 0.20. Validation loss is : 2.10. Validation acc. is : 36.05.\n",
      "Training loss at epoch 6 is : ltsu 1.27, ltss 2.21, lttu 0.22, ltts 1.64, lttuda 0.20. Validation loss is : 2.02. Validation acc. is : 38.11.\n",
      "Training loss at epoch 7 is : ltsu 1.22, ltss 2.16, lttu 0.17, ltts 1.59, lttuda 0.21. Validation loss is : 2.01. Validation acc. is : 40.08.\n",
      "Training loss at epoch 8 is : ltsu 1.22, ltss 2.03, lttu 0.19, ltts 1.55, lttuda 0.21. Validation loss is : 1.86. Validation acc. is : 41.16.\n",
      "Training loss at epoch 9 is : ltsu 1.19, ltss 1.96, lttu 0.16, ltts 1.52, lttuda 0.21. Validation loss is : 2.01. Validation acc. is : 39.08.\n",
      "Training loss at epoch 10 is : ltsu 1.15, ltss 1.91, lttu 0.16, ltts 1.47, lttuda 0.21. Validation loss is : 1.88. Validation acc. is : 46.01.\n",
      "Training loss at epoch 11 is : ltsu 1.18, ltss 1.80, lttu 0.17, ltts 1.43, lttuda 0.21. Validation loss is : 1.85. Validation acc. is : 46.43.\n",
      "Training loss at epoch 12 is : ltsu 1.12, ltss 1.76, lttu 0.15, ltts 1.40, lttuda 0.21. Validation loss is : 1.66. Validation acc. is : 49.17.\n",
      "Training loss at epoch 13 is : ltsu 1.11, ltss 1.72, lttu 0.13, ltts 1.36, lttuda 0.21. Validation loss is : 1.65. Validation acc. is : 49.04.\n",
      "Training loss at epoch 14 is : ltsu 1.10, ltss 1.69, lttu 0.13, ltts 1.34, lttuda 0.21. Validation loss is : 1.59. Validation acc. is : 51.13.\n",
      "Training loss at epoch 15 is : ltsu 1.08, ltss 1.64, lttu 0.14, ltts 1.31, lttuda 0.21. Validation loss is : 1.79. Validation acc. is : 47.58.\n",
      "Training loss at epoch 16 is : ltsu 1.06, ltss 1.59, lttu 0.10, ltts 1.27, lttuda 0.21. Validation loss is : 1.45. Validation acc. is : 54.62.\n",
      "Training loss at epoch 17 is : ltsu 1.04, ltss 1.56, lttu 0.11, ltts 1.26, lttuda 0.21. Validation loss is : 1.52. Validation acc. is : 54.32.\n",
      "Training loss at epoch 18 is : ltsu 1.06, ltss 1.54, lttu 0.12, ltts 1.24, lttuda 0.21. Validation loss is : 1.60. Validation acc. is : 53.23.\n",
      "Training loss at epoch 19 is : ltsu 1.01, ltss 1.51, lttu 0.11, ltts 1.20, lttuda 0.21. Validation loss is : 1.54. Validation acc. is : 55.28.\n",
      "Training loss at epoch 20 is : ltsu 0.99, ltss 1.48, lttu 0.11, ltts 1.18, lttuda 0.21. Validation loss is : 1.38. Validation acc. is : 56.71.\n",
      "Training loss at epoch 21 is : ltsu 1.00, ltss 1.43, lttu 0.08, ltts 1.15, lttuda 0.21. Validation loss is : 1.38. Validation acc. is : 57.69.\n",
      "Training loss at epoch 22 is : ltsu 0.97, ltss 1.42, lttu 0.11, ltts 1.13, lttuda 0.21. Validation loss is : 1.29. Validation acc. is : 59.70.\n",
      "Training loss at epoch 23 is : ltsu 0.95, ltss 1.36, lttu 0.08, ltts 1.10, lttuda 0.21. Validation loss is : 1.25. Validation acc. is : 60.73.\n",
      "Training loss at epoch 24 is : ltsu 0.95, ltss 1.35, lttu 0.10, ltts 1.09, lttuda 0.21. Validation loss is : 1.31. Validation acc. is : 60.02.\n",
      "Training loss at epoch 25 is : ltsu 0.94, ltss 1.33, lttu 0.09, ltts 1.06, lttuda 0.21. Validation loss is : 1.36. Validation acc. is : 60.00.\n",
      "Training loss at epoch 26 is : ltsu 0.92, ltss 1.33, lttu 0.07, ltts 1.04, lttuda 0.21. Validation loss is : 1.25. Validation acc. is : 63.28.\n",
      "Training loss at epoch 27 is : ltsu 0.92, ltss 1.28, lttu 0.08, ltts 1.03, lttuda 0.21. Validation loss is : 1.31. Validation acc. is : 60.98.\n",
      "Training loss at epoch 28 is : ltsu 0.91, ltss 1.25, lttu 0.07, ltts 1.00, lttuda 0.21. Validation loss is : 1.10. Validation acc. is : 63.16.\n",
      "Training loss at epoch 29 is : ltsu 0.90, ltss 1.24, lttu 0.06, ltts 0.98, lttuda 0.21. Validation loss is : 1.14. Validation acc. is : 62.93.\n",
      "Training loss at epoch 30 is : ltsu 0.89, ltss 1.22, lttu 0.06, ltts 0.96, lttuda 0.21. Validation loss is : 1.19. Validation acc. is : 64.52.\n",
      "Training loss at epoch 31 is : ltsu 0.88, ltss 1.21, lttu 0.07, ltts 0.93, lttuda 0.21. Validation loss is : 1.10. Validation acc. is : 65.49.\n",
      "Training loss at epoch 32 is : ltsu 0.88, ltss 1.18, lttu 0.06, ltts 0.93, lttuda 0.21. Validation loss is : 1.12. Validation acc. is : 65.11.\n",
      "Training loss at epoch 33 is : ltsu 0.87, ltss 1.16, lttu 0.06, ltts 0.91, lttuda 0.21. Validation loss is : 1.02. Validation acc. is : 67.31.\n",
      "Training loss at epoch 34 is : ltsu 0.85, ltss 1.15, lttu 0.07, ltts 0.88, lttuda 0.21. Validation loss is : 1.07. Validation acc. is : 66.55.\n",
      "Training loss at epoch 35 is : ltsu 0.87, ltss 1.16, lttu 0.07, ltts 0.90, lttuda 0.21. Validation loss is : 1.01. Validation acc. is : 66.94.\n",
      "Training loss at epoch 36 is : ltsu 0.84, ltss 1.13, lttu 0.06, ltts 0.87, lttuda 0.21. Validation loss is : 1.05. Validation acc. is : 67.64.\n",
      "Training loss at epoch 37 is : ltsu 0.85, ltss 1.11, lttu 0.05, ltts 0.84, lttuda 0.21. Validation loss is : 1.01. Validation acc. is : 67.93.\n",
      "Training loss at epoch 38 is : ltsu 0.82, ltss 1.09, lttu 0.05, ltts 0.84, lttuda 0.21. Validation loss is : 0.95. Validation acc. is : 69.32.\n",
      "Training loss at epoch 39 is : ltsu 0.82, ltss 1.07, lttu 0.04, ltts 0.81, lttuda 0.21. Validation loss is : 0.98. Validation acc. is : 69.50.\n",
      "Training loss at epoch 40 is : ltsu 0.81, ltss 1.06, lttu 0.05, ltts 0.80, lttuda 0.21. Validation loss is : 1.01. Validation acc. is : 69.29.\n",
      "Training loss at epoch 41 is : ltsu 0.81, ltss 1.05, lttu 0.06, ltts 0.79, lttuda 0.21. Validation loss is : 1.08. Validation acc. is : 67.30.\n",
      "Training loss at epoch 42 is : ltsu 0.80, ltss 1.04, lttu 0.06, ltts 0.76, lttuda 0.21. Validation loss is : 0.91. Validation acc. is : 70.69.\n",
      "Training loss at epoch 43 is : ltsu 0.79, ltss 1.03, lttu 0.04, ltts 0.76, lttuda 0.21. Validation loss is : 1.01. Validation acc. is : 69.28.\n",
      "Training loss at epoch 44 is : ltsu 0.79, ltss 1.03, lttu 0.05, ltts 0.75, lttuda 0.21. Validation loss is : 0.89. Validation acc. is : 71.80.\n",
      "Training loss at epoch 45 is : ltsu 0.78, ltss 0.98, lttu 0.04, ltts 0.72, lttuda 0.21. Validation loss is : 0.91. Validation acc. is : 71.28.\n",
      "Training loss at epoch 46 is : ltsu 0.77, ltss 1.00, lttu 0.05, ltts 0.71, lttuda 0.21. Validation loss is : 0.88. Validation acc. is : 72.09.\n",
      "Training loss at epoch 47 is : ltsu 0.78, ltss 0.98, lttu 0.05, ltts 0.70, lttuda 0.21. Validation loss is : 0.90. Validation acc. is : 72.01.\n",
      "Training loss at epoch 48 is : ltsu 0.76, ltss 0.96, lttu 0.03, ltts 0.68, lttuda 0.21. Validation loss is : 0.93. Validation acc. is : 70.06.\n",
      "Training loss at epoch 49 is : ltsu 0.76, ltss 0.97, lttu 0.04, ltts 0.67, lttuda 0.21. Validation loss is : 0.91. Validation acc. is : 72.93.\n",
      "Training loss at epoch 50 is : ltsu 0.75, ltss 0.95, lttu 0.04, ltts 0.65, lttuda 0.21. Validation loss is : 0.91. Validation acc. is : 73.12.\n",
      "Training loss at epoch 51 is : ltsu 0.75, ltss 0.94, lttu 0.03, ltts 0.65, lttuda 0.21. Validation loss is : 0.87. Validation acc. is : 73.13.\n",
      "Training loss at epoch 52 is : ltsu 0.76, ltss 0.95, lttu 0.04, ltts 0.65, lttuda 0.21. Validation loss is : 0.87. Validation acc. is : 72.45.\n",
      "Training loss at epoch 53 is : ltsu 0.76, ltss 0.92, lttu 0.04, ltts 0.62, lttuda 0.21. Validation loss is : 0.90. Validation acc. is : 73.33.\n",
      "Training loss at epoch 54 is : ltsu 0.73, ltss 0.91, lttu 0.03, ltts 0.61, lttuda 0.21. Validation loss is : 0.89. Validation acc. is : 72.72.\n",
      "Training loss at epoch 55 is : ltsu 0.74, ltss 0.91, lttu 0.04, ltts 0.60, lttuda 0.21. Validation loss is : 0.85. Validation acc. is : 73.78.\n",
      "Training loss at epoch 56 is : ltsu 0.73, ltss 0.90, lttu 0.03, ltts 0.59, lttuda 0.21. Validation loss is : 0.80. Validation acc. is : 74.37.\n",
      "Training loss at epoch 57 is : ltsu 0.74, ltss 0.92, lttu 0.04, ltts 0.59, lttuda 0.21. Validation loss is : 0.80. Validation acc. is : 73.31.\n",
      "Training loss at epoch 58 is : ltsu 0.72, ltss 0.90, lttu 0.02, ltts 0.59, lttuda 0.21. Validation loss is : 0.83. Validation acc. is : 73.10.\n",
      "Training loss at epoch 59 is : ltsu 0.71, ltss 0.89, lttu 0.04, ltts 0.57, lttuda 0.21. Validation loss is : 0.83. Validation acc. is : 74.89.\n",
      "Training loss at epoch 60 is : ltsu 0.72, ltss 0.89, lttu 0.03, ltts 0.56, lttuda 0.21. Validation loss is : 0.81. Validation acc. is : 73.34.\n",
      "Training loss at epoch 61 is : ltsu 0.70, ltss 0.86, lttu 0.02, ltts 0.53, lttuda 0.21. Validation loss is : 0.82. Validation acc. is : 74.92.\n",
      "Training loss at epoch 62 is : ltsu 0.71, ltss 0.88, lttu 0.03, ltts 0.55, lttuda 0.21. Validation loss is : 0.85. Validation acc. is : 74.44.\n",
      "Training loss at epoch 63 is : ltsu 0.70, ltss 0.86, lttu 0.03, ltts 0.54, lttuda 0.21. Validation loss is : 0.77. Validation acc. is : 75.95.\n",
      "Training loss at epoch 64 is : ltsu 0.70, ltss 0.85, lttu 0.03, ltts 0.54, lttuda 0.21. Validation loss is : 0.82. Validation acc. is : 74.13.\n",
      "Training loss at epoch 65 is : ltsu 0.69, ltss 0.85, lttu 0.03, ltts 0.52, lttuda 0.21. Validation loss is : 0.81. Validation acc. is : 75.12.\n",
      "Training loss at epoch 66 is : ltsu 0.69, ltss 0.87, lttu 0.03, ltts 0.52, lttuda 0.21. Validation loss is : 0.82. Validation acc. is : 75.75.\n",
      "Training loss at epoch 67 is : ltsu 0.68, ltss 0.84, lttu 0.03, ltts 0.51, lttuda 0.21. Validation loss is : 0.80. Validation acc. is : 75.20.\n",
      "Training loss at epoch 68 is : ltsu 0.70, ltss 0.84, lttu 0.02, ltts 0.50, lttuda 0.21. Validation loss is : 0.80. Validation acc. is : 74.99.\n",
      "Training loss at epoch 69 is : ltsu 0.67, ltss 0.83, lttu 0.02, ltts 0.51, lttuda 0.20. Validation loss is : 0.75. Validation acc. is : 77.20.\n",
      "Training loss at epoch 70 is : ltsu 0.68, ltss 0.80, lttu 0.02, ltts 0.47, lttuda 0.21. Validation loss is : 0.78. Validation acc. is : 75.87.\n",
      "Training loss at epoch 71 is : ltsu 0.67, ltss 0.81, lttu 0.02, ltts 0.48, lttuda 0.21. Validation loss is : 0.79. Validation acc. is : 76.02.\n",
      "Training loss at epoch 72 is : ltsu 0.67, ltss 0.82, lttu 0.04, ltts 0.47, lttuda 0.21. Validation loss is : 0.78. Validation acc. is : 76.28.\n",
      "Training loss at epoch 73 is : ltsu 0.66, ltss 0.81, lttu 0.02, ltts 0.47, lttuda 0.21. Validation loss is : 0.73. Validation acc. is : 77.08.\n",
      "Training loss at epoch 74 is : ltsu 0.65, ltss 0.81, lttu 0.02, ltts 0.46, lttuda 0.20. Validation loss is : 0.76. Validation acc. is : 76.89.\n",
      "Training loss at epoch 75 is : ltsu 0.66, ltss 0.81, lttu 0.02, ltts 0.46, lttuda 0.20. Validation loss is : 0.80. Validation acc. is : 75.78.\n",
      "Training loss at epoch 76 is : ltsu 0.66, ltss 0.80, lttu 0.02, ltts 0.43, lttuda 0.21. Validation loss is : 0.81. Validation acc. is : 75.12.\n",
      "Training loss at epoch 77 is : ltsu 0.65, ltss 0.80, lttu 0.02, ltts 0.45, lttuda 0.21. Validation loss is : 0.70. Validation acc. is : 76.90.\n",
      "Training loss at epoch 78 is : ltsu 0.64, ltss 0.78, lttu 0.02, ltts 0.43, lttuda 0.21. Validation loss is : 0.89. Validation acc. is : 74.71.\n",
      "Training loss at epoch 79 is : ltsu 0.63, ltss 0.79, lttu 0.03, ltts 0.44, lttuda 0.21. Validation loss is : 0.73. Validation acc. is : 77.80.\n",
      "Training loss at epoch 80 is : ltsu 0.65, ltss 0.78, lttu 0.03, ltts 0.43, lttuda 0.21. Validation loss is : 0.79. Validation acc. is : 75.65.\n",
      "Training loss at epoch 81 is : ltsu 0.64, ltss 0.78, lttu 0.03, ltts 0.44, lttuda 0.20. Validation loss is : 0.99. Validation acc. is : 71.92.\n",
      "Training loss at epoch 82 is : ltsu 0.64, ltss 0.79, lttu 0.02, ltts 0.44, lttuda 0.20. Validation loss is : 0.76. Validation acc. is : 76.22.\n",
      "Training loss at epoch 83 is : ltsu 0.63, ltss 0.78, lttu 0.02, ltts 0.42, lttuda 0.20. Validation loss is : 0.72. Validation acc. is : 76.73.\n",
      "Training loss at epoch 84 is : ltsu 0.62, ltss 0.78, lttu 0.02, ltts 0.42, lttuda 0.20. Validation loss is : 0.72. Validation acc. is : 77.39.\n",
      "Training loss at epoch 85 is : ltsu 0.63, ltss 0.77, lttu 0.02, ltts 0.42, lttuda 0.20. Validation loss is : 0.77. Validation acc. is : 77.32.\n",
      "Training loss at epoch 86 is : ltsu 0.63, ltss 0.76, lttu 0.02, ltts 0.42, lttuda 0.20. Validation loss is : 0.73. Validation acc. is : 77.63.\n",
      "Training loss at epoch 87 is : ltsu 0.60, ltss 0.75, lttu 0.02, ltts 0.38, lttuda 0.20. Validation loss is : 0.91. Validation acc. is : 73.74.\n",
      "Training loss at epoch 88 is : ltsu 0.64, ltss 0.77, lttu 0.03, ltts 0.41, lttuda 0.20. Validation loss is : 0.74. Validation acc. is : 77.80.\n",
      "Training loss at epoch 89 is : ltsu 0.62, ltss 0.76, lttu 0.03, ltts 0.41, lttuda 0.20. Validation loss is : 0.75. Validation acc. is : 77.29.\n",
      "Training loss at epoch 90 is : ltsu 0.62, ltss 0.76, lttu 0.02, ltts 0.40, lttuda 0.20. Validation loss is : 0.78. Validation acc. is : 77.19.\n",
      "Training loss at epoch 91 is : ltsu 0.61, ltss 0.76, lttu 0.02, ltts 0.40, lttuda 0.20. Validation loss is : 0.73. Validation acc. is : 77.36.\n",
      "Training loss at epoch 92 is : ltsu 0.61, ltss 0.75, lttu 0.02, ltts 0.39, lttuda 0.20. Validation loss is : 0.69. Validation acc. is : 77.68.\n",
      "Training loss at epoch 93 is : ltsu 0.60, ltss 0.76, lttu 0.01, ltts 0.40, lttuda 0.20. Validation loss is : 0.84. Validation acc. is : 75.45.\n",
      "Training loss at epoch 94 is : ltsu 0.60, ltss 0.75, lttu 0.02, ltts 0.38, lttuda 0.20. Validation loss is : 0.70. Validation acc. is : 78.63.\n",
      "Training loss at epoch 95 is : ltsu 0.60, ltss 0.76, lttu 0.02, ltts 0.40, lttuda 0.20. Validation loss is : 0.74. Validation acc. is : 78.30.\n",
      "Training loss at epoch 96 is : ltsu 0.59, ltss 0.74, lttu 0.02, ltts 0.38, lttuda 0.20. Validation loss is : 0.78. Validation acc. is : 76.18.\n",
      "Training loss at epoch 97 is : ltsu 0.60, ltss 0.73, lttu 0.02, ltts 0.37, lttuda 0.20. Validation loss is : 0.78. Validation acc. is : 77.30.\n",
      "Training loss at epoch 98 is : ltsu 0.59, ltss 0.75, lttu 0.01, ltts 0.39, lttuda 0.20. Validation loss is : 0.70. Validation acc. is : 78.56.\n",
      "Training loss at epoch 99 is : ltsu 0.59, ltss 0.74, lttu 0.02, ltts 0.37, lttuda 0.20. Validation loss is : 0.72. Validation acc. is : 78.65.\n",
      "Training loss at epoch 100 is : ltsu 0.58, ltss 0.73, lttu 0.02, ltts 0.36, lttuda 0.20. Validation loss is : 0.70. Validation acc. is : 78.42.\n",
      "Training loss at epoch 101 is : ltsu 0.59, ltss 0.76, lttu 0.02, ltts 0.38, lttuda 0.20. Validation loss is : 0.72. Validation acc. is : 78.56.\n",
      "Training loss at epoch 102 is : ltsu 0.59, ltss 0.73, lttu 0.01, ltts 0.37, lttuda 0.20. Validation loss is : 0.71. Validation acc. is : 78.96.\n",
      "Training loss at epoch 103 is : ltsu 0.57, ltss 0.73, lttu 0.02, ltts 0.36, lttuda 0.20. Validation loss is : 0.75. Validation acc. is : 77.42.\n",
      "Training loss at epoch 104 is : ltsu 0.58, ltss 0.73, lttu 0.02, ltts 0.37, lttuda 0.20. Validation loss is : 0.71. Validation acc. is : 77.77.\n",
      "Training loss at epoch 105 is : ltsu 0.58, ltss 0.73, lttu 0.02, ltts 0.38, lttuda 0.20. Validation loss is : 0.70. Validation acc. is : 79.52.\n",
      "Training loss at epoch 106 is : ltsu 0.56, ltss 0.74, lttu 0.02, ltts 0.36, lttuda 0.20. Validation loss is : 0.71. Validation acc. is : 78.49.\n",
      "Training loss at epoch 107 is : ltsu 0.58, ltss 0.72, lttu 0.02, ltts 0.35, lttuda 0.20. Validation loss is : 0.74. Validation acc. is : 78.52.\n",
      "Training loss at epoch 108 is : ltsu 0.57, ltss 0.72, lttu 0.02, ltts 0.34, lttuda 0.20. Validation loss is : 0.71. Validation acc. is : 78.77.\n",
      "Training loss at epoch 109 is : ltsu 0.57, ltss 0.73, lttu 0.02, ltts 0.36, lttuda 0.20. Validation loss is : 0.79. Validation acc. is : 77.65.\n",
      "Training loss at epoch 110 is : ltsu 0.57, ltss 0.71, lttu 0.03, ltts 0.34, lttuda 0.20. Validation loss is : 0.74. Validation acc. is : 78.19.\n",
      "Training loss at epoch 111 is : ltsu 0.57, ltss 0.71, lttu 0.01, ltts 0.35, lttuda 0.20. Validation loss is : 0.80. Validation acc. is : 77.53.\n",
      "Training loss at epoch 112 is : ltsu 0.56, ltss 0.71, lttu 0.02, ltts 0.35, lttuda 0.20. Validation loss is : 0.96. Validation acc. is : 74.87.\n",
      "Training loss at epoch 113 is : ltsu 0.55, ltss 0.72, lttu 0.02, ltts 0.36, lttuda 0.20. Validation loss is : 0.84. Validation acc. is : 77.24.\n",
      "Training loss at epoch 114 is : ltsu 0.56, ltss 0.73, lttu 0.02, ltts 0.34, lttuda 0.20. Validation loss is : 0.66. Validation acc. is : 80.17.\n",
      "Training loss at epoch 115 is : ltsu 0.55, ltss 0.72, lttu 0.01, ltts 0.33, lttuda 0.20. Validation loss is : 0.73. Validation acc. is : 78.95.\n",
      "Training loss at epoch 116 is : ltsu 0.55, ltss 0.72, lttu 0.02, ltts 0.34, lttuda 0.19. Validation loss is : 0.75. Validation acc. is : 77.92.\n",
      "Training loss at epoch 117 is : ltsu 0.55, ltss 0.70, lttu 0.01, ltts 0.33, lttuda 0.19. Validation loss is : 0.66. Validation acc. is : 80.36.\n",
      "Training loss at epoch 118 is : ltsu 0.55, ltss 0.71, lttu 0.02, ltts 0.34, lttuda 0.20. Validation loss is : 0.75. Validation acc. is : 78.14.\n",
      "Training loss at epoch 119 is : ltsu 0.56, ltss 0.72, lttu 0.02, ltts 0.34, lttuda 0.19. Validation loss is : 0.82. Validation acc. is : 76.79.\n",
      "Training loss at epoch 120 is : ltsu 0.54, ltss 0.69, lttu 0.02, ltts 0.33, lttuda 0.19. Validation loss is : 0.67. Validation acc. is : 80.08.\n",
      "Training loss at epoch 121 is : ltsu 0.54, ltss 0.69, lttu 0.01, ltts 0.32, lttuda 0.19. Validation loss is : 0.70. Validation acc. is : 79.51.\n",
      "Training loss at epoch 122 is : ltsu 0.54, ltss 0.72, lttu 0.01, ltts 0.32, lttuda 0.19. Validation loss is : 0.73. Validation acc. is : 78.64.\n",
      "Training loss at epoch 123 is : ltsu 0.55, ltss 0.70, lttu 0.01, ltts 0.32, lttuda 0.19. Validation loss is : 0.68. Validation acc. is : 79.52.\n",
      "Training loss at epoch 124 is : ltsu 0.55, ltss 0.70, lttu 0.02, ltts 0.33, lttuda 0.20. Validation loss is : 0.76. Validation acc. is : 78.13.\n",
      "Training loss at epoch 125 is : ltsu 0.53, ltss 0.70, lttu 0.02, ltts 0.33, lttuda 0.19. Validation loss is : 0.71. Validation acc. is : 79.29.\n",
      "Training loss at epoch 126 is : ltsu 0.54, ltss 0.69, lttu 0.01, ltts 0.33, lttuda 0.19. Validation loss is : 0.66. Validation acc. is : 79.94.\n",
      "Training loss at epoch 127 is : ltsu 0.53, ltss 0.70, lttu 0.01, ltts 0.33, lttuda 0.19. Validation loss is : 0.74. Validation acc. is : 78.31.\n",
      "Training loss at epoch 128 is : ltsu 0.52, ltss 0.71, lttu 0.02, ltts 0.32, lttuda 0.19. Validation loss is : 0.72. Validation acc. is : 79.22.\n",
      "Training loss at epoch 129 is : ltsu 0.54, ltss 0.71, lttu 0.02, ltts 0.34, lttuda 0.19. Validation loss is : 0.66. Validation acc. is : 79.67.\n",
      "Training loss at epoch 130 is : ltsu 0.52, ltss 0.68, lttu 0.01, ltts 0.30, lttuda 0.19. Validation loss is : 0.69. Validation acc. is : 79.28.\n",
      "Training loss at epoch 131 is : ltsu 0.52, ltss 0.68, lttu 0.02, ltts 0.31, lttuda 0.19. Validation loss is : 0.70. Validation acc. is : 80.12.\n",
      "Training loss at epoch 132 is : ltsu 0.51, ltss 0.70, lttu 0.01, ltts 0.31, lttuda 0.19. Validation loss is : 0.66. Validation acc. is : 80.06.\n",
      "Training loss at epoch 133 is : ltsu 0.51, ltss 0.69, lttu 0.01, ltts 0.31, lttuda 0.19. Validation loss is : 0.66. Validation acc. is : 80.15.\n",
      "Training loss at epoch 134 is : ltsu 0.52, ltss 0.68, lttu 0.01, ltts 0.30, lttuda 0.19. Validation loss is : 0.85. Validation acc. is : 77.14.\n",
      "Training loss at epoch 135 is : ltsu 0.51, ltss 0.69, lttu 0.02, ltts 0.30, lttuda 0.19. Validation loss is : 0.71. Validation acc. is : 80.35.\n",
      "Training loss at epoch 136 is : ltsu 0.52, ltss 0.69, lttu 0.01, ltts 0.32, lttuda 0.19. Validation loss is : 0.71. Validation acc. is : 79.21.\n",
      "Training loss at epoch 137 is : ltsu 0.50, ltss 0.69, lttu 0.01, ltts 0.31, lttuda 0.19. Validation loss is : 0.78. Validation acc. is : 78.39.\n",
      "Training loss at epoch 138 is : ltsu 0.51, ltss 0.70, lttu 0.02, ltts 0.30, lttuda 0.19. Validation loss is : 0.78. Validation acc. is : 78.46.\n",
      "Training loss at epoch 139 is : ltsu 0.50, ltss 0.69, lttu 0.02, ltts 0.30, lttuda 0.19. Validation loss is : 0.75. Validation acc. is : 78.35.\n",
      "Training loss at epoch 140 is : ltsu 0.52, ltss 0.69, lttu 0.01, ltts 0.30, lttuda 0.19. Validation loss is : 0.68. Validation acc. is : 79.37.\n",
      "Training loss at epoch 141 is : ltsu 0.51, ltss 0.68, lttu 0.01, ltts 0.30, lttuda 0.19. Validation loss is : 0.64. Validation acc. is : 80.38.\n",
      "Training loss at epoch 142 is : ltsu 0.50, ltss 0.68, lttu 0.01, ltts 0.29, lttuda 0.19. Validation loss is : 0.74. Validation acc. is : 79.40.\n",
      "Training loss at epoch 143 is : ltsu 0.49, ltss 0.68, lttu 0.00, ltts 0.29, lttuda 0.19. Validation loss is : 0.67. Validation acc. is : 80.19.\n",
      "Training loss at epoch 144 is : ltsu 0.50, ltss 0.69, lttu 0.01, ltts 0.30, lttuda 0.19. Validation loss is : 0.67. Validation acc. is : 80.60.\n",
      "Training loss at epoch 145 is : ltsu 0.50, ltss 0.66, lttu 0.02, ltts 0.29, lttuda 0.19. Validation loss is : 0.67. Validation acc. is : 80.07.\n",
      "Training loss at epoch 146 is : ltsu 0.51, ltss 0.68, lttu 0.02, ltts 0.29, lttuda 0.19. Validation loss is : 0.74. Validation acc. is : 78.68.\n",
      "Training loss at epoch 147 is : ltsu 0.49, ltss 0.68, lttu 0.01, ltts 0.30, lttuda 0.19. Validation loss is : 0.71. Validation acc. is : 80.02.\n",
      "Training loss at epoch 148 is : ltsu 0.49, ltss 0.68, lttu 0.01, ltts 0.29, lttuda 0.19. Validation loss is : 0.75. Validation acc. is : 79.74.\n",
      "Training loss at epoch 149 is : ltsu 0.49, ltss 0.67, lttu 0.01, ltts 0.28, lttuda 0.19. Validation loss is : 0.74. Validation acc. is : 79.03.\n",
      "Training loss at epoch 150 is : ltsu 0.50, ltss 0.69, lttu 0.01, ltts 0.30, lttuda 0.18. Validation loss is : 0.66. Validation acc. is : 80.80.\n",
      "Training loss at epoch 151 is : ltsu 0.49, ltss 0.66, lttu 0.01, ltts 0.28, lttuda 0.19. Validation loss is : 0.64. Validation acc. is : 80.18.\n",
      "Training loss at epoch 152 is : ltsu 0.48, ltss 0.66, lttu 0.01, ltts 0.28, lttuda 0.19. Validation loss is : 0.71. Validation acc. is : 79.58.\n",
      "Training loss at epoch 153 is : ltsu 0.50, ltss 0.67, lttu 0.01, ltts 0.29, lttuda 0.19. Validation loss is : 0.65. Validation acc. is : 80.91.\n",
      "Training loss at epoch 154 is : ltsu 0.49, ltss 0.68, lttu 0.01, ltts 0.28, lttuda 0.19. Validation loss is : 0.70. Validation acc. is : 80.50.\n",
      "Training loss at epoch 155 is : ltsu 0.47, ltss 0.67, lttu 0.01, ltts 0.29, lttuda 0.18. Validation loss is : 0.70. Validation acc. is : 80.42.\n",
      "Training loss at epoch 156 is : ltsu 0.48, ltss 0.67, lttu 0.00, ltts 0.28, lttuda 0.18. Validation loss is : 0.81. Validation acc. is : 78.83.\n",
      "Training loss at epoch 157 is : ltsu 0.49, ltss 0.67, lttu 0.01, ltts 0.29, lttuda 0.19. Validation loss is : 0.67. Validation acc. is : 79.77.\n",
      "Training loss at epoch 158 is : ltsu 0.47, ltss 0.67, lttu 0.01, ltts 0.27, lttuda 0.18. Validation loss is : 0.71. Validation acc. is : 80.30.\n",
      "Training loss at epoch 159 is : ltsu 0.48, ltss 0.67, lttu 0.01, ltts 0.28, lttuda 0.19. Validation loss is : 0.68. Validation acc. is : 80.35.\n",
      "Training loss at epoch 160 is : ltsu 0.48, ltss 0.66, lttu 0.01, ltts 0.26, lttuda 0.19. Validation loss is : 0.65. Validation acc. is : 80.46.\n",
      "Training loss at epoch 161 is : ltsu 0.47, ltss 0.66, lttu 0.01, ltts 0.28, lttuda 0.18. Validation loss is : 0.67. Validation acc. is : 80.68.\n",
      "Training loss at epoch 162 is : ltsu 0.47, ltss 0.68, lttu 0.01, ltts 0.27, lttuda 0.18. Validation loss is : 0.69. Validation acc. is : 80.69.\n",
      "Training loss at epoch 163 is : ltsu 0.47, ltss 0.67, lttu 0.01, ltts 0.27, lttuda 0.18. Validation loss is : 0.69. Validation acc. is : 80.38.\n",
      "Training loss at epoch 164 is : ltsu 0.47, ltss 0.66, lttu 0.01, ltts 0.28, lttuda 0.19. Validation loss is : 0.71. Validation acc. is : 79.98.\n",
      "Training loss at epoch 165 is : ltsu 0.46, ltss 0.66, lttu 0.01, ltts 0.27, lttuda 0.19. Validation loss is : 0.71. Validation acc. is : 80.18.\n",
      "Training loss at epoch 166 is : ltsu 0.47, ltss 0.65, lttu 0.01, ltts 0.27, lttuda 0.18. Validation loss is : 0.70. Validation acc. is : 80.32.\n",
      "Training loss at epoch 167 is : ltsu 0.46, ltss 0.67, lttu 0.01, ltts 0.27, lttuda 0.19. Validation loss is : 0.69. Validation acc. is : 80.31.\n",
      "Training loss at epoch 168 is : ltsu 0.46, ltss 0.66, lttu 0.01, ltts 0.26, lttuda 0.18. Validation loss is : 0.69. Validation acc. is : 80.43.\n",
      "Training loss at epoch 169 is : ltsu 0.46, ltss 0.67, lttu 0.01, ltts 0.27, lttuda 0.18. Validation loss is : 0.66. Validation acc. is : 80.94.\n",
      "Training loss at epoch 170 is : ltsu 0.45, ltss 0.66, lttu 0.01, ltts 0.27, lttuda 0.18. Validation loss is : 0.69. Validation acc. is : 81.27.\n",
      "Training loss at epoch 171 is : ltsu 0.47, ltss 0.65, lttu 0.01, ltts 0.26, lttuda 0.18. Validation loss is : 0.72. Validation acc. is : 79.27.\n",
      "Training loss at epoch 172 is : ltsu 0.45, ltss 0.67, lttu 0.00, ltts 0.28, lttuda 0.18. Validation loss is : 0.73. Validation acc. is : 79.65.\n",
      "Training loss at epoch 173 is : ltsu 0.46, ltss 0.63, lttu 0.01, ltts 0.25, lttuda 0.18. Validation loss is : 0.71. Validation acc. is : 80.69.\n",
      "Training loss at epoch 174 is : ltsu 0.44, ltss 0.66, lttu 0.01, ltts 0.26, lttuda 0.18. Validation loss is : 0.74. Validation acc. is : 80.19.\n",
      "**** SSL training done. Beginning finetuning of the student model. ****\n",
      "Training loss at epoch 0 is : 0.59. Validation loss is : 0.54. Validation acc. is : 82.64.\n",
      "Training loss at epoch 1 is : 0.54. Validation loss is : 0.54. Validation acc. is : 82.95.\n",
      "Training loss at epoch 2 is : 0.51. Validation loss is : 0.54. Validation acc. is : 82.93.\n",
      "Training loss at epoch 3 is : 0.47. Validation loss is : 0.57. Validation acc. is : 82.74.\n",
      "Training loss at epoch 4 is : 0.45. Validation loss is : 0.58. Validation acc. is : 83.16.\n",
      "Training loss at epoch 5 is : 0.43. Validation loss is : 0.59. Validation acc. is : 82.85.\n",
      "Training loss at epoch 6 is : 0.42. Validation loss is : 0.60. Validation acc. is : 82.59.\n",
      "Training loss at epoch 7 is : 0.39. Validation loss is : 0.62. Validation acc. is : 83.00.\n",
      "Training loss at epoch 8 is : 0.39. Validation loss is : 0.62. Validation acc. is : 82.82.\n",
      "Training loss at epoch 9 is : 0.36. Validation loss is : 0.62. Validation acc. is : 82.92.\n",
      "Training loss at epoch 10 is : 0.36. Validation loss is : 0.65. Validation acc. is : 82.80.\n",
      "Training loss at epoch 11 is : 0.36. Validation loss is : 0.66. Validation acc. is : 83.03.\n",
      "Training loss at epoch 12 is : 0.34. Validation loss is : 0.67. Validation acc. is : 83.06.\n",
      "Training loss at epoch 13 is : 0.33. Validation loss is : 0.71. Validation acc. is : 82.70.\n",
      "Training loss at epoch 14 is : 0.33. Validation loss is : 0.71. Validation acc. is : 82.69.\n",
      "Training loss at epoch 15 is : 0.32. Validation loss is : 0.74. Validation acc. is : 82.75.\n",
      "Training loss at epoch 16 is : 0.33. Validation loss is : 0.74. Validation acc. is : 82.86.\n",
      "Training loss at epoch 17 is : 0.31. Validation loss is : 0.77. Validation acc. is : 82.61.\n",
      "Training loss at epoch 18 is : 0.31. Validation loss is : 0.73. Validation acc. is : 82.79.\n",
      "Training loss at epoch 19 is : 0.31. Validation loss is : 0.74. Validation acc. is : 82.99.\n",
      "Training loss at epoch 20 is : 0.30. Validation loss is : 0.72. Validation acc. is : 82.83.\n",
      "Training loss at epoch 21 is : 0.31. Validation loss is : 0.78. Validation acc. is : 82.83.\n",
      "Training loss at epoch 22 is : 0.29. Validation loss is : 0.77. Validation acc. is : 83.13.\n",
      "Training loss at epoch 23 is : 0.29. Validation loss is : 0.77. Validation acc. is : 82.80.\n",
      "Training loss at epoch 24 is : 0.30. Validation loss is : 0.72. Validation acc. is : 83.24.\n"
     ]
    }
   ],
   "source": [
    "trainer.train()"
   ]
  },
  {
   "cell_type": "code",
   "execution_count": null,
   "metadata": {},
   "outputs": [],
   "source": []
  }
 ],
 "metadata": {
  "interpreter": {
   "hash": "0dadcd243d7a81fb679ed94fa0b3507371cb4f0217aac2cbcd3d9c4ad08fe2a2"
  },
  "kernelspec": {
   "display_name": "Python 3 (ipykernel)",
   "language": "python",
   "name": "python3"
  },
  "language_info": {
   "codemirror_mode": {
    "name": "ipython",
    "version": 3
   },
   "file_extension": ".py",
   "mimetype": "text/x-python",
   "name": "python",
   "nbconvert_exporter": "python",
   "pygments_lexer": "ipython3",
   "version": "3.9.13"
  }
 },
 "nbformat": 4,
 "nbformat_minor": 4
}
