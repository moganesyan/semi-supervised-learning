{
 "cells": [
  {
   "cell_type": "code",
   "execution_count": 1,
   "metadata": {},
   "outputs": [],
   "source": [
    "import sys\n",
    "from pathlib import Path"
   ]
  },
  {
   "cell_type": "code",
   "execution_count": 2,
   "metadata": {},
   "outputs": [
    {
     "name": "stderr",
     "output_type": "stream",
     "text": [
      "2022-11-30 22:56:49.894833: I tensorflow/core/platform/cpu_feature_guard.cc:193] This TensorFlow binary is optimized with oneAPI Deep Neural Network Library (oneDNN) to use the following CPU instructions in performance-critical operations:  AVX2 FMA\n",
      "To enable them in other operations, rebuild TensorFlow with the appropriate compiler flags.\n",
      "2022-11-30 22:56:50.064548: E tensorflow/stream_executor/cuda/cuda_blas.cc:2981] Unable to register cuBLAS factory: Attempting to register factory for plugin cuBLAS when one has already been registered\n",
      "2022-11-30 22:56:50.690014: W tensorflow/stream_executor/platform/default/dso_loader.cc:64] Could not load dynamic library 'libnvinfer.so.7'; dlerror: libnvinfer.so.7: cannot open shared object file: No such file or directory; LD_LIBRARY_PATH: /usr/local/cuda-11.4/lib64\n",
      "2022-11-30 22:56:50.690086: W tensorflow/stream_executor/platform/default/dso_loader.cc:64] Could not load dynamic library 'libnvinfer_plugin.so.7'; dlerror: libnvinfer_plugin.so.7: cannot open shared object file: No such file or directory; LD_LIBRARY_PATH: /usr/local/cuda-11.4/lib64\n",
      "2022-11-30 22:56:50.690094: W tensorflow/compiler/tf2tensorrt/utils/py_utils.cc:38] TF-TRT Warning: Cannot dlopen some TensorRT libraries. If you would like to use Nvidia GPU with TensorRT, please make sure the missing libraries mentioned above are installed properly.\n"
     ]
    }
   ],
   "source": [
    "import numpy as np\n",
    "import tensorflow as tf\n",
    "\n",
    "from sklearn.model_selection import train_test_split\n",
    "from sklearn.utils import shuffle"
   ]
  },
  {
   "cell_type": "code",
   "execution_count": 3,
   "metadata": {},
   "outputs": [
    {
     "name": "stderr",
     "output_type": "stream",
     "text": [
      "/home/mikheil/.conda/envs/ssl-repo/lib/python3.9/site-packages/tqdm/auto.py:22: TqdmWarning: IProgress not found. Please update jupyter and ipywidgets. See https://ipywidgets.readthedocs.io/en/stable/user_install.html\n",
      "  from .autonotebook import tqdm as notebook_tqdm\n"
     ]
    }
   ],
   "source": [
    "import tensorflow_datasets as tfds"
   ]
  },
  {
   "cell_type": "code",
   "execution_count": 4,
   "metadata": {},
   "outputs": [],
   "source": [
    "sys.path.append(str(Path(\"../../ssl\").resolve()))"
   ]
  },
  {
   "cell_type": "code",
   "execution_count": 5,
   "metadata": {},
   "outputs": [],
   "source": [
    "from src.models.pi_model.pi_model import PiModel\n",
    "from src.models.pi_model.pi_model_config import PiModelConfig\n",
    "from src.trainers.meta_pseudo_label.meta_pseudo_label import MetaPseudoLabelTrainer\n",
    "from src.trainers.meta_pseudo_label.meta_pseudo_label_config import MetaPseudoLabelTrainerConfig\n",
    "from src.data_loaders.meta_pseudo_label.meta_pseudo_label_config import MetaPseudoLabelDataLoaderConfig\n",
    "from src.data_loaders.meta_pseudo_label.meta_pseudo_label import MetaPseudoLabelDataLoader\n",
    "from src.data_loaders.basic.categorical_ce import CategoricalCEDataLoader\n",
    "from src.data_loaders.basic.categorical_ce_config import CategoricalCEDataLoaderConfig"
   ]
  },
  {
   "cell_type": "markdown",
   "metadata": {},
   "source": [
    "# Description\n",
    "\n",
    "In this notebook, a model will be trained on the CIFAR-10 dataset using only 20% of the labelled dataset. Unlabelled data will be used in training."
   ]
  },
  {
   "cell_type": "markdown",
   "metadata": {},
   "source": [
    "## Set up Experiment"
   ]
  },
  {
   "cell_type": "code",
   "execution_count": 6,
   "metadata": {},
   "outputs": [],
   "source": [
    "class TrainerConfig(MetaPseudoLabelTrainerConfig):\n",
    "    num_epochs = 175\n",
    "    num_epochs_finetune = 25\n",
    "\n",
    "    uda_loss_weight = 1.0\n",
    "    uda_conf_thresh = 0.80\n",
    "    uda_softmax_temp = 0.40\n",
    "\n",
    "train_config = TrainerConfig()"
   ]
  },
  {
   "cell_type": "code",
   "execution_count": 7,
   "metadata": {},
   "outputs": [],
   "source": [
    "class ModelConfig(PiModelConfig):\n",
    "    input_shape = (32, 32, 3)\n",
    "    output_shape = 10\n",
    "    output_activation = None\n",
    "\n",
    "model_config = ModelConfig()"
   ]
  },
  {
   "cell_type": "code",
   "execution_count": 8,
   "metadata": {},
   "outputs": [],
   "source": [
    "class DataLoaderConfigSSL(MetaPseudoLabelDataLoaderConfig):\n",
    "    batch_size = 64\n",
    "    num_classes = 10\n",
    "    shuffle_buffer_size = 50000 # dataset size    \n",
    "\n",
    "    # apply augmentations\n",
    "    blur_params = {\n",
    "        'chance': 0.10,\n",
    "        'kernel_ratio': 0.10,\n",
    "        'blur_strength': (0.1, 2.0)\n",
    "    }\n",
    "\n",
    "    crop_params = {\n",
    "        'chance': 0.50,\n",
    "        'crop_size': (0.08, 1.0),\n",
    "        'aspect_range': (0.75, 1.33),\n",
    "        'num_tries': 100\n",
    "    }\n",
    "\n",
    "    jitter_params = {\n",
    "        'chance': 0.50,\n",
    "        'distort_strength': 0.20,\n",
    "        'drop_chance': 0.05\n",
    "    }\n",
    "\n",
    "data_loader_config_ssl = DataLoaderConfigSSL()"
   ]
  },
  {
   "cell_type": "code",
   "execution_count": 9,
   "metadata": {},
   "outputs": [],
   "source": [
    "class DataLoaderConfigCE(CategoricalCEDataLoaderConfig):\n",
    "    batch_size = 64\n",
    "    num_classes = 10\n",
    "    shuffle_buffer_size = 5000 # dataset size    \n",
    "\n",
    "    # apply augmentations\n",
    "    blur_params = {\n",
    "        'chance': 0.10,\n",
    "        'kernel_ratio': 0.10,\n",
    "        'blur_strength': (0.1, 2.0)\n",
    "    }\n",
    "\n",
    "    crop_params = {\n",
    "        'chance': 0.50,\n",
    "        'crop_size': (0.08, 1.0),\n",
    "        'aspect_range': (0.75, 1.33),\n",
    "        'num_tries': 100\n",
    "    }\n",
    "\n",
    "    jitter_params = {\n",
    "        'chance': 0.50,\n",
    "        'distort_strength': 0.20,\n",
    "        'drop_chance': 0.05\n",
    "    }\n",
    "\n",
    "data_loader_config_ce = DataLoaderConfigCE()"
   ]
  },
  {
   "cell_type": "markdown",
   "metadata": {},
   "source": [
    "## Get Datasets"
   ]
  },
  {
   "cell_type": "code",
   "execution_count": 10,
   "metadata": {},
   "outputs": [],
   "source": [
    "(x_train_full, y_train_full), (x_test_full, y_test_full) = tf.keras.datasets.cifar10.load_data()"
   ]
  },
  {
   "cell_type": "code",
   "execution_count": 11,
   "metadata": {},
   "outputs": [],
   "source": [
    "# get train dataset by subsampling 20% of the full training dataset (stratified by labels)\n",
    "# add the rest as unlabelled samples\n",
    "x_train_unlabelled, x_train_labelled, y_train_unlabelled_, y_train_labelled = train_test_split(\n",
    "    x_train_full, y_train_full,\n",
    "    stratify = y_train_full,\n",
    "    test_size = 0.20, random_state = 42\n",
    ")\n",
    "\n",
    "# cast types\n",
    "y_train_unlabelled = (-1 * np.ones_like(y_train_unlabelled_)).astype(np.int64)\n",
    "y_train_labelled = y_train_labelled.astype(np.int64)\n",
    "y_test_full = y_test_full.astype(np.int64)"
   ]
  },
  {
   "cell_type": "code",
   "execution_count": 12,
   "metadata": {},
   "outputs": [],
   "source": [
    "x_train = np.concatenate((x_train_unlabelled, x_train_labelled), axis = 0)\n",
    "y_train = np.concatenate((y_train_unlabelled, y_train_labelled), axis = 0)"
   ]
  },
  {
   "cell_type": "code",
   "execution_count": 13,
   "metadata": {},
   "outputs": [
    {
     "name": "stderr",
     "output_type": "stream",
     "text": [
      "2022-11-30 22:56:53.266405: I tensorflow/stream_executor/cuda/cuda_gpu_executor.cc:980] successful NUMA node read from SysFS had negative value (-1), but there must be at least one NUMA node, so returning NUMA node zero\n",
      "2022-11-30 22:56:53.274064: I tensorflow/stream_executor/cuda/cuda_gpu_executor.cc:980] successful NUMA node read from SysFS had negative value (-1), but there must be at least one NUMA node, so returning NUMA node zero\n",
      "2022-11-30 22:56:53.274645: I tensorflow/stream_executor/cuda/cuda_gpu_executor.cc:980] successful NUMA node read from SysFS had negative value (-1), but there must be at least one NUMA node, so returning NUMA node zero\n",
      "2022-11-30 22:56:53.275725: I tensorflow/core/platform/cpu_feature_guard.cc:193] This TensorFlow binary is optimized with oneAPI Deep Neural Network Library (oneDNN) to use the following CPU instructions in performance-critical operations:  AVX2 FMA\n",
      "To enable them in other operations, rebuild TensorFlow with the appropriate compiler flags.\n",
      "2022-11-30 22:56:53.276264: I tensorflow/stream_executor/cuda/cuda_gpu_executor.cc:980] successful NUMA node read from SysFS had negative value (-1), but there must be at least one NUMA node, so returning NUMA node zero\n",
      "2022-11-30 22:56:53.276800: I tensorflow/stream_executor/cuda/cuda_gpu_executor.cc:980] successful NUMA node read from SysFS had negative value (-1), but there must be at least one NUMA node, so returning NUMA node zero\n",
      "2022-11-30 22:56:53.277298: I tensorflow/stream_executor/cuda/cuda_gpu_executor.cc:980] successful NUMA node read from SysFS had negative value (-1), but there must be at least one NUMA node, so returning NUMA node zero\n",
      "2022-11-30 22:56:53.744830: I tensorflow/stream_executor/cuda/cuda_gpu_executor.cc:980] successful NUMA node read from SysFS had negative value (-1), but there must be at least one NUMA node, so returning NUMA node zero\n",
      "2022-11-30 22:56:53.745340: I tensorflow/stream_executor/cuda/cuda_gpu_executor.cc:980] successful NUMA node read from SysFS had negative value (-1), but there must be at least one NUMA node, so returning NUMA node zero\n",
      "2022-11-30 22:56:53.745792: I tensorflow/stream_executor/cuda/cuda_gpu_executor.cc:980] successful NUMA node read from SysFS had negative value (-1), but there must be at least one NUMA node, so returning NUMA node zero\n",
      "2022-11-30 22:56:53.746221: I tensorflow/core/common_runtime/gpu/gpu_device.cc:1616] Created device /job:localhost/replica:0/task:0/device:GPU:0 with 6972 MB memory:  -> device: 0, name: NVIDIA GeForce GTX 1070 with Max-Q Design, pci bus id: 0000:01:00.0, compute capability: 6.1\n"
     ]
    }
   ],
   "source": [
    "train_data = tf.data.Dataset.from_tensor_slices((x_train, y_train))\n",
    "val_data = tf.data.Dataset.from_tensor_slices((x_test_full, y_test_full))"
   ]
  },
  {
   "cell_type": "code",
   "execution_count": 14,
   "metadata": {},
   "outputs": [],
   "source": [
    "train_data_finetune = tf.data.Dataset.from_tensor_slices((x_train_labelled, y_train_labelled))"
   ]
  },
  {
   "cell_type": "code",
   "execution_count": 15,
   "metadata": {},
   "outputs": [],
   "source": [
    "# create train dataset\n",
    "train_data = MetaPseudoLabelDataLoader(train_data, data_loader_config_ssl)(training = True)"
   ]
  },
  {
   "cell_type": "code",
   "execution_count": 16,
   "metadata": {},
   "outputs": [],
   "source": [
    "# create test dataset\n",
    "val_data = MetaPseudoLabelDataLoader(val_data, data_loader_config_ssl)(training = False)"
   ]
  },
  {
   "cell_type": "code",
   "execution_count": 17,
   "metadata": {},
   "outputs": [],
   "source": [
    "# create finetune dataset\n",
    "train_data_finetune = CategoricalCEDataLoader(train_data_finetune, data_loader_config_ce)(training = True)"
   ]
  },
  {
   "cell_type": "code",
   "execution_count": 18,
   "metadata": {},
   "outputs": [
    {
     "name": "stdout",
     "output_type": "stream",
     "text": [
      "Train dataset size: 782\n",
      "Validation dataset size: 157\n",
      "Train (finetune) dataset size: 157\n"
     ]
    }
   ],
   "source": [
    "print(f\"Train dataset size: {train_data.cardinality()}\")\n",
    "print(f\"Validation dataset size: {val_data.cardinality()}\")\n",
    "print(f\"Train (finetune) dataset size: {train_data_finetune.cardinality()}\")"
   ]
  },
  {
   "cell_type": "markdown",
   "metadata": {},
   "source": [
    "# Train Model"
   ]
  },
  {
   "cell_type": "code",
   "execution_count": 19,
   "metadata": {},
   "outputs": [],
   "source": [
    "model_student = PiModel(model_config)()\n",
    "model_teacher = PiModel(model_config)()"
   ]
  },
  {
   "cell_type": "code",
   "execution_count": 20,
   "metadata": {},
   "outputs": [],
   "source": [
    "trainer = MetaPseudoLabelTrainer(\n",
    "    model_student,\n",
    "    model_teacher,\n",
    "    train_data,\n",
    "    train_config,\n",
    "    train_data_finetune,\n",
    "    val_dataset = val_data)"
   ]
  },
  {
   "cell_type": "code",
   "execution_count": 21,
   "metadata": {},
   "outputs": [
    {
     "name": "stderr",
     "output_type": "stream",
     "text": [
      "2022-11-30 22:56:56.895116: I tensorflow/stream_executor/cuda/cuda_dnn.cc:384] Loaded cuDNN version 8204\n"
     ]
    },
    {
     "name": "stdout",
     "output_type": "stream",
     "text": [
      "Training loss at epoch 0 is : ltsu 0.85, ltss 8.20, lttu -0.14, ltts 2.36, lttuda 0.86. Validation loss is : 13.32. Validation acc. is : 15.88.\n",
      "Training loss at epoch 1 is : ltsu 0.69, ltss 8.74, lttu 0.06, ltts 2.20, lttuda 1.04. Validation loss is : 3.38. Validation acc. is : 19.95.\n",
      "Training loss at epoch 2 is : ltsu 1.24, ltss 4.21, lttu 0.11, ltts 1.99, lttuda 1.17. Validation loss is : 4.04. Validation acc. is : 24.46.\n",
      "Training loss at epoch 3 is : ltsu 1.15, ltss 4.07, lttu 0.12, ltts 1.90, lttuda 1.12. Validation loss is : 3.89. Validation acc. is : 31.98.\n",
      "Training loss at epoch 4 is : ltsu 1.10, ltss 4.10, lttu 0.13, ltts 1.85, lttuda 1.08. Validation loss is : 3.90. Validation acc. is : 33.97.\n",
      "Training loss at epoch 5 is : ltsu 1.09, ltss 3.90, lttu 0.14, ltts 1.79, lttuda 1.05. Validation loss is : 3.50. Validation acc. is : 36.10.\n",
      "Training loss at epoch 6 is : ltsu 1.12, ltss 3.20, lttu 0.16, ltts 1.73, lttuda 1.04. Validation loss is : 2.84. Validation acc. is : 35.90.\n",
      "Training loss at epoch 7 is : ltsu 1.09, ltss 2.98, lttu 0.13, ltts 1.69, lttuda 1.02. Validation loss is : 2.67. Validation acc. is : 38.16.\n",
      "Training loss at epoch 8 is : ltsu 1.06, ltss 2.79, lttu 0.14, ltts 1.63, lttuda 0.99. Validation loss is : 2.55. Validation acc. is : 38.92.\n",
      "Training loss at epoch 9 is : ltsu 1.11, ltss 2.45, lttu 0.16, ltts 1.60, lttuda 0.99. Validation loss is : 2.27. Validation acc. is : 41.31.\n",
      "Training loss at epoch 10 is : ltsu 1.13, ltss 2.31, lttu 0.14, ltts 1.55, lttuda 0.96. Validation loss is : 2.01. Validation acc. is : 44.56.\n",
      "Training loss at epoch 11 is : ltsu 1.16, ltss 2.06, lttu 0.14, ltts 1.48, lttuda 0.94. Validation loss is : 2.18. Validation acc. is : 44.85.\n",
      "Training loss at epoch 12 is : ltsu 1.15, ltss 1.93, lttu 0.12, ltts 1.45, lttuda 0.92. Validation loss is : 1.77. Validation acc. is : 46.58.\n",
      "Training loss at epoch 13 is : ltsu 1.12, ltss 1.83, lttu 0.12, ltts 1.40, lttuda 0.89. Validation loss is : 1.61. Validation acc. is : 48.48.\n",
      "Training loss at epoch 14 is : ltsu 1.10, ltss 1.78, lttu 0.12, ltts 1.36, lttuda 0.87. Validation loss is : 1.77. Validation acc. is : 49.46.\n",
      "Training loss at epoch 15 is : ltsu 1.10, ltss 1.69, lttu 0.11, ltts 1.34, lttuda 0.86. Validation loss is : 1.70. Validation acc. is : 47.89.\n",
      "Training loss at epoch 16 is : ltsu 1.08, ltss 1.64, lttu 0.08, ltts 1.30, lttuda 0.84. Validation loss is : 1.54. Validation acc. is : 52.62.\n",
      "Training loss at epoch 17 is : ltsu 1.05, ltss 1.60, lttu 0.10, ltts 1.28, lttuda 0.83. Validation loss is : 1.62. Validation acc. is : 53.11.\n",
      "Training loss at epoch 18 is : ltsu 1.07, ltss 1.56, lttu 0.11, ltts 1.25, lttuda 0.83. Validation loss is : 1.63. Validation acc. is : 51.02.\n",
      "Training loss at epoch 19 is : ltsu 1.03, ltss 1.53, lttu 0.10, ltts 1.23, lttuda 0.80. Validation loss is : 1.48. Validation acc. is : 54.95.\n",
      "Training loss at epoch 20 is : ltsu 1.00, ltss 1.50, lttu 0.09, ltts 1.20, lttuda 0.79. Validation loss is : 1.47. Validation acc. is : 56.96.\n",
      "Training loss at epoch 21 is : ltsu 1.01, ltss 1.45, lttu 0.08, ltts 1.18, lttuda 0.78. Validation loss is : 1.45. Validation acc. is : 55.71.\n",
      "Training loss at epoch 22 is : ltsu 0.98, ltss 1.43, lttu 0.10, ltts 1.15, lttuda 0.76. Validation loss is : 1.46. Validation acc. is : 56.69.\n",
      "Training loss at epoch 23 is : ltsu 0.96, ltss 1.39, lttu 0.09, ltts 1.12, lttuda 0.76. Validation loss is : 1.32. Validation acc. is : 59.58.\n",
      "Training loss at epoch 24 is : ltsu 0.99, ltss 1.37, lttu 0.09, ltts 1.11, lttuda 0.74. Validation loss is : 1.29. Validation acc. is : 59.95.\n",
      "Training loss at epoch 25 is : ltsu 0.93, ltss 1.36, lttu 0.07, ltts 1.08, lttuda 0.73. Validation loss is : 1.33. Validation acc. is : 61.21.\n",
      "Training loss at epoch 26 is : ltsu 0.92, ltss 1.36, lttu 0.07, ltts 1.07, lttuda 0.72. Validation loss is : 1.22. Validation acc. is : 61.94.\n",
      "Training loss at epoch 27 is : ltsu 0.94, ltss 1.33, lttu 0.08, ltts 1.06, lttuda 0.72. Validation loss is : 1.33. Validation acc. is : 59.75.\n",
      "Training loss at epoch 28 is : ltsu 0.93, ltss 1.28, lttu 0.08, ltts 1.01, lttuda 0.71. Validation loss is : 1.09. Validation acc. is : 62.93.\n",
      "Training loss at epoch 29 is : ltsu 0.92, ltss 1.27, lttu 0.07, ltts 1.01, lttuda 0.70. Validation loss is : 1.14. Validation acc. is : 61.66.\n",
      "Training loss at epoch 30 is : ltsu 0.90, ltss 1.25, lttu 0.06, ltts 0.99, lttuda 0.70. Validation loss is : 1.26. Validation acc. is : 62.16.\n",
      "Training loss at epoch 31 is : ltsu 0.86, ltss 1.22, lttu 0.06, ltts 0.95, lttuda 0.68. Validation loss is : 1.17. Validation acc. is : 64.82.\n",
      "Training loss at epoch 32 is : ltsu 0.88, ltss 1.22, lttu 0.07, ltts 0.95, lttuda 0.68. Validation loss is : 1.10. Validation acc. is : 65.05.\n",
      "Training loss at epoch 33 is : ltsu 0.87, ltss 1.19, lttu 0.06, ltts 0.93, lttuda 0.67. Validation loss is : 1.04. Validation acc. is : 67.26.\n",
      "Training loss at epoch 34 is : ltsu 0.86, ltss 1.18, lttu 0.07, ltts 0.92, lttuda 0.66. Validation loss is : 1.20. Validation acc. is : 64.70.\n",
      "Training loss at epoch 35 is : ltsu 0.87, ltss 1.20, lttu 0.06, ltts 0.92, lttuda 0.66. Validation loss is : 1.06. Validation acc. is : 66.59.\n",
      "Training loss at epoch 36 is : ltsu 0.83, ltss 1.16, lttu 0.05, ltts 0.90, lttuda 0.65. Validation loss is : 1.03. Validation acc. is : 67.89.\n",
      "Training loss at epoch 37 is : ltsu 0.84, ltss 1.14, lttu 0.06, ltts 0.87, lttuda 0.65. Validation loss is : 1.11. Validation acc. is : 66.57.\n",
      "Training loss at epoch 38 is : ltsu 0.82, ltss 1.12, lttu 0.04, ltts 0.86, lttuda 0.63. Validation loss is : 1.01. Validation acc. is : 69.13.\n",
      "Training loss at epoch 39 is : ltsu 0.82, ltss 1.11, lttu 0.05, ltts 0.83, lttuda 0.63. Validation loss is : 1.00. Validation acc. is : 68.81.\n",
      "Training loss at epoch 40 is : ltsu 0.80, ltss 1.09, lttu 0.05, ltts 0.82, lttuda 0.63. Validation loss is : 1.05. Validation acc. is : 67.14.\n",
      "Training loss at epoch 41 is : ltsu 0.81, ltss 1.08, lttu 0.06, ltts 0.82, lttuda 0.62. Validation loss is : 1.02. Validation acc. is : 68.72.\n",
      "Training loss at epoch 42 is : ltsu 0.80, ltss 1.06, lttu 0.05, ltts 0.78, lttuda 0.62. Validation loss is : 0.93. Validation acc. is : 70.20.\n",
      "Training loss at epoch 43 is : ltsu 0.79, ltss 1.07, lttu 0.05, ltts 0.78, lttuda 0.61. Validation loss is : 0.96. Validation acc. is : 70.28.\n",
      "Training loss at epoch 44 is : ltsu 0.80, ltss 1.07, lttu 0.05, ltts 0.78, lttuda 0.61. Validation loss is : 0.93. Validation acc. is : 70.88.\n",
      "Training loss at epoch 45 is : ltsu 0.77, ltss 1.03, lttu 0.04, ltts 0.75, lttuda 0.61. Validation loss is : 0.99. Validation acc. is : 70.10.\n",
      "Training loss at epoch 46 is : ltsu 0.76, ltss 1.04, lttu 0.04, ltts 0.73, lttuda 0.60. Validation loss is : 0.90. Validation acc. is : 71.85.\n",
      "Training loss at epoch 47 is : ltsu 0.79, ltss 1.02, lttu 0.04, ltts 0.72, lttuda 0.60. Validation loss is : 0.89. Validation acc. is : 72.16.\n",
      "Training loss at epoch 48 is : ltsu 0.76, ltss 0.99, lttu 0.04, ltts 0.70, lttuda 0.60. Validation loss is : 0.98. Validation acc. is : 69.60.\n",
      "Training loss at epoch 49 is : ltsu 0.75, ltss 1.00, lttu 0.03, ltts 0.69, lttuda 0.58. Validation loss is : 1.01. Validation acc. is : 70.00.\n",
      "Training loss at epoch 50 is : ltsu 0.75, ltss 0.99, lttu 0.03, ltts 0.68, lttuda 0.58. Validation loss is : 0.92. Validation acc. is : 72.21.\n",
      "Training loss at epoch 51 is : ltsu 0.74, ltss 0.98, lttu 0.03, ltts 0.67, lttuda 0.58. Validation loss is : 0.94. Validation acc. is : 72.24.\n",
      "Training loss at epoch 52 is : ltsu 0.76, ltss 0.98, lttu 0.04, ltts 0.68, lttuda 0.57. Validation loss is : 0.84. Validation acc. is : 73.39.\n",
      "Training loss at epoch 53 is : ltsu 0.74, ltss 0.95, lttu 0.03, ltts 0.64, lttuda 0.57. Validation loss is : 0.98. Validation acc. is : 70.29.\n",
      "Training loss at epoch 54 is : ltsu 0.72, ltss 0.93, lttu 0.03, ltts 0.63, lttuda 0.57. Validation loss is : 0.91. Validation acc. is : 72.56.\n",
      "Training loss at epoch 55 is : ltsu 0.72, ltss 0.94, lttu 0.02, ltts 0.62, lttuda 0.57. Validation loss is : 0.86. Validation acc. is : 73.18.\n",
      "Training loss at epoch 56 is : ltsu 0.71, ltss 0.93, lttu 0.03, ltts 0.61, lttuda 0.56. Validation loss is : 0.81. Validation acc. is : 74.21.\n",
      "Training loss at epoch 57 is : ltsu 0.74, ltss 0.94, lttu 0.04, ltts 0.63, lttuda 0.56. Validation loss is : 0.83. Validation acc. is : 74.10.\n",
      "Training loss at epoch 58 is : ltsu 0.71, ltss 0.92, lttu 0.03, ltts 0.61, lttuda 0.56. Validation loss is : 0.89. Validation acc. is : 72.99.\n",
      "Training loss at epoch 59 is : ltsu 0.71, ltss 0.92, lttu 0.04, ltts 0.60, lttuda 0.55. Validation loss is : 0.82. Validation acc. is : 74.68.\n",
      "Training loss at epoch 60 is : ltsu 0.70, ltss 0.90, lttu 0.03, ltts 0.59, lttuda 0.55. Validation loss is : 0.82. Validation acc. is : 73.97.\n",
      "Training loss at epoch 61 is : ltsu 0.70, ltss 0.90, lttu 0.03, ltts 0.57, lttuda 0.55. Validation loss is : 0.89. Validation acc. is : 73.61.\n",
      "Training loss at epoch 62 is : ltsu 0.68, ltss 0.90, lttu 0.02, ltts 0.56, lttuda 0.54. Validation loss is : 0.88. Validation acc. is : 74.67.\n",
      "Training loss at epoch 63 is : ltsu 0.69, ltss 0.89, lttu 0.02, ltts 0.56, lttuda 0.54. Validation loss is : 0.76. Validation acc. is : 75.46.\n",
      "Training loss at epoch 64 is : ltsu 0.69, ltss 0.88, lttu 0.03, ltts 0.57, lttuda 0.54. Validation loss is : 0.84. Validation acc. is : 74.39.\n",
      "Training loss at epoch 65 is : ltsu 0.69, ltss 0.89, lttu 0.03, ltts 0.55, lttuda 0.54. Validation loss is : 0.84. Validation acc. is : 74.04.\n",
      "Training loss at epoch 66 is : ltsu 0.68, ltss 0.89, lttu 0.03, ltts 0.54, lttuda 0.53. Validation loss is : 0.85. Validation acc. is : 75.01.\n",
      "Training loss at epoch 67 is : ltsu 0.66, ltss 0.87, lttu 0.02, ltts 0.52, lttuda 0.53. Validation loss is : 0.87. Validation acc. is : 74.18.\n",
      "Training loss at epoch 68 is : ltsu 0.67, ltss 0.87, lttu 0.03, ltts 0.52, lttuda 0.53. Validation loss is : 0.81. Validation acc. is : 74.28.\n",
      "Training loss at epoch 69 is : ltsu 0.66, ltss 0.86, lttu 0.02, ltts 0.52, lttuda 0.52. Validation loss is : 0.76. Validation acc. is : 76.23.\n",
      "Training loss at epoch 70 is : ltsu 0.67, ltss 0.84, lttu 0.02, ltts 0.51, lttuda 0.53. Validation loss is : 0.80. Validation acc. is : 75.44.\n",
      "Training loss at epoch 71 is : ltsu 0.65, ltss 0.84, lttu 0.02, ltts 0.49, lttuda 0.52. Validation loss is : 0.83. Validation acc. is : 75.24.\n",
      "Training loss at epoch 72 is : ltsu 0.67, ltss 0.85, lttu 0.02, ltts 0.49, lttuda 0.52. Validation loss is : 0.80. Validation acc. is : 74.79.\n",
      "Training loss at epoch 73 is : ltsu 0.64, ltss 0.84, lttu 0.02, ltts 0.48, lttuda 0.52. Validation loss is : 0.78. Validation acc. is : 76.48.\n",
      "Training loss at epoch 74 is : ltsu 0.63, ltss 0.83, lttu 0.02, ltts 0.49, lttuda 0.51. Validation loss is : 0.82. Validation acc. is : 75.81.\n",
      "Training loss at epoch 75 is : ltsu 0.64, ltss 0.82, lttu 0.03, ltts 0.48, lttuda 0.51. Validation loss is : 0.79. Validation acc. is : 75.92.\n",
      "Training loss at epoch 76 is : ltsu 0.63, ltss 0.83, lttu 0.02, ltts 0.46, lttuda 0.51. Validation loss is : 0.76. Validation acc. is : 76.61.\n",
      "Training loss at epoch 77 is : ltsu 0.62, ltss 0.84, lttu 0.03, ltts 0.46, lttuda 0.51. Validation loss is : 0.78. Validation acc. is : 76.11.\n",
      "Training loss at epoch 78 is : ltsu 0.63, ltss 0.82, lttu 0.02, ltts 0.46, lttuda 0.50. Validation loss is : 0.74. Validation acc. is : 75.59.\n",
      "Training loss at epoch 79 is : ltsu 0.62, ltss 0.81, lttu 0.02, ltts 0.45, lttuda 0.50. Validation loss is : 0.75. Validation acc. is : 77.72.\n",
      "Training loss at epoch 80 is : ltsu 0.61, ltss 0.80, lttu 0.02, ltts 0.43, lttuda 0.50. Validation loss is : 0.75. Validation acc. is : 77.82.\n",
      "Training loss at epoch 81 is : ltsu 0.62, ltss 0.81, lttu 0.02, ltts 0.46, lttuda 0.50. Validation loss is : 0.92. Validation acc. is : 73.34.\n",
      "Training loss at epoch 82 is : ltsu 0.62, ltss 0.82, lttu 0.02, ltts 0.46, lttuda 0.49. Validation loss is : 0.78. Validation acc. is : 76.46.\n",
      "Training loss at epoch 83 is : ltsu 0.61, ltss 0.80, lttu 0.02, ltts 0.43, lttuda 0.50. Validation loss is : 0.74. Validation acc. is : 77.49.\n",
      "Training loss at epoch 84 is : ltsu 0.60, ltss 0.79, lttu 0.01, ltts 0.43, lttuda 0.49. Validation loss is : 0.73. Validation acc. is : 76.77.\n",
      "Training loss at epoch 85 is : ltsu 0.60, ltss 0.80, lttu 0.02, ltts 0.43, lttuda 0.49. Validation loss is : 0.74. Validation acc. is : 77.92.\n",
      "Training loss at epoch 86 is : ltsu 0.60, ltss 0.78, lttu 0.02, ltts 0.42, lttuda 0.49. Validation loss is : 0.77. Validation acc. is : 77.75.\n",
      "Training loss at epoch 87 is : ltsu 0.59, ltss 0.77, lttu 0.01, ltts 0.40, lttuda 0.49. Validation loss is : 0.76. Validation acc. is : 77.18.\n",
      "Training loss at epoch 88 is : ltsu 0.60, ltss 0.79, lttu 0.02, ltts 0.42, lttuda 0.48. Validation loss is : 0.78. Validation acc. is : 76.87.\n",
      "Training loss at epoch 89 is : ltsu 0.59, ltss 0.78, lttu 0.02, ltts 0.42, lttuda 0.48. Validation loss is : 0.74. Validation acc. is : 78.00.\n",
      "Training loss at epoch 90 is : ltsu 0.59, ltss 0.79, lttu 0.02, ltts 0.41, lttuda 0.48. Validation loss is : 0.92. Validation acc. is : 74.31.\n",
      "Training loss at epoch 91 is : ltsu 0.58, ltss 0.78, lttu 0.02, ltts 0.40, lttuda 0.48. Validation loss is : 0.74. Validation acc. is : 77.63.\n",
      "Training loss at epoch 92 is : ltsu 0.58, ltss 0.77, lttu 0.02, ltts 0.40, lttuda 0.48. Validation loss is : 0.74. Validation acc. is : 78.11.\n",
      "Training loss at epoch 93 is : ltsu 0.58, ltss 0.78, lttu 0.02, ltts 0.40, lttuda 0.48. Validation loss is : 0.70. Validation acc. is : 77.88.\n",
      "Training loss at epoch 94 is : ltsu 0.59, ltss 0.78, lttu 0.02, ltts 0.40, lttuda 0.48. Validation loss is : 0.77. Validation acc. is : 77.40.\n",
      "Training loss at epoch 95 is : ltsu 0.58, ltss 0.79, lttu 0.02, ltts 0.42, lttuda 0.48. Validation loss is : 0.74. Validation acc. is : 78.58.\n",
      "Training loss at epoch 96 is : ltsu 0.57, ltss 0.78, lttu 0.01, ltts 0.38, lttuda 0.48. Validation loss is : 0.72. Validation acc. is : 77.98.\n",
      "Training loss at epoch 97 is : ltsu 0.56, ltss 0.76, lttu 0.02, ltts 0.38, lttuda 0.47. Validation loss is : 0.80. Validation acc. is : 77.82.\n",
      "Training loss at epoch 98 is : ltsu 0.56, ltss 0.77, lttu 0.02, ltts 0.39, lttuda 0.47. Validation loss is : 0.81. Validation acc. is : 76.73.\n",
      "Training loss at epoch 99 is : ltsu 0.56, ltss 0.76, lttu 0.02, ltts 0.37, lttuda 0.47. Validation loss is : 0.77. Validation acc. is : 78.14.\n",
      "Training loss at epoch 100 is : ltsu 0.56, ltss 0.75, lttu 0.01, ltts 0.38, lttuda 0.47. Validation loss is : 0.80. Validation acc. is : 77.89.\n",
      "Training loss at epoch 101 is : ltsu 0.57, ltss 0.77, lttu 0.02, ltts 0.40, lttuda 0.47. Validation loss is : 0.83. Validation acc. is : 76.50.\n",
      "Training loss at epoch 102 is : ltsu 0.56, ltss 0.76, lttu 0.02, ltts 0.37, lttuda 0.47. Validation loss is : 0.76. Validation acc. is : 78.54.\n",
      "Training loss at epoch 103 is : ltsu 0.55, ltss 0.75, lttu 0.01, ltts 0.37, lttuda 0.46. Validation loss is : 0.85. Validation acc. is : 76.48.\n",
      "Training loss at epoch 104 is : ltsu 0.54, ltss 0.75, lttu 0.01, ltts 0.37, lttuda 0.45. Validation loss is : 0.74. Validation acc. is : 78.35.\n",
      "Training loss at epoch 105 is : ltsu 0.53, ltss 0.75, lttu 0.01, ltts 0.37, lttuda 0.45. Validation loss is : 0.82. Validation acc. is : 77.93.\n",
      "Training loss at epoch 106 is : ltsu 0.53, ltss 0.75, lttu 0.01, ltts 0.36, lttuda 0.45. Validation loss is : 0.72. Validation acc. is : 79.04.\n",
      "Training loss at epoch 107 is : ltsu 0.55, ltss 0.74, lttu 0.02, ltts 0.37, lttuda 0.46. Validation loss is : 0.73. Validation acc. is : 78.33.\n",
      "Training loss at epoch 108 is : ltsu 0.54, ltss 0.74, lttu 0.02, ltts 0.35, lttuda 0.46. Validation loss is : 0.77. Validation acc. is : 78.49.\n",
      "Training loss at epoch 109 is : ltsu 0.52, ltss 0.74, lttu 0.02, ltts 0.35, lttuda 0.45. Validation loss is : 0.79. Validation acc. is : 77.68.\n",
      "Training loss at epoch 110 is : ltsu 0.54, ltss 0.73, lttu 0.01, ltts 0.35, lttuda 0.45. Validation loss is : 0.71. Validation acc. is : 79.38.\n",
      "Training loss at epoch 111 is : ltsu 0.53, ltss 0.73, lttu 0.01, ltts 0.35, lttuda 0.46. Validation loss is : 0.76. Validation acc. is : 78.73.\n",
      "Training loss at epoch 112 is : ltsu 0.52, ltss 0.73, lttu 0.02, ltts 0.35, lttuda 0.45. Validation loss is : 0.74. Validation acc. is : 79.44.\n",
      "Training loss at epoch 113 is : ltsu 0.52, ltss 0.75, lttu 0.01, ltts 0.36, lttuda 0.45. Validation loss is : 0.77. Validation acc. is : 78.53.\n",
      "Training loss at epoch 114 is : ltsu 0.52, ltss 0.75, lttu 0.01, ltts 0.34, lttuda 0.45. Validation loss is : 0.78. Validation acc. is : 78.34.\n",
      "Training loss at epoch 115 is : ltsu 0.52, ltss 0.74, lttu 0.01, ltts 0.35, lttuda 0.45. Validation loss is : 0.78. Validation acc. is : 77.89.\n",
      "Training loss at epoch 116 is : ltsu 0.50, ltss 0.74, lttu 0.01, ltts 0.34, lttuda 0.44. Validation loss is : 0.76. Validation acc. is : 78.87.\n",
      "Training loss at epoch 117 is : ltsu 0.51, ltss 0.72, lttu 0.01, ltts 0.34, lttuda 0.44. Validation loss is : 0.77. Validation acc. is : 78.54.\n",
      "Training loss at epoch 118 is : ltsu 0.51, ltss 0.74, lttu 0.01, ltts 0.34, lttuda 0.44. Validation loss is : 0.69. Validation acc. is : 79.64.\n",
      "Training loss at epoch 119 is : ltsu 0.50, ltss 0.73, lttu 0.01, ltts 0.33, lttuda 0.44. Validation loss is : 0.78. Validation acc. is : 77.99.\n",
      "Training loss at epoch 120 is : ltsu 0.51, ltss 0.72, lttu 0.02, ltts 0.34, lttuda 0.44. Validation loss is : 0.76. Validation acc. is : 79.57.\n",
      "Training loss at epoch 121 is : ltsu 0.50, ltss 0.74, lttu 0.01, ltts 0.32, lttuda 0.44. Validation loss is : 0.78. Validation acc. is : 78.93.\n",
      "Training loss at epoch 122 is : ltsu 0.50, ltss 0.75, lttu 0.02, ltts 0.33, lttuda 0.43. Validation loss is : 0.76. Validation acc. is : 78.67.\n",
      "Training loss at epoch 123 is : ltsu 0.50, ltss 0.72, lttu 0.01, ltts 0.32, lttuda 0.44. Validation loss is : 0.72. Validation acc. is : 79.29.\n",
      "Training loss at epoch 124 is : ltsu 0.50, ltss 0.73, lttu 0.01, ltts 0.33, lttuda 0.44. Validation loss is : 0.81. Validation acc. is : 78.00.\n",
      "Training loss at epoch 125 is : ltsu 0.49, ltss 0.73, lttu 0.01, ltts 0.32, lttuda 0.43. Validation loss is : 0.71. Validation acc. is : 79.98.\n",
      "Training loss at epoch 126 is : ltsu 0.50, ltss 0.71, lttu 0.01, ltts 0.33, lttuda 0.44. Validation loss is : 0.85. Validation acc. is : 77.97.\n",
      "Training loss at epoch 127 is : ltsu 0.48, ltss 0.73, lttu 0.01, ltts 0.33, lttuda 0.43. Validation loss is : 0.80. Validation acc. is : 78.01.\n",
      "Training loss at epoch 128 is : ltsu 0.47, ltss 0.72, lttu 0.01, ltts 0.32, lttuda 0.42. Validation loss is : 0.71. Validation acc. is : 79.50.\n",
      "Training loss at epoch 129 is : ltsu 0.48, ltss 0.72, lttu 0.01, ltts 0.33, lttuda 0.43. Validation loss is : 0.75. Validation acc. is : 78.84.\n",
      "Training loss at epoch 130 is : ltsu 0.47, ltss 0.71, lttu 0.01, ltts 0.31, lttuda 0.42. Validation loss is : 0.73. Validation acc. is : 79.75.\n",
      "Training loss at epoch 131 is : ltsu 0.47, ltss 0.71, lttu 0.00, ltts 0.30, lttuda 0.43. Validation loss is : 0.83. Validation acc. is : 77.18.\n",
      "Training loss at epoch 132 is : ltsu 0.47, ltss 0.71, lttu 0.01, ltts 0.31, lttuda 0.42. Validation loss is : 0.79. Validation acc. is : 79.08.\n",
      "Training loss at epoch 133 is : ltsu 0.48, ltss 0.72, lttu 0.01, ltts 0.32, lttuda 0.43. Validation loss is : 0.72. Validation acc. is : 79.45.\n",
      "Training loss at epoch 134 is : ltsu 0.47, ltss 0.70, lttu 0.01, ltts 0.30, lttuda 0.42. Validation loss is : 0.76. Validation acc. is : 79.60.\n",
      "Training loss at epoch 135 is : ltsu 0.47, ltss 0.72, lttu 0.01, ltts 0.31, lttuda 0.41. Validation loss is : 0.74. Validation acc. is : 79.44.\n",
      "Training loss at epoch 136 is : ltsu 0.46, ltss 0.71, lttu 0.01, ltts 0.31, lttuda 0.42. Validation loss is : 0.76. Validation acc. is : 79.67.\n",
      "Training loss at epoch 137 is : ltsu 0.47, ltss 0.72, lttu 0.01, ltts 0.32, lttuda 0.42. Validation loss is : 0.75. Validation acc. is : 79.63.\n",
      "Training loss at epoch 138 is : ltsu 0.46, ltss 0.70, lttu 0.01, ltts 0.30, lttuda 0.42. Validation loss is : 0.73. Validation acc. is : 80.17.\n",
      "Training loss at epoch 139 is : ltsu 0.46, ltss 0.72, lttu 0.01, ltts 0.31, lttuda 0.41. Validation loss is : 0.74. Validation acc. is : 79.27.\n",
      "Training loss at epoch 140 is : ltsu 0.46, ltss 0.70, lttu 0.00, ltts 0.30, lttuda 0.42. Validation loss is : 0.76. Validation acc. is : 79.75.\n",
      "Training loss at epoch 141 is : ltsu 0.46, ltss 0.71, lttu 0.01, ltts 0.30, lttuda 0.41. Validation loss is : 0.73. Validation acc. is : 80.13.\n",
      "Training loss at epoch 142 is : ltsu 0.45, ltss 0.71, lttu 0.01, ltts 0.29, lttuda 0.41. Validation loss is : 0.92. Validation acc. is : 77.46.\n",
      "Training loss at epoch 143 is : ltsu 0.45, ltss 0.70, lttu 0.01, ltts 0.29, lttuda 0.41. Validation loss is : 0.81. Validation acc. is : 78.52.\n",
      "Training loss at epoch 144 is : ltsu 0.44, ltss 0.73, lttu 0.00, ltts 0.31, lttuda 0.41. Validation loss is : 0.74. Validation acc. is : 80.51.\n",
      "Training loss at epoch 145 is : ltsu 0.45, ltss 0.70, lttu 0.01, ltts 0.29, lttuda 0.42. Validation loss is : 0.83. Validation acc. is : 77.93.\n",
      "Training loss at epoch 146 is : ltsu 0.45, ltss 0.71, lttu 0.01, ltts 0.29, lttuda 0.40. Validation loss is : 0.70. Validation acc. is : 80.54.\n",
      "Training loss at epoch 147 is : ltsu 0.45, ltss 0.71, lttu 0.01, ltts 0.30, lttuda 0.41. Validation loss is : 0.78. Validation acc. is : 79.95.\n",
      "Training loss at epoch 148 is : ltsu 0.43, ltss 0.72, lttu 0.01, ltts 0.28, lttuda 0.41. Validation loss is : 0.77. Validation acc. is : 79.72.\n",
      "Training loss at epoch 149 is : ltsu 0.44, ltss 0.70, lttu 0.01, ltts 0.29, lttuda 0.40. Validation loss is : 0.75. Validation acc. is : 79.70.\n",
      "Training loss at epoch 150 is : ltsu 0.44, ltss 0.71, lttu 0.01, ltts 0.30, lttuda 0.41. Validation loss is : 0.73. Validation acc. is : 80.79.\n",
      "Training loss at epoch 151 is : ltsu 0.44, ltss 0.69, lttu 0.00, ltts 0.28, lttuda 0.41. Validation loss is : 0.70. Validation acc. is : 79.90.\n",
      "Training loss at epoch 152 is : ltsu 0.44, ltss 0.70, lttu 0.02, ltts 0.29, lttuda 0.41. Validation loss is : 0.67. Validation acc. is : 79.63.\n",
      "Training loss at epoch 153 is : ltsu 0.44, ltss 0.69, lttu 0.01, ltts 0.29, lttuda 0.41. Validation loss is : 0.79. Validation acc. is : 79.36.\n",
      "Training loss at epoch 154 is : ltsu 0.43, ltss 0.70, lttu 0.01, ltts 0.29, lttuda 0.40. Validation loss is : 0.81. Validation acc. is : 79.57.\n",
      "Training loss at epoch 155 is : ltsu 0.42, ltss 0.71, lttu 0.01, ltts 0.29, lttuda 0.39. Validation loss is : 0.78. Validation acc. is : 79.55.\n",
      "Training loss at epoch 156 is : ltsu 0.43, ltss 0.69, lttu 0.00, ltts 0.28, lttuda 0.39. Validation loss is : 0.78. Validation acc. is : 80.28.\n",
      "Training loss at epoch 157 is : ltsu 0.44, ltss 0.71, lttu 0.01, ltts 0.29, lttuda 0.41. Validation loss is : 0.74. Validation acc. is : 80.05.\n",
      "Training loss at epoch 158 is : ltsu 0.43, ltss 0.71, lttu 0.00, ltts 0.28, lttuda 0.40. Validation loss is : 0.77. Validation acc. is : 80.16.\n",
      "Training loss at epoch 159 is : ltsu 0.42, ltss 0.71, lttu 0.01, ltts 0.28, lttuda 0.39. Validation loss is : 0.74. Validation acc. is : 80.45.\n",
      "Training loss at epoch 160 is : ltsu 0.43, ltss 0.69, lttu 0.01, ltts 0.26, lttuda 0.40. Validation loss is : 0.77. Validation acc. is : 79.85.\n",
      "Training loss at epoch 161 is : ltsu 0.42, ltss 0.70, lttu 0.01, ltts 0.28, lttuda 0.39. Validation loss is : 0.75. Validation acc. is : 79.84.\n",
      "Training loss at epoch 162 is : ltsu 0.42, ltss 0.69, lttu 0.00, ltts 0.28, lttuda 0.39. Validation loss is : 0.72. Validation acc. is : 80.24.\n",
      "Training loss at epoch 163 is : ltsu 0.41, ltss 0.69, lttu 0.01, ltts 0.26, lttuda 0.38. Validation loss is : 0.79. Validation acc. is : 80.44.\n",
      "Training loss at epoch 164 is : ltsu 0.41, ltss 0.69, lttu 0.01, ltts 0.28, lttuda 0.39. Validation loss is : 0.80. Validation acc. is : 79.73.\n",
      "Training loss at epoch 165 is : ltsu 0.42, ltss 0.70, lttu 0.01, ltts 0.27, lttuda 0.39. Validation loss is : 0.70. Validation acc. is : 80.54.\n",
      "Training loss at epoch 166 is : ltsu 0.40, ltss 0.69, lttu 0.01, ltts 0.27, lttuda 0.39. Validation loss is : 0.77. Validation acc. is : 80.67.\n",
      "Training loss at epoch 167 is : ltsu 0.40, ltss 0.71, lttu 0.00, ltts 0.27, lttuda 0.38. Validation loss is : 0.75. Validation acc. is : 80.41.\n",
      "Training loss at epoch 168 is : ltsu 0.40, ltss 0.69, lttu 0.00, ltts 0.27, lttuda 0.38. Validation loss is : 0.77. Validation acc. is : 79.73.\n",
      "Training loss at epoch 169 is : ltsu 0.41, ltss 0.70, lttu 0.00, ltts 0.27, lttuda 0.39. Validation loss is : 0.84. Validation acc. is : 78.98.\n",
      "Training loss at epoch 170 is : ltsu 0.40, ltss 0.69, lttu 0.01, ltts 0.27, lttuda 0.38. Validation loss is : 0.80. Validation acc. is : 80.03.\n",
      "Training loss at epoch 171 is : ltsu 0.39, ltss 0.69, lttu 0.00, ltts 0.26, lttuda 0.39. Validation loss is : 0.80. Validation acc. is : 79.49.\n",
      "Training loss at epoch 172 is : ltsu 0.40, ltss 0.69, lttu 0.01, ltts 0.28, lttuda 0.38. Validation loss is : 0.79. Validation acc. is : 79.49.\n",
      "Training loss at epoch 173 is : ltsu 0.40, ltss 0.69, lttu 0.01, ltts 0.25, lttuda 0.38. Validation loss is : 0.77. Validation acc. is : 80.54.\n",
      "Training loss at epoch 174 is : ltsu 0.40, ltss 0.70, lttu 0.01, ltts 0.26, lttuda 0.38. Validation loss is : 0.77. Validation acc. is : 80.19.\n",
      "**** SSL training done. Beginning finetuning of the student model. ****\n",
      "Training loss at epoch 0 is : 0.61. Validation loss is : 0.56. Validation acc. is : 82.28.\n",
      "Training loss at epoch 1 is : 0.56. Validation loss is : 0.55. Validation acc. is : 82.48.\n",
      "Training loss at epoch 2 is : 0.52. Validation loss is : 0.57. Validation acc. is : 82.39.\n",
      "Training loss at epoch 3 is : 0.49. Validation loss is : 0.57. Validation acc. is : 82.53.\n",
      "Training loss at epoch 4 is : 0.47. Validation loss is : 0.58. Validation acc. is : 82.76.\n",
      "Training loss at epoch 5 is : 0.44. Validation loss is : 0.61. Validation acc. is : 82.36.\n",
      "Training loss at epoch 6 is : 0.44. Validation loss is : 0.59. Validation acc. is : 82.89.\n",
      "Training loss at epoch 7 is : 0.41. Validation loss is : 0.62. Validation acc. is : 82.58.\n",
      "Training loss at epoch 8 is : 0.40. Validation loss is : 0.62. Validation acc. is : 82.54.\n",
      "Training loss at epoch 9 is : 0.37. Validation loss is : 0.65. Validation acc. is : 82.54.\n",
      "Training loss at epoch 10 is : 0.37. Validation loss is : 0.67. Validation acc. is : 82.79.\n",
      "Training loss at epoch 11 is : 0.36. Validation loss is : 0.69. Validation acc. is : 82.70.\n",
      "Training loss at epoch 12 is : 0.34. Validation loss is : 0.72. Validation acc. is : 82.18.\n",
      "Training loss at epoch 13 is : 0.35. Validation loss is : 0.69. Validation acc. is : 82.28.\n",
      "Training loss at epoch 14 is : 0.33. Validation loss is : 0.72. Validation acc. is : 82.35.\n",
      "Training loss at epoch 15 is : 0.32. Validation loss is : 0.76. Validation acc. is : 82.67.\n",
      "Training loss at epoch 16 is : 0.33. Validation loss is : 0.72. Validation acc. is : 82.68.\n",
      "Training loss at epoch 17 is : 0.32. Validation loss is : 0.72. Validation acc. is : 82.77.\n",
      "Training loss at epoch 18 is : 0.32. Validation loss is : 0.72. Validation acc. is : 82.80.\n",
      "Training loss at epoch 19 is : 0.32. Validation loss is : 0.78. Validation acc. is : 82.52.\n",
      "Training loss at epoch 20 is : 0.31. Validation loss is : 0.76. Validation acc. is : 82.82.\n",
      "Training loss at epoch 21 is : 0.31. Validation loss is : 0.75. Validation acc. is : 82.87.\n",
      "Training loss at epoch 22 is : 0.29. Validation loss is : 0.79. Validation acc. is : 82.89.\n",
      "Training loss at epoch 23 is : 0.29. Validation loss is : 0.77. Validation acc. is : 82.84.\n",
      "Training loss at epoch 24 is : 0.30. Validation loss is : 0.77. Validation acc. is : 82.75.\n"
     ]
    }
   ],
   "source": [
    "trainer.train()"
   ]
  },
  {
   "cell_type": "code",
   "execution_count": null,
   "metadata": {},
   "outputs": [],
   "source": []
  }
 ],
 "metadata": {
  "interpreter": {
   "hash": "0dadcd243d7a81fb679ed94fa0b3507371cb4f0217aac2cbcd3d9c4ad08fe2a2"
  },
  "kernelspec": {
   "display_name": "Python 3 (ipykernel)",
   "language": "python",
   "name": "python3"
  },
  "language_info": {
   "codemirror_mode": {
    "name": "ipython",
    "version": 3
   },
   "file_extension": ".py",
   "mimetype": "text/x-python",
   "name": "python",
   "nbconvert_exporter": "python",
   "pygments_lexer": "ipython3",
   "version": "3.9.13"
  }
 },
 "nbformat": 4,
 "nbformat_minor": 4
}
